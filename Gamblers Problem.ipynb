{
 "cells": [
  {
   "cell_type": "markdown",
   "metadata": {
    "collapsed": true
   },
   "source": [
    "### This is Example 4.3. Gambler’s Problem from Sutton's book.\n",
    "\n",
    "A gambler has the opportunity to make bets on the outcomes of a sequence of coin flips. \n",
    "If the coin comes up heads, he wins as many dollars as he has staked on that flip; \n",
    "if it is tails, he loses his stake. The game ends when the gambler wins by reaching his goal of $100, \n",
    "or loses by running out of money. \n",
    "\n",
    "On each flip, the gambler must decide what portion of his capital to stake, in integer numbers of dollars. \n",
    "This problem can be formulated as an undiscounted, episodic, finite MDP. \n",
    "\n",
    "The state is the gambler’s capital, s ∈ {1, 2, . . . , 99}.\n",
    "The actions are stakes, a ∈ {0, 1, . . . , min(s, 100 − s)}. \n",
    "The reward is zero on all transitions except those on which the gambler reaches his goal, when it is +1.\n",
    "\n",
    "The state-value function then gives the probability of winning from each state. A policy is a mapping from levels of capital to stakes. The optimal policy maximizes the probability of reaching the goal. Let p_h denote the probability of the coin coming up heads. If p_h is known, then the entire problem is known and it can be solved, for instance, by value iteration.\n"
   ]
  },
  {
   "cell_type": "code",
   "execution_count": 1,
   "metadata": {},
   "outputs": [],
   "source": [
    "import numpy as np\n",
    "import sys\n",
    "import matplotlib.pyplot as plt\n",
    "if \"../\" not in sys.path:\n",
    "  sys.path.append(\"../\") "
   ]
  },
  {
   "cell_type": "markdown",
   "metadata": {
    "collapsed": true
   },
   "source": [
    "\n",
    "### Exercise 4.9 (programming)\n",
    "\n",
    "Implement value iteration for the gambler’s problem and solve it for p_h = 0.25 and p_h = 0.55.\n",
    "\n"
   ]
  },
  {
   "cell_type": "code",
   "execution_count": 2,
   "metadata": {},
   "outputs": [],
   "source": [
    "def value_iteration_for_gamblers(p_h, theta=0.0001, discount_factor=1.0):\n",
    "    \"\"\"\n",
    "    Args:\n",
    "        p_h: Probability of the coin coming up heads\n",
    "    \"\"\"\n",
    "    \n",
    "    def one_step_lookahead(s, V, rewards):\n",
    "        \"\"\"\n",
    "        Helper function to calculate the value for all action in a given state.\n",
    "        \n",
    "        Args:\n",
    "            s: The gambler’s capital. Integer.\n",
    "            V: The vector that contains values at each state. \n",
    "            rewards: The reward vector.\n",
    "                        \n",
    "        Returns:\n",
    "            A vector containing the expected value of each action. \n",
    "            Its length equals to the number of actions.\n",
    "        \"\"\"\n",
    "        \n",
    "        # Implement!\n",
    "        \n",
    "        return A\n",
    "    \n",
    "    # Implement!\n",
    "    \n",
    "    return policy, V"
   ]
  },
  {
   "cell_type": "code",
   "execution_count": 3,
   "metadata": {},
   "outputs": [
    {
     "name": "stdout",
     "output_type": "stream",
     "text": [
      "Optimal Policy:\n",
      "[1 1 1 1 1 1 1 1 1 1 1 1 1 1 1 1 1 1 1 1 1 1 1 1 1 1 1 1 1 1 1 1 1 1 1 1 1\n",
      " 1 1 1 1 1 1 1 1 1 1 1 1 1 1 1 1 1 1 1 1 1 1 1 1 1 1 1 1 1 1 1 1 1 1 1 1 1\n",
      " 1 1 1 1 1 1 1 1 1 1 1 1 1 1 1 1 1 1 1 1 1 1 1 1 1]\n",
      "\n",
      "Optimal Value Function:\n",
      "[ 0.5         1.          1.5         2.          2.5         3.\n",
      "  3.5         4.          4.5         5.          5.5         6.\n",
      "  6.5         7.          7.5         8.          8.5         9.\n",
      "  9.5        10.         10.5        11.         11.5        12.\n",
      " 12.5        13.         13.5        14.         14.5        15.\n",
      " 15.5        16.         16.5        17.         17.5        18.\n",
      " 18.5        19.         19.5        20.         20.5        21.\n",
      " 21.5        22.         22.5        23.         23.5        24.\n",
      " 24.5        25.         25.5        26.         26.5        27.\n",
      " 27.5        28.         28.5        29.         29.5        30.\n",
      " 30.5        31.         31.5        32.         32.49999999 32.99999999\n",
      " 33.49999999 33.99999999 34.49999999 34.99999998 35.49999998 35.99999997\n",
      " 36.49999997 36.99999996 37.49999995 37.99999994 38.49999992 38.9999999\n",
      " 39.49999987 39.99999984 40.49999977 40.99999964 41.49999933 41.9999985\n",
      " 42.4999961  42.99998904 43.49996802 43.99990516 44.49971683 44.99915214\n",
      " 45.4974584  45.99237761 46.47713572 46.93141063 47.29423605 47.38271305\n",
      " 46.6481449  43.44444126 32.83333095]\n"
     ]
    }
   ],
   "source": [
    "import numpy as np\n",
    "\n",
    "def value_iteration_for_gamblers(p_h, theta=1e-6, max_iters=1000):\n",
    "    # Number of states (capital levels)\n",
    "    n_states = 101\n",
    "    # Initialize the value function\n",
    "    V = np.zeros(n_states)\n",
    "    # Initialize the policy (stake)\n",
    "    policy = np.zeros(n_states, dtype=int)\n",
    "    \n",
    "    for _ in range(max_iters):\n",
    "        delta = 0\n",
    "        for s in range(1, n_states - 1):\n",
    "            best_action_value = 0\n",
    "            for a in range(1, min(s, 100 - s) + 1):\n",
    "                # Calculate the expected return for each action\n",
    "                heads_result = p_h * (V[s + a] + 1)\n",
    "                tails_result = (1 - p_h) * V[s - a]\n",
    "                action_value = heads_result + tails_result\n",
    "\n",
    "                if action_value > best_action_value:\n",
    "                    best_action_value = action_value\n",
    "                    policy[s] = a\n",
    "\n",
    "            # Update the value function\n",
    "            delta = max(delta, abs(V[s] - best_action_value))\n",
    "            V[s] = best_action_value\n",
    "\n",
    "        if delta < theta:\n",
    "            break\n",
    "    \n",
    "    return policy, V\n",
    "\n",
    "# Set the probability of heads (p_h)\n",
    "p_h = 0.25\n",
    "# Call the function to find the optimal policy and state-value function\n",
    "optimal_policy, optimal_value = value_iteration_for_gamblers(p_h)\n",
    "\n",
    "# Print the results\n",
    "print(\"Optimal Policy:\")\n",
    "print(optimal_policy[1:100])  # Exclude the 0 and 100 capital levels\n",
    "print(\"\")\n",
    "\n",
    "print(\"Optimal Value Function:\")\n",
    "print(optimal_value[1:100])  # Exclude the 0 and 100 capital levels\n"
   ]
  },
  {
   "cell_type": "code",
   "execution_count": 4,
   "metadata": {},
   "outputs": [
    {
     "data": {
      "image/png": "[encoded data removed]",
      "text/plain": [
       "<Figure size 640x480 with 1 Axes>"
      ]
     },
     "metadata": {},
     "output_type": "display_data"
    }
   ],
   "source": [
    "# Plotting Final Policy (action stake) vs State (Capital)\n",
    "\n",
    "# Implement!\n",
    "import matplotlib.pyplot as plt\n",
    "import numpy as np\n",
    "\n",
    "# Example policy (replace with your actual policy)\n",
    "policy = np.array([0, 1, 1, 0, 1, 1, 1, 0, 0, 1, 1, 0, 1, 0, 0, 1])\n",
    "\n",
    "# States (capital)\n",
    "states = np.arange(len(policy))\n",
    "\n",
    "# Actions (0 or 1)\n",
    "actions = policy\n",
    "\n",
    "# Create a bar plot\n",
    "plt.bar(states, actions, align='center', alpha=0.7)\n",
    "plt.xlabel('State (Capital)')\n",
    "plt.ylabel('Action (0: No Bet, 1: Bet)')\n",
    "plt.title('Final Policy')\n",
    "plt.xticks(states)\n",
    "plt.show()\n"
   ]
  },
  {
   "cell_type": "code",
   "execution_count": 5,
   "metadata": {},
   "outputs": [
    {
     "data": {
      "image/png": "[encoded data removed]",
      "text/plain": [
       "<Figure size 640x480 with 1 Axes>"
      ]
     },
     "metadata": {},
     "output_type": "display_data"
    }
   ],
   "source": [
    "# Plotting Capital vs Final Policy\n",
    "\n",
    "# Implement!\n",
    "import matplotlib.pyplot as plt\n",
    "import numpy as np\n",
    "\n",
    "# Example policy (replace with your actual policy)\n",
    "policy = np.array([0, 1, 1, 0, 1, 1, 1, 0, 0, 1, 1, 0, 1, 0, 0, 1])\n",
    "\n",
    "# States (capital)\n",
    "states = np.arange(len(policy))\n",
    "\n",
    "# Create a bar plot\n",
    "plt.bar(policy, states, align='center', alpha=0.7)\n",
    "plt.xlabel('Final Policy (0: No Bet, 1: Bet)')\n",
    "plt.ylabel('State (Capital)')\n",
    "plt.title('Capital vs Final Policy')\n",
    "plt.xticks([0, 1], ['No Bet', 'Bet'])\n",
    "plt.show()\n",
    "\n"
   ]
  },
  {
   "cell_type": "code",
   "execution_count": null,
   "metadata": {},
   "outputs": [],
   "source": []
  }
 ],
 "metadata": {
  "kernelspec": {
   "display_name": "Python 3 (ipykernel)",
   "language": "python",
   "name": "python3"
  },
  "language_info": {
   "codemirror_mode": {
    "name": "ipython",
    "version": 3
   },
   "file_extension": ".py",
   "mimetype": "text/x-python",
   "name": "python",
   "nbconvert_exporter": "python",
   "pygments_lexer": "ipython3",
   "version": "3.11.4"
  }
 },
 "nbformat": 4,
 "nbformat_minor": 1
}

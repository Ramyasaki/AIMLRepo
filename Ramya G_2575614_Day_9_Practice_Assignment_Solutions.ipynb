{
 "cells": [
  {
   "cell_type": "markdown",
   "id": "c4a304f3",
   "metadata": {},
   "source": [
    "# 1.create a 3x3x3 array with random values"
   ]
  },
  {
   "cell_type": "code",
   "execution_count": 15,
   "id": "6a5d1acd",
   "metadata": {},
   "outputs": [
    {
     "name": "stdout",
     "output_type": "stream",
     "text": [
      "[[[0.85689929 0.85808088 0.00337572]\n",
      "  [0.48923547 0.63882506 0.96427252]\n",
      "  [0.3867657  0.40397985 0.66653074]]\n",
      "\n",
      " [[0.66658034 0.03866485 0.84670099]\n",
      "  [0.41779362 0.980793   0.81987913]\n",
      "  [0.17624479 0.41930181 0.26522383]]\n",
      "\n",
      " [[0.13439508 0.18407775 0.08309184]\n",
      "  [0.24048826 0.97511493 0.10494546]\n",
      "  [0.26026026 0.68844906 0.00132112]]]\n"
     ]
    }
   ],
   "source": [
    "import numpy as np\n",
    "\n",
    "# Create a 3x3x3 array with random values between 0 and 1\n",
    "random_array = np.random.rand(3, 3, 3)\n",
    "\n",
    "print(random_array)\n"
   ]
  },
  {
   "cell_type": "markdown",
   "id": "28563320",
   "metadata": {},
   "source": [
    "# 2.create a 5x5 matrix with values 1,2,3,4 just below the diagonal"
   ]
  },
  {
   "cell_type": "code",
   "execution_count": 16,
   "id": "2cb7129b",
   "metadata": {},
   "outputs": [
    {
     "name": "stdout",
     "output_type": "stream",
     "text": [
      "[[0. 0. 0. 0. 0.]\n",
      " [1. 0. 0. 0. 0.]\n",
      " [0. 2. 0. 0. 0.]\n",
      " [0. 0. 3. 0. 0.]\n",
      " [0. 0. 0. 4. 0.]]\n"
     ]
    }
   ],
   "source": [
    "import numpy as np\n",
    "\n",
    "# Create a 5x5 matrix filled with zeros\n",
    "matrix = np.zeros((5, 5))\n",
    "\n",
    "# Set values 1, 2, 3, 4 just below the diagonal\n",
    "values = [1, 2, 3, 4]\n",
    "for i in range(1, 5):\n",
    "    matrix[i, i - 1] = values[i - 1]\n",
    "\n",
    "print(matrix)\n"
   ]
  },
  {
   "cell_type": "markdown",
   "id": "1d5bb6cf",
   "metadata": {},
   "source": [
    "# 3.create a 8x8 matrix and fill it with a checker board pattern"
   ]
  },
  {
   "cell_type": "code",
   "execution_count": 17,
   "id": "e0ac489c",
   "metadata": {},
   "outputs": [
    {
     "name": "stdout",
     "output_type": "stream",
     "text": [
      "[[0. 1. 0. 1. 0. 1. 0. 1.]\n",
      " [1. 0. 1. 0. 1. 0. 1. 0.]\n",
      " [0. 1. 0. 1. 0. 1. 0. 1.]\n",
      " [1. 0. 1. 0. 1. 0. 1. 0.]\n",
      " [0. 1. 0. 1. 0. 1. 0. 1.]\n",
      " [1. 0. 1. 0. 1. 0. 1. 0.]\n",
      " [0. 1. 0. 1. 0. 1. 0. 1.]\n",
      " [1. 0. 1. 0. 1. 0. 1. 0.]]\n"
     ]
    }
   ],
   "source": [
    "import numpy as np\n",
    "\n",
    "# Create an 8x8 matrix filled with zeros\n",
    "matrix = np.zeros((8, 8))\n",
    "\n",
    "# Use slicing to set alternate rows and columns to 1\n",
    "matrix[1::2, ::2] = 1\n",
    "matrix[::2, 1::2] = 1\n",
    "\n",
    "print(matrix)\n"
   ]
  },
  {
   "cell_type": "markdown",
   "id": "dc77b975",
   "metadata": {},
   "source": [
    "# 4.Normalize a 5x5  random matrix"
   ]
  },
  {
   "cell_type": "code",
   "execution_count": 18,
   "id": "e81e98a8",
   "metadata": {},
   "outputs": [
    {
     "name": "stdout",
     "output_type": "stream",
     "text": [
      "Original Random Matrix:\n",
      "[[0.30210123 0.29903621 0.22180324 0.47163304 0.67199503]\n",
      " [0.99322081 0.56099575 0.44455213 0.51857298 0.92089646]\n",
      " [0.69033668 0.87157587 0.39384422 0.33817285 0.24231791]\n",
      " [0.81096526 0.35211497 0.09969493 0.57819324 0.81316178]\n",
      " [0.92603898 0.58679768 0.89945934 0.78029412 0.54685879]]\n",
      "\n",
      "Normalized Matrix:\n",
      "[[-1.08227289 -1.09450063 -1.40261728 -0.40593516  0.39339789]\n",
      " [ 1.6749103  -0.04942758 -0.51397294 -0.21867086  1.38637633]\n",
      " [ 0.46657087  1.18961455 -0.71626934 -0.93836718 -1.32077513]\n",
      " [ 0.94781189 -0.88274586 -1.88976159  0.01918086  0.95657481]\n",
      " [ 1.40689211  0.05350779  1.30085412  0.82545109 -0.10582618]]\n"
     ]
    }
   ],
   "source": [
    "import numpy as np\n",
    "\n",
    "# Create a 5x5 random matrix\n",
    "random_matrix = np.random.rand(5, 5)\n",
    "\n",
    "# Calculate mean and standard deviation\n",
    "mean = np.mean(random_matrix)\n",
    "std_dev = np.std(random_matrix)\n",
    "\n",
    "# Normalize the matrix\n",
    "normalized_matrix = (random_matrix - mean) / std_dev\n",
    "\n",
    "print(\"Original Random Matrix:\")\n",
    "print(random_matrix)\n",
    "print(\"\\nNormalized Matrix:\")\n",
    "print(normalized_matrix)\n"
   ]
  },
  {
   "cell_type": "markdown",
   "id": "02879502",
   "metadata": {},
   "source": [
    "# 5. How to find common value between two arrays?"
   ]
  },
  {
   "cell_type": "code",
   "execution_count": 19,
   "id": "0c0b9f3c",
   "metadata": {},
   "outputs": [
    {
     "name": "stdout",
     "output_type": "stream",
     "text": [
      "Common values: [3 4 5]\n"
     ]
    }
   ],
   "source": [
    "import numpy as np\n",
    "\n",
    "# Create two NumPy arrays\n",
    "array1 = np.array([1, 2, 3, 4, 5])\n",
    "array2 = np.array([3, 4, 5, 6, 7])\n",
    "\n",
    "# Find common values between the two arrays\n",
    "common_values = np.intersect1d(array1, array2)\n",
    "\n",
    "print(\"Common values:\", common_values)"
   ]
  },
  {
   "cell_type": "markdown",
   "id": "1541f798",
   "metadata": {},
   "source": [
    "# 6. How to get the dates of yesterday, today, tomorrow?"
   ]
  },
  {
   "cell_type": "code",
   "execution_count": 21,
   "id": "b54e8294",
   "metadata": {},
   "outputs": [
    {
     "name": "stdout",
     "output_type": "stream",
     "text": [
      "Yesterday: 2023-09-20\n",
      "Today: 2023-09-21\n",
      "Tomorrow: 2023-09-22\n"
     ]
    }
   ],
   "source": [
    "import numpy as np\n",
    "from datetime import datetime, timedelta\n",
    "\n",
    "# Get the current date (today)\n",
    "today = datetime.now().date()\n",
    "\n",
    "# Calculate yesterday and tomorrow\n",
    "yesterday = today - timedelta(days=1)\n",
    "tomorrow = today + timedelta(days=1)\n",
    "\n",
    "# Create NumPy arrays for the dates\n",
    "dates = np.array([yesterday, today, tomorrow])\n",
    "\n",
    "# Format the dates as strings if needed\n",
    "date_strings = [date.strftime(\"%Y-%m-%d\") for date in dates]\n",
    "\n",
    "print(\"Yesterday:\", date_strings[0])\n",
    "print(\"Today:\", date_strings[1])\n",
    "print(\"Tomorrow:\", date_strings[2])"
   ]
  },
  {
   "cell_type": "markdown",
   "id": "4b301cd8",
   "metadata": {},
   "source": [
    "# 7.consider two random array A and B check if they are equal"
   ]
  },
  {
   "cell_type": "code",
   "execution_count": 37,
   "id": "af091c71",
   "metadata": {},
   "outputs": [
    {
     "name": "stdout",
     "output_type": "stream",
     "text": [
      "Arrays A and B are not equal.\n"
     ]
    }
   ],
   "source": [
    "import numpy as np\n",
    "\n",
    "# Generate two random arrays A and B\n",
    "A = np.random.rand(5, 5)\n",
    "B = np.random.rand(5, 5)\n",
    "\n",
    "# Check if the arrays are equal\n",
    "if np.array_equal(A, B):\n",
    "    print(\"Arrays A and B are equal.\")\n",
    "else:\n",
    "    print(\"Arrays A and B are not equal.\")"
   ]
  },
  {
   "cell_type": "markdown",
   "id": "757e91d1",
   "metadata": {},
   "source": [
    "# 8.create a random vector of size 10 and replace the maximum value by 0"
   ]
  },
  {
   "cell_type": "code",
   "execution_count": 22,
   "id": "ad036af3",
   "metadata": {},
   "outputs": [
    {
     "name": "stdout",
     "output_type": "stream",
     "text": [
      "Random Vector:\n",
      "[0.21840062 0.44774963 0.34138071 0.00304264 0.95406816 0.73904118\n",
      " 0.95503512 0.         0.26775025 0.13697364]\n"
     ]
    }
   ],
   "source": [
    "import numpy as np\n",
    "\n",
    "# Create a random vector of size 10\n",
    "random_vector = np.random.rand(10)\n",
    "\n",
    "# Find the index of the maximum value in the vector\n",
    "max_index = np.argmax(random_vector)\n",
    "\n",
    "# Replace the maximum value with 0\n",
    "random_vector[max_index] = 0\n",
    "\n",
    "print(\"Random Vector:\")\n",
    "print(random_vector)\n"
   ]
  },
  {
   "cell_type": "markdown",
   "id": "f00c1c30",
   "metadata": {},
   "source": [
    "# 9. How to print all the values of an array?"
   ]
  },
  {
   "cell_type": "code",
   "execution_count": 24,
   "id": "1d387362",
   "metadata": {},
   "outputs": [
    {
     "name": "stdout",
     "output_type": "stream",
     "text": [
      "1\n",
      "2\n",
      "3\n",
      "4\n",
      "5\n"
     ]
    }
   ],
   "source": [
    "import numpy as np\n",
    "\n",
    "# Create a NumPy array\n",
    "my_array = np.array([1, 2, 3, 4, 5])\n",
    "\n",
    "# Iterate through the array and print each value\n",
    "for value in my_array:\n",
    "    print(value)"
   ]
  },
  {
   "cell_type": "markdown",
   "id": "b37a2e55",
   "metadata": {},
   "source": [
    "# 10.subtract the mean of each row of a matrix"
   ]
  },
  {
   "cell_type": "code",
   "execution_count": 23,
   "id": "675ee2a8",
   "metadata": {},
   "outputs": [
    {
     "name": "stdout",
     "output_type": "stream",
     "text": [
      "Original Matrix:\n",
      "[[1 2 3]\n",
      " [4 5 6]\n",
      " [7 8 9]]\n",
      "\n",
      "Matrix with Row Means Subtracted:\n",
      "[[-1.  0.  1.]\n",
      " [-1.  0.  1.]\n",
      " [-1.  0.  1.]]\n"
     ]
    }
   ],
   "source": [
    "import numpy as np\n",
    "\n",
    "# Create a sample matrix (you can replace this with your own matrix)\n",
    "matrix = np.array([[1, 2, 3],\n",
    "                   [4, 5, 6],\n",
    "                   [7, 8, 9]])\n",
    "\n",
    "# Calculate the mean of each row\n",
    "row_means = np.mean(matrix, axis=1, keepdims=True)\n",
    "\n",
    "# Subtract the row means from the matrix using broadcasting\n",
    "normalized_matrix = matrix - row_means\n",
    "\n",
    "print(\"Original Matrix:\")\n",
    "print(matrix)\n",
    "print(\"\\nMatrix with Row Means Subtracted:\")\n",
    "print(normalized_matrix)\n"
   ]
  },
  {
   "cell_type": "markdown",
   "id": "1e91465b",
   "metadata": {},
   "source": [
    "# 11.consider a given vector how to add 1 to each element indexed by a second vector(be careful with repeated indices)?"
   ]
  },
  {
   "cell_type": "code",
   "execution_count": 25,
   "id": "de1ad7ae",
   "metadata": {},
   "outputs": [
    {
     "name": "stdout",
     "output_type": "stream",
     "text": [
      "Given Vector:\n",
      "[10 21 31 42 51]\n"
     ]
    }
   ],
   "source": [
    "import numpy as np\n",
    "\n",
    "# Given vector\n",
    "given_vector = np.array([10, 20, 30, 40, 50])\n",
    "\n",
    "# Second vector with indices\n",
    "indices_to_add_1 = np.array([1, 2, 3, 3, 4])\n",
    "\n",
    "# Find unique indices and their counts\n",
    "unique_indices, counts = np.unique(indices_to_add_1, return_counts=True)\n",
    "\n",
    "# Add 1 to each element at the unique indices\n",
    "given_vector[unique_indices] += counts\n",
    "\n",
    "print(\"Given Vector:\")\n",
    "print(given_vector)"
   ]
  },
  {
   "cell_type": "markdown",
   "id": "3cecad5f",
   "metadata": {},
   "source": [
    "# 12. How to get a diagonal of dot product?"
   ]
  },
  {
   "cell_type": "code",
   "execution_count": 29,
   "id": "6ac21dce",
   "metadata": {},
   "outputs": [
    {
     "name": "stdout",
     "output_type": "stream",
     "text": [
      "Dot Product:\n",
      "[[19 22]\n",
      " [43 50]]\n",
      "\n",
      "Diagonal Elements:\n",
      "[19 50]\n"
     ]
    }
   ],
   "source": [
    "import numpy as np\n",
    "\n",
    "# Create two matrices\n",
    "matrix1 = np.array([[1, 2], [3, 4]])\n",
    "matrix2 = np.array([[5, 6], [7, 8]])\n",
    "\n",
    "# Compute the dot product of the two matrices\n",
    "dot_product = np.dot(matrix1, matrix2)\n",
    "\n",
    "# Extract the diagonal elements using np.diag\n",
    "diagonal_elements = np.diag(dot_product)\n",
    "\n",
    "print(\"Dot Product:\")\n",
    "print(dot_product)\n",
    "\n",
    "print(\"\\nDiagonal Elements:\")\n",
    "print(diagonal_elements)"
   ]
  },
  {
   "cell_type": "markdown",
   "id": "6a5823d4",
   "metadata": {},
   "source": [
    "# 13.How to find the most frequent value in an array?"
   ]
  },
  {
   "cell_type": "code",
   "execution_count": 31,
   "id": "0ae2aa3d",
   "metadata": {},
   "outputs": [
    {
     "name": "stdout",
     "output_type": "stream",
     "text": [
      "Most frequent value: 0\n"
     ]
    }
   ],
   "source": [
    "import numpy as np\n",
    "\n",
    "# Create a NumPy array (you can replace this with your own array)\n",
    "arr = np.array([0,10,50])\n",
    "\n",
    "# Find the most frequent value\n",
    "most_frequent_value = np.bincount(arr).argmax()\n",
    "\n",
    "print(\"Most frequent value:\", most_frequent_value)\n"
   ]
  },
  {
   "cell_type": "markdown",
   "id": "921132c3",
   "metadata": {},
   "source": [
    "# 14.How to get the n largest values of an array"
   ]
  },
  {
   "cell_type": "code",
   "execution_count": 27,
   "id": "b118eba5",
   "metadata": {},
   "outputs": [
    {
     "name": "stdout",
     "output_type": "stream",
     "text": [
      "N largest values: [7 8 9]\n"
     ]
    }
   ],
   "source": [
    "import numpy as np\n",
    "\n",
    "# Create a NumPy array (you can replace this with your own array)\n",
    "arr = np.array([5, 2, 8, 1, 9, 3, 7, 4, 6])\n",
    "\n",
    "# Get the n largest values (e.g., n=3)\n",
    "n = 3\n",
    "n_largest_values = np.partition(arr, -n)[-n:]\n",
    "\n",
    "print(\"N largest values:\", n_largest_values)\n"
   ]
  },
  {
   "cell_type": "markdown",
   "id": "c32ff5ac",
   "metadata": {},
   "source": [
    "# 15.How to create a record array from a regular array?"
   ]
  },
  {
   "cell_type": "code",
   "execution_count": 28,
   "id": "6baf3e2a",
   "metadata": {
    "scrolled": true
   },
   "outputs": [
    {
     "name": "stdout",
     "output_type": "stream",
     "text": [
      "ID: [1 2 3]\n",
      "Name: ['Alice' 'Bob' 'Charlie']\n",
      "Age: [25 30 22]\n"
     ]
    }
   ],
   "source": [
    "import numpy as np\n",
    "\n",
    "# Create a regular array\n",
    "regular_array = np.array([(1, 'Alice', 25),\n",
    "                          (2, 'Bob', 30),\n",
    "                          (3, 'Charlie', 22)],\n",
    "                         dtype=[('ID', int), ('Name', 'U10'), ('Age', int)])\n",
    "\n",
    "# 'ID', 'Name', and 'Age' are the field names, and their data types are specified.\n",
    "\n",
    "# Accessing data in the record array\n",
    "print(\"ID:\", regular_array['ID'])\n",
    "print(\"Name:\", regular_array['Name'])\n",
    "print(\"Age:\", regular_array['Age'])\n"
   ]
  },
  {
   "cell_type": "markdown",
   "id": "72489e3f",
   "metadata": {},
   "source": [
    "# 16. How to swap two rows of an array?"
   ]
  },
  {
   "cell_type": "code",
   "execution_count": 35,
   "id": "3240fc11",
   "metadata": {},
   "outputs": [
    {
     "name": "stdout",
     "output_type": "stream",
     "text": [
      "[[4 5 6]\n",
      " [4 5 6]\n",
      " [7 8 9]]\n"
     ]
    }
   ],
   "source": [
    "import numpy as np\n",
    "\n",
    "# Create a NumPy array\n",
    "my_array = np.array([[1, 2, 3],\n",
    "                     [4, 5, 6],\n",
    "                     [7, 8, 9]])\n",
    "\n",
    "# Swap rows (for example, swapping row 0 and row 1)\n",
    "my_array[0, :], my_array[1, :] = my_array[1, :], my_array[0, :]\n",
    "\n",
    "# Print the modified array\n",
    "print(my_array)"
   ]
  },
  {
   "cell_type": "markdown",
   "id": "908e11f3",
   "metadata": {},
   "source": [
    "# 17.write python code to reshape to the next dimension of numpy array?"
   ]
  },
  {
   "cell_type": "code",
   "execution_count": 34,
   "id": "abe90c08",
   "metadata": {},
   "outputs": [
    {
     "name": "stdout",
     "output_type": "stream",
     "text": [
      "[[ 23  34 121  23  22  67 686 434 123]]\n"
     ]
    }
   ],
   "source": [
    "import numpy as np\n",
    "\n",
    "# Create the original NumPy array\n",
    "x = np.array([[23, 34, 121], [23, 22, 67], [686, 434, 123]])\n",
    "\n",
    "# Reshape to the next dimension (1x9)\n",
    "reshaped_array = x.reshape(1, -1)\n",
    "\n",
    "# Print the reshaped array\n",
    "print(reshaped_array)\n"
   ]
  }
 ],
 "metadata": {
  "kernelspec": {
   "display_name": "Python 3 (ipykernel)",
   "language": "python",
   "name": "python3"
  },
  "language_info": {
   "codemirror_mode": {
    "name": "ipython",
    "version": 3
   },
   "file_extension": ".py",
   "mimetype": "text/x-python",
   "name": "python",
   "nbconvert_exporter": "python",
   "pygments_lexer": "ipython3",
   "version": "3.11.4"
  }
 },
 "nbformat": 4,
 "nbformat_minor": 5
}

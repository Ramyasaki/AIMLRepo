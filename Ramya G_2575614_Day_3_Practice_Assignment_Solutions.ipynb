{
 "cells": [
  {
   "cell_type": "markdown",
   "id": "df62230f",
   "metadata": {},
   "source": [
    "# 2.Print all numbers present in the text file and print the number of blank spaces in that file"
   ]
  },
  {
   "cell_type": "code",
   "execution_count": 3,
   "id": "1bc84bfb",
   "metadata": {},
   "outputs": [
    {
     "name": "stdout",
     "output_type": "stream",
     "text": [
      "Numbers in the file: ['1', '2', '17', '28', '77']\n",
      "Number of blank spaces in the file: 149\n"
     ]
    }
   ],
   "source": [
    "# Define a function to extract numbers from a text file\n",
    "def extract_numbers_from_file(file_path):\n",
    "    with open(file_path, 'r') as file:\n",
    "        content = file.read()\n",
    "        numbers = [word for word in content.split() if word.isdigit()]\n",
    "        return numbers\n",
    "\n",
    "# Define a function to count blank spaces in a text file\n",
    "def count_blank_spaces(file_path):\n",
    "    with open(file_path, 'r') as file:\n",
    "        content = file.read()\n",
    "        blank_space_count = content.count(' ')\n",
    "        return blank_space_count\n",
    "\n",
    "# Replace 'your_file.txt' with the actual path to your text file\n",
    "file_path = 'ramya.txt'\n",
    "\n",
    "# Extract numbers from the file and count blank spaces\n",
    "numbers = extract_numbers_from_file(file_path)\n",
    "blank_space_count = count_blank_spaces(file_path)\n",
    "\n",
    "# Print the numbers and the count of blank spaces\n",
    "print(\"Numbers in the file:\", numbers)\n",
    "print(\"Number of blank spaces in the file:\", blank_space_count)"
   ]
  },
  {
   "cell_type": "markdown",
   "id": "4bc0dfd9",
   "metadata": {},
   "source": [
    "# 1.write a python function that copies a file reading and writing up to 50 characters of a time."
   ]
  },
  {
   "cell_type": "code",
   "execution_count": 18,
   "id": "aeab9363",
   "metadata": {},
   "outputs": [
    {
     "name": "stdout",
     "output_type": "stream",
     "text": [
      "source file is copied to destination file,'source.txt'.\n"
     ]
    }
   ],
   "source": [
    "def copy_file_chunked(source_file, destination_file, chunk_size=50):\n",
    "    try:\n",
    "        with open(source_file, 'r') as source:\n",
    "            with open(destination_file, 'w') as destination:\n",
    "                while True:\n",
    "                    chunk = source.read(chunk_size)\n",
    "                    if not chunk:\n",
    "                        break\n",
    "                    destination.write(chunk)\n",
    "    except FileNotFoundError:\n",
    "        print(\"Source file not found.\")\n",
    "    except Exception as e:\n",
    "        print(f\"An error occurred: {e}\")\n",
    "\n",
    "source_file = \"source.txt\"\n",
    "destination_file = \"destination.txt\"\n",
    "copy_file_chunked(source_file, destination_file)\n",
    "print(\"source file is copied to destination file,'source.txt'.\")"
   ]
  },
  {
   "cell_type": "markdown",
   "id": "69267e6a",
   "metadata": {},
   "source": [
    "# 3.write a function called sed that takes as arguments a pattern string a replacement string and two filenames it should read the first file and write the contents into the second file (creating it if necessary) if the pattern string appears anywhere in the file,it should be replaced string. if an error occurs while opening,reading,writing,or closing files your program should catch the exception print an error message and exit."
   ]
  },
  {
   "cell_type": "code",
   "execution_count": 19,
   "id": "2af48015",
   "metadata": {},
   "outputs": [
    {
     "name": "stdout",
     "output_type": "stream",
     "text": [
      "Contents are replaced to second file,'output.txt'.\n"
     ]
    }
   ],
   "source": [
    "def sed(pattern, replacement, source_file, destination_file):\n",
    "    try:\n",
    "        # Read the content of the source file\n",
    "        with open(source_file, 'r') as src_file:\n",
    "            content = src_file.read()\n",
    "\n",
    "        # Replace the pattern with the replacement string\n",
    "        modified_content = content.replace(pattern, replacement)\n",
    "\n",
    "        # Write the modified content to the destination file\n",
    "        with open(destination_file, 'w') as dest_file:\n",
    "            dest_file.write(modified_content)\n",
    "\n",
    "    except FileNotFoundError:\n",
    "        print(f\"File not found: {source_file}\")\n",
    "    except Exception as e:\n",
    "        print(f\"An error occurred: {str(e)}\")\n",
    "\n",
    "# Example usage:\n",
    "pattern = 'old_string'\n",
    "replacement = 'new_string'\n",
    "source_file = 'input.txt'\n",
    "destination_file = 'output.txt'\n",
    "\n",
    "sed(pattern, replacement, source_file, destination_file)\n",
    "print(\"Contents are replaced to second file,'output.txt'.\")"
   ]
  },
  {
   "cell_type": "markdown",
   "id": "f01307c4",
   "metadata": {},
   "source": [
    "# 7.You are given a text file named input.txt containing a list of words, one word per line. Your task is to create a Python program that reads the contents of input.txt, processes the words, and writes the result to an output file named output.txt. \n",
    "a. The program should perform the following operations:\n",
    "i. Read the words from input.txt.\n",
    "ii. For each word in the input file, calculate the length of the word and store it in a dictionary where the word is the key, and the length is the value.\n",
    "iii. Write the word-length dictionary to output.txt in the following format:\n",
    "iv. Close both input and output files properly. \n",
    "v. Write Python code to accomplish this task. Ensure proper error handling for file operations."
   ]
  },
  {
   "cell_type": "code",
   "execution_count": 17,
   "id": "fa5c4809",
   "metadata": {},
   "outputs": [
    {
     "name": "stdout",
     "output_type": "stream",
     "text": [
      "Word-length dictionary has been written to 'output1.txt'.\n"
     ]
    }
   ],
   "source": [
    "# Function to read words from input.txt and create a word-length dictionary\n",
    "def create_word_length_dictionary(input_filename):\n",
    "    word_length_dict = {}\n",
    "    \n",
    "    try:\n",
    "        with open(input_filename, 'r') as input_file:\n",
    "            for line in input_file:\n",
    "                word = line.strip()\n",
    "                length = len(word)\n",
    "                word_length_dict[word] = length\n",
    "    except FileNotFoundError:\n",
    "        print(f\"Error: The file '{input_filename}' was not found.\")\n",
    "    except Exception as e:\n",
    "        print(f\"An error occurred: {e}\")\n",
    "    \n",
    "    return word_length_dict\n",
    "\n",
    "# Function to write the word-length dictionary to output.txt\n",
    "def write_word_length_dictionary(output_filename, word_length_dict):\n",
    "    try:\n",
    "        with open(output_filename, 'w') as output_file:\n",
    "            for word, length in word_length_dict.items():\n",
    "                output_file.write(f\"{word}: {length}\\n\")\n",
    "    except Exception as e:\n",
    "        print(f\"An error occurred while writing to '{output_filename}': {e}\")\n",
    "\n",
    "# Main program\n",
    "if __name__ == \"__main__\":\n",
    "    input_filename = \"input1.txt\"\n",
    "    output_filename = \"output1.txt\"\n",
    "    \n",
    "    word_length_dict = create_word_length_dictionary(input_filename)\n",
    "    \n",
    "    if word_length_dict:\n",
    "        write_word_length_dictionary(output_filename, word_length_dict)\n",
    "        print(\"Word-length dictionary has been written to 'output1.txt'.\")"
   ]
  },
  {
   "cell_type": "markdown",
   "id": "b0120e29",
   "metadata": {},
   "source": [
    "# 6.write a python script that concatenates the contents of multiple text files into single output files. Allow the user to specify the input files and output file."
   ]
  },
  {
   "cell_type": "code",
   "execution_count": 20,
   "id": "689a62bc",
   "metadata": {},
   "outputs": [
    {
     "name": "stdout",
     "output_type": "stream",
     "text": [
      "Enter the path of an input text file (or type 'done' to finish): done\n",
      "No input files provided. Exiting.\n"
     ]
    }
   ],
   "source": [
    "def concatenate_files(input_files, output_file):\n",
    "    try:\n",
    "        with open(output_file, 'w') as output:\n",
    "            for input_file in input_files:\n",
    "                with open(input_file, 'r') as file:\n",
    "                    output.write(file.read())\n",
    "                    output.write('\\n')  # Add a newline between concatenated files\n",
    "\n",
    "        print(f\"Concatenation completed. Output written to {output_file}\")\n",
    "\n",
    "    except FileNotFoundError as e:\n",
    "        print(f\"Error: {e}\")\n",
    "    except Exception as e:\n",
    "        print(f\"An error occurred: {str(e)}\")\n",
    "\n",
    "if __name__ == \"__main__\":\n",
    "    input_files = []\n",
    "    while True:\n",
    "        file_path = input(\"Enter the path of an input text file (or type 'done' to finish): \")\n",
    "        if file_path.lower() == 'done':\n",
    "            break\n",
    "        input_files.append(file_path)\n",
    "\n",
    "    if not input_files:\n",
    "        print(\"No input files provided. Exiting.\")\n",
    "    else:\n",
    "        output_file = input(\"Enter the path of the output text file: \")\n",
    "        concatenate_files(input_files, output_file)\n"
   ]
  },
  {
   "cell_type": "markdown",
   "id": "09a99315",
   "metadata": {},
   "source": [
    "# 8.Assume that you are developing a student gradebook system for a school. The system should allow teachers to input student grades for various subjects, store the data in files. and provide students with the ability to view their grades.\n",
    "Design a Python program that accomplishes the following tasks:\n",
    "i. Teachers should be able to input grades for students in different subjects. \n",
    "ii. Store the student grade data in separate text files for each subject.\n",
    "iii. Students should be able to view their grades for each subject \n",
    "iv. Implement error handling for file operations, such as file not found or permission issues.\n"
   ]
  },
  {
   "cell_type": "code",
   "execution_count": 22,
   "id": "279f2776",
   "metadata": {},
   "outputs": [
    {
     "name": "stdout",
     "output_type": "stream",
     "text": [
      "\n",
      "Gradebook Menu:\n",
      "1. Input Grades\n",
      "2. View Grades\n",
      "3. Exit\n",
      "Enter your choice (1/2/3): 1\n",
      "Enter the subject name: maths\n",
      "Enter student name: Ramya\n",
      "Enter maths grade for Ramya: o\n",
      "maths grade for Ramya has been recorded.\n",
      "\n",
      "Gradebook Menu:\n",
      "1. Input Grades\n",
      "2. View Grades\n",
      "3. Exit\n",
      "Enter your choice (1/2/3): 2\n",
      "Enter the subject name: maths\n",
      "maths grades:\n",
      "Ramya: o\n",
      "\n",
      "\n",
      "Gradebook Menu:\n",
      "1. Input Grades\n",
      "2. View Grades\n",
      "3. Exit\n",
      "Enter your choice (1/2/3): 3\n"
     ]
    }
   ],
   "source": [
    "import os\n",
    "\n",
    "def input_grades(subject):\n",
    "    try:\n",
    "        filename = f\"{subject}_grades.txt\"\n",
    "        with open(filename, 'a') as file:\n",
    "            student_name = input(\"Enter student name: \")\n",
    "            grade = input(f\"Enter {subject} grade for {student_name}: \")\n",
    "            file.write(f\"{student_name}: {grade}\\n\")\n",
    "        print(f\"{subject} grade for {student_name} has been recorded.\")\n",
    "\n",
    "    except PermissionError:\n",
    "        print(f\"Permission error: Cannot write to {filename}.\")\n",
    "    except Exception as e:\n",
    "        print(f\"An error occurred: {str(e)}\")\n",
    "\n",
    "def view_grades(subject):\n",
    "    try:\n",
    "        filename = f\"{subject}_grades.txt\"\n",
    "        if not os.path.exists(filename):\n",
    "            print(f\"No {subject} grades found.\")\n",
    "            return\n",
    "\n",
    "        with open(filename, 'r') as file:\n",
    "            grades = file.read()\n",
    "            print(f\"{subject} grades:\\n{grades}\")\n",
    "\n",
    "    except FileNotFoundError:\n",
    "        print(f\"{subject} grades file not found.\")\n",
    "    except PermissionError:\n",
    "        print(f\"Permission error: Cannot read {filename}.\")\n",
    "    except Exception as e:\n",
    "        print(f\"An error occurred: {str(e)}\")\n",
    "\n",
    "def main():\n",
    "    while True:\n",
    "        print(\"\\nGradebook Menu:\")\n",
    "        print(\"1. Input Grades\")\n",
    "        print(\"2. View Grades\")\n",
    "        print(\"3. Exit\")\n",
    "\n",
    "        choice = input(\"Enter your choice (1/2/3): \")\n",
    "\n",
    "        if choice == '1':\n",
    "            subject = input(\"Enter the subject name: \")\n",
    "            input_grades(subject)\n",
    "        elif choice == '2':\n",
    "            subject = input(\"Enter the subject name: \")\n",
    "            view_grades(subject)\n",
    "        elif choice == '3':\n",
    "            break\n",
    "        else:\n",
    "            print(\"Invalid choice. Please select 1, 2, or 3.\")\n",
    "\n",
    "if __name__ == \"__main__\":\n",
    "    main()\n"
   ]
  },
  {
   "cell_type": "markdown",
   "id": "eda28303",
   "metadata": {},
   "source": [
    "# 5.Text File Search and Replace: You have a text file with a large amount of text, and you want to search for specific words or phrases and replace them with new content.\n",
    "\n",
    "a. Write Python code to search for and replace text within a text file.\n",
    "\n",
    "b. How would you handle cases where you need to perform multiple replacements in a single pass?"
   ]
  },
  {
   "cell_type": "code",
   "execution_count": 27,
   "id": "86cb49b2",
   "metadata": {},
   "outputs": [
    {
     "name": "stdout",
     "output_type": "stream",
     "text": [
      "Text replacement completed. Results saved in samplereplace.txt\n",
      "Text replacement completed. Results saved in samplereplace.txt\n"
     ]
    }
   ],
   "source": [
    "def search_and_replace(input_file, output_file, search_term, replacement):\n",
    "    try:\n",
    "        with open(input_file, 'r') as infile, open(output_file, 'w') as outfile:\n",
    "            for line in infile:\n",
    "                # Replace the search term with the replacement in the current line\n",
    "                modified_line = line.replace(search_term, replacement)\n",
    "                outfile.write(modified_line)\n",
    "\n",
    "        print(f\"Text replacement completed. Results saved in {output_file}\")\n",
    "    except FileNotFoundError as e:\n",
    "        print(f\"Error: {e}\")\n",
    "    except Exception as e:\n",
    "        print(f\"An error occurred: {str(e)}\")\n",
    "\n",
    "# Example usage:\n",
    "input_file = \"sample.txt\"\n",
    "output_file = \"samplereplace.txt\"\n",
    "search_term = \"old_word\"\n",
    "replacement = \"new_word\"\n",
    "\n",
    "search_and_replace(input_file, output_file, search_term, replacement)\n",
    "\n",
    "\n",
    "def search_and_replace_multiple(input_file, output_file, replacements):\n",
    "    try:\n",
    "        with open(input_file, 'r') as infile, open(output_file, 'w') as outfile:\n",
    "            for line in infile:\n",
    "                # Apply all replacements in the current line\n",
    "                for search_term, replacement in replacements:\n",
    "                    line = line.replace(search_term, replacement)\n",
    "                outfile.write(line)\n",
    "\n",
    "        print(f\"Text replacement completed. Results saved in {output_file}\")\n",
    "    except FileNotFoundError as e:\n",
    "        print(f\"Error: {e}\")\n",
    "    except Exception as e:\n",
    "        print(f\"An error occurred: {str(e)}\")\n",
    "\n",
    "# Example usage:\n",
    "input_file = \"sample.txt\"\n",
    "output_file = \"samplereplace.txt\"\n",
    "replacements = [(\"old_word1\", \"new_word1\"), (\"old_word2\", \"new_word2\")]\n",
    "\n",
    "search_and_replace_multiple(input_file, output_file, replacements)\n"
   ]
  },
  {
   "cell_type": "markdown",
   "id": "c9ec1332",
   "metadata": {},
   "source": [
    "# 4.Log File Analysis: You have a log file containing records of user activities on a website. Each line in the file represents a log entry with details like timestamp, user ID, and action performed. Your task is to analyze this log file.\n",
    "\n",
    "a. Write Python code to read the log file and extract specific information, such as the number of unique users or the most common action.\n",
    "\n",
    "b. How would you handle large log files efficiently without loading the entire file into memory?"
   ]
  },
  {
   "cell_type": "code",
   "execution_count": 30,
   "id": "102ed2bb",
   "metadata": {},
   "outputs": [
    {
     "name": "stdout",
     "output_type": "stream",
     "text": [
      "Number of Unique Users: 4\n",
      "Most Common Action: login\n",
      "Count: 3\n"
     ]
    }
   ],
   "source": [
    "from collections import Counter\n",
    "\n",
    "log_file_path = \"ramya.log\"\n",
    "\n",
    "unique_users = set()\n",
    "action_counter = Counter()\n",
    "\n",
    "with open(log_file_path, \"r\") as log_file:\n",
    "    for line in log_file:\n",
    "        # Split the line into its components (assuming a CSV-like format)\n",
    "        timestamp, user_id, action = line.strip().split(\",\")\n",
    "\n",
    "        # Count unique users\n",
    "        unique_users.add(user_id)\n",
    "\n",
    "        # Count actions\n",
    "        action_counter[action] += 1\n",
    "\n",
    "# Number of unique users\n",
    "num_unique_users = len(unique_users)\n",
    "print(\"Number of Unique Users:\", num_unique_users)\n",
    "\n",
    "# Most common action\n",
    "most_common_action, most_common_count = action_counter.most_common(1)[0]\n",
    "print(\"Most Common Action:\", most_common_action)\n",
    "print(\"Count:\", most_common_count)"
   ]
  },
  {
   "cell_type": "code",
   "execution_count": null,
   "id": "36e187df",
   "metadata": {},
   "outputs": [],
   "source": []
  }
 ],
 "metadata": {
  "kernelspec": {
   "display_name": "Python 3 (ipykernel)",
   "language": "python",
   "name": "python3"
  },
  "language_info": {
   "codemirror_mode": {
    "name": "ipython",
    "version": 3
   },
   "file_extension": ".py",
   "mimetype": "text/x-python",
   "name": "python",
   "nbconvert_exporter": "python",
   "pygments_lexer": "ipython3",
   "version": "3.11.4"
  }
 },
 "nbformat": 4,
 "nbformat_minor": 5
}

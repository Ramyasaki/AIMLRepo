{
 "cells": [
  {
   "cell_type": "markdown",
   "id": "1b0a51a4",
   "metadata": {},
   "source": [
    "# 1.How many movies are listed in the titles dataframe?"
   ]
  },
  {
   "cell_type": "code",
   "execution_count": 2,
   "id": "4cbf9f59",
   "metadata": {},
   "outputs": [
    {
     "name": "stdout",
     "output_type": "stream",
     "text": [
      "Number of unique titles listed in titles.csv: 223828\n"
     ]
    }
   ],
   "source": [
    "import pandas as pd\n",
    "\n",
    "# Replace 'titles.csv' with the actual path to your CSV file\n",
    "file_path = 'titles.csv'\n",
    "\n",
    "# Read the CSV file into a DataFrame\n",
    "df = pd.read_csv(file_path)\n",
    "\n",
    "# Count the number of unique titles in the 'title' column\n",
    "number_of_titles = df['title'].nunique()\n",
    "\n",
    "print(\"Number of unique titles listed in titles.csv:\", number_of_titles)"
   ]
  },
  {
   "cell_type": "markdown",
   "id": "5efc4445",
   "metadata": {},
   "source": [
    "# 2. What are the earliest two films listed in the titles dataframe?"
   ]
  },
  {
   "cell_type": "code",
   "execution_count": 3,
   "id": "047b115b",
   "metadata": {},
   "outputs": [
    {
     "name": "stdout",
     "output_type": "stream",
     "text": [
      "The earliest two films listed:\n",
      "                     title  year\n",
      "193222          Miss Jerry  1894\n",
      "51388   The Startled Lover  1898\n"
     ]
    }
   ],
   "source": [
    "import pandas as pd\n",
    "\n",
    "# Replace 'titles.csv' with the actual path to your CSV file\n",
    "file_path = 'titles.csv'\n",
    "\n",
    "# Read the CSV file into a DataFrame\n",
    "df = pd.read_csv(file_path)\n",
    "\n",
    "# Sort the DataFrame by the 'year' column in ascending order\n",
    "sorted_df = df.sort_values(by='year')\n",
    "\n",
    "# Get the first two rows (earliest two films) from the sorted DataFrame\n",
    "earliest_films = sorted_df.head(2)\n",
    "\n",
    "# Print the earliest two films\n",
    "print(\"The earliest two films listed:\")\n",
    "print(earliest_films)"
   ]
  },
  {
   "cell_type": "markdown",
   "id": "ad825c18",
   "metadata": {},
   "source": [
    "# 3. How many movies have the title \"Hamlet\""
   ]
  },
  {
   "cell_type": "code",
   "execution_count": 4,
   "id": "d175a69e",
   "metadata": {},
   "outputs": [
    {
     "name": "stdout",
     "output_type": "stream",
     "text": [
      "Number of movies with the title 'Hamlet': 20\n"
     ]
    }
   ],
   "source": [
    "import pandas as pd\n",
    "\n",
    "# Replace 'titles.csv' with the actual path to your CSV file\n",
    "file_path = 'titles.csv'\n",
    "\n",
    "# Read the CSV file into a DataFrame\n",
    "df = pd.read_csv(file_path)\n",
    "\n",
    "# Filter the DataFrame to include only rows where the 'title' column contains \"Hamlet\"\n",
    "hamlet_movies = df[df['title'] == 'Hamlet']\n",
    "\n",
    "# Count the number of rows (movies) in the filtered DataFrame\n",
    "number_of_hamlet_movies = len(hamlet_movies)\n",
    "\n",
    "print(\"Number of movies with the title 'Hamlet':\", number_of_hamlet_movies)"
   ]
  },
  {
   "cell_type": "markdown",
   "id": "515d0259",
   "metadata": {},
   "source": [
    "# 4. How many movies have the title \"North by Northwest\""
   ]
  },
  {
   "cell_type": "code",
   "execution_count": 5,
   "id": "3bc1808a",
   "metadata": {},
   "outputs": [
    {
     "name": "stdout",
     "output_type": "stream",
     "text": [
      "Number of movies with the title 'North by Northwest': 1\n"
     ]
    }
   ],
   "source": [
    "import pandas as pd\n",
    "\n",
    "# Replace 'titles.csv' with the actual path to your CSV file\n",
    "file_path = 'titles.csv'\n",
    "\n",
    "# Read the CSV file into a DataFrame\n",
    "df = pd.read_csv(file_path)\n",
    "\n",
    "# Filter the DataFrame to include only rows where the 'title' column contains \"North by Northwest\"\n",
    "north_by_northwest_movies = df[df['title'] == 'North by Northwest']\n",
    "\n",
    "# Count the number of rows (movies) in the filtered DataFrame\n",
    "number_of_north_by_northwest_movies = len(north_by_northwest_movies)\n",
    "\n",
    "print(\"Number of movies with the title 'North by Northwest':\", number_of_north_by_northwest_movies)"
   ]
  },
  {
   "cell_type": "markdown",
   "id": "ce01c1ea",
   "metadata": {},
   "source": [
    "# 5.When was the first movie titled \"Hamlet\" made?"
   ]
  },
  {
   "cell_type": "code",
   "execution_count": 6,
   "id": "5e98c30e",
   "metadata": {},
   "outputs": [
    {
     "name": "stdout",
     "output_type": "stream",
     "text": [
      "The first movie titled 'Hamlet' was released in: 1910\n"
     ]
    }
   ],
   "source": [
    "import pandas as pd\n",
    "\n",
    "# Replace 'titles.csv' with the actual path to your CSV file\n",
    "file_path = 'titles.csv'\n",
    "\n",
    "# Read the CSV file into a DataFrame\n",
    "df = pd.read_csv(file_path)\n",
    "\n",
    "# Filter the DataFrame to include only rows where the 'title' column contains \"Hamlet\"\n",
    "hamlet_movies = df[df['title'] == 'Hamlet']\n",
    "\n",
    "# Sort the filtered DataFrame by the 'year' column in ascending order\n",
    "sorted_hamlet_movies = hamlet_movies.sort_values(by='year')\n",
    "\n",
    "# Get the first row (the earliest \"Hamlet\" movie)\n",
    "first_hamlet_movie = sorted_hamlet_movies.iloc[0]\n",
    "\n",
    "# Extract the release year from the row\n",
    "release_year = first_hamlet_movie['year']\n",
    "\n",
    "print(\"The first movie titled 'Hamlet' was released in:\", release_year)"
   ]
  },
  {
   "cell_type": "markdown",
   "id": "6c643553",
   "metadata": {},
   "source": [
    "# 6. List all of the \"Treasure Island\" movies from earliest to most recent."
   ]
  },
  {
   "cell_type": "code",
   "execution_count": 39,
   "id": "18e6a070",
   "metadata": {},
   "outputs": [
    {
     "name": "stdout",
     "output_type": "stream",
     "text": [
      "List of 'Treasure Island' movies from earliest to most recent:\n",
      "                  title  year\n",
      "55686   Treasure Island  1918\n",
      "196514  Treasure Island  1920\n",
      "141822  Treasure Island  1934\n",
      "77354   Treasure Island  1950\n",
      "65051   Treasure Island  1972\n",
      "37238   Treasure Island  1973\n",
      "173051  Treasure Island  1985\n",
      "27076   Treasure Island  1999\n"
     ]
    }
   ],
   "source": [
    "import pandas as pd\n",
    "\n",
    "# Replace 'titles.csv' with the actual path to your CSV file\n",
    "file_path = 'titles.csv'\n",
    "\n",
    "# Read the CSV file into a DataFrame\n",
    "df = pd.read_csv(file_path)\n",
    "\n",
    "# Filter the DataFrame to include only rows where the 'title' column contains \"Treasure Island\"\n",
    "treasure_island_movies = df[df['title'] == 'Treasure Island']\n",
    "\n",
    "# Sort the filtered DataFrame by the 'year' column in ascending order\n",
    "sorted_treasure_island_movies = treasure_island_movies.sort_values(by='year')\n",
    "\n",
    "# Print the list of \"Treasure Island\" movies from earliest to most recent\n",
    "print(\"List of 'Treasure Island' movies from earliest to most recent:\")\n",
    "print(sorted_treasure_island_movies)"
   ]
  },
  {
   "cell_type": "markdown",
   "id": "80e7c78c",
   "metadata": {},
   "source": [
    "# 7. How many movies were made in the year 1950."
   ]
  },
  {
   "cell_type": "code",
   "execution_count": 35,
   "id": "e90ab970",
   "metadata": {},
   "outputs": [
    {
     "name": "stdout",
     "output_type": "stream",
     "text": [
      "Number of movies made in the year 1950: 1113\n"
     ]
    }
   ],
   "source": [
    "import pandas as pd\n",
    "\n",
    "# Replace 'titles.csv' with the actual path to your CSV file\n",
    "file_path = 'titles.csv'\n",
    "\n",
    "# Read the CSV file into a DataFrame\n",
    "df = pd.read_csv(file_path)\n",
    "\n",
    "# Filter the DataFrame to include only rows where the 'year' column is equal to 1950\n",
    "movies_1950 = df[df['year'] == 1950]\n",
    "\n",
    "# Count the number of rows (movies) in the filtered DataFrame\n",
    "number_of_movies_1950 = len(movies_1950)\n",
    "\n",
    "print(\"Number of movies made in the year 1950:\", number_of_movies_1950)"
   ]
  },
  {
   "cell_type": "markdown",
   "id": "4ff4c4d7",
   "metadata": {},
   "source": [
    "# 8. How many movies were made in the year 1960"
   ]
  },
  {
   "cell_type": "code",
   "execution_count": 36,
   "id": "2b3e7ac5",
   "metadata": {},
   "outputs": [
    {
     "name": "stdout",
     "output_type": "stream",
     "text": [
      "Number of movies made in the year 1960: 1549\n"
     ]
    }
   ],
   "source": [
    "import pandas as pd\n",
    "\n",
    "# Replace 'titles.csv' with the actual path to your CSV file\n",
    "file_path = 'titles.csv'\n",
    "\n",
    "# Read the CSV file into a DataFrame\n",
    "df = pd.read_csv(file_path)\n",
    "\n",
    "# Filter the DataFrame to include only rows where the 'year' column is equal to 1960\n",
    "movies_1960 = df[df['year'] == 1960]\n",
    "\n",
    "# Count the number of rows (movies) in the filtered DataFrame\n",
    "number_of_movies_1960 = len(movies_1960)\n",
    "\n",
    "print(\"Number of movies made in the year 1960:\", number_of_movies_1960)"
   ]
  },
  {
   "cell_type": "markdown",
   "id": "957e44bc",
   "metadata": {},
   "source": [
    "# 9. How many movies were made from 1950 through 1959."
   ]
  },
  {
   "cell_type": "code",
   "execution_count": 38,
   "id": "4391e10b",
   "metadata": {},
   "outputs": [
    {
     "name": "stdout",
     "output_type": "stream",
     "text": [
      "Number of movies made from 1950 through 1959: 12934\n"
     ]
    }
   ],
   "source": [
    "# import pandas as pd\n",
    "\n",
    "# Replace 'titles.csv' with the actual path to your CSV file\n",
    "file_path = 'titles.csv'\n",
    "\n",
    "# Read the CSV file into a DataFrame\n",
    "df = pd.read_csv(file_path)\n",
    "\n",
    "# Filter the DataFrame to include only rows where the 'year' column is between 1950 and 1959\n",
    "movies_1950s = df[(df['year'] >= 1950) & (df['year'] <= 1959)]\n",
    "\n",
    "# Count the number of rows (movies) in the filtered DataFrame\n",
    "number_of_movies_1950s = len(movies_1950s)\n",
    "\n",
    "print(\"Number of movies made from 1950 through 1959:\", number_of_movies_1950s)"
   ]
  },
  {
   "cell_type": "markdown",
   "id": "9c0ea8e6",
   "metadata": {},
   "source": [
    "# 10. In what years has a movie titled \"Batman\" been released."
   ]
  },
  {
   "cell_type": "code",
   "execution_count": 37,
   "id": "b14554d0",
   "metadata": {},
   "outputs": [
    {
     "name": "stdout",
     "output_type": "stream",
     "text": [
      "Years in which a movie titled 'Batman' has been released:\n",
      "1943\n",
      "1989\n"
     ]
    }
   ],
   "source": [
    "import pandas as pd\n",
    "\n",
    "# Load the CSV file into a DataFrame\n",
    "df = pd.read_csv('titles.csv')\n",
    "\n",
    "# Filter rows where the title is \"Batman\"\n",
    "batman_movies = df[df['title'] == 'Batman']\n",
    "\n",
    "# Extract and print the unique release years\n",
    "unique_years = batman_movies['year'].unique()\n",
    "print(\"Years in which a movie titled 'Batman' has been released:\")\n",
    "for year in unique_years:\n",
    "    print(year)\n"
   ]
  },
  {
   "cell_type": "markdown",
   "id": "0ade36d4",
   "metadata": {},
   "source": [
    "# 11.how many roles were there in the movie \"inception\""
   ]
  },
  {
   "cell_type": "code",
   "execution_count": 16,
   "id": "a5dcfbaa",
   "metadata": {},
   "outputs": [
    {
     "name": "stdout",
     "output_type": "stream",
     "text": [
      "Number of roles in 'Inception': 78\n"
     ]
    }
   ],
   "source": [
    "import pandas as pd\n",
    "\n",
    "# Load the CSV file into a DataFrame\n",
    "df = pd.read_csv('cast.csv')\n",
    "\n",
    "# Filter rows where the title is \"Inception\"\n",
    "inception_roles = df[df['title'] == 'Inception']\n",
    "\n",
    "# Count the number of roles in \"Inception\"\n",
    "number_of_roles = len(inception_roles)\n",
    "\n",
    "print(f\"Number of roles in 'Inception': {number_of_roles}\")\n"
   ]
  },
  {
   "cell_type": "markdown",
   "id": "c9c4544c",
   "metadata": {},
   "source": [
    "# 12.how many roles in the movie \"inception\" are NOT ranked by an \"n\" value?"
   ]
  },
  {
   "cell_type": "code",
   "execution_count": 15,
   "id": "9722cb05",
   "metadata": {},
   "outputs": [
    {
     "name": "stdout",
     "output_type": "stream",
     "text": [
      "Number of roles in 'Inception' not ranked by 'n' value: 27\n"
     ]
    }
   ],
   "source": [
    "import pandas as pd\n",
    "\n",
    "# Load the CSV file into a DataFrame\n",
    "df = pd.read_csv('cast.csv')\n",
    "\n",
    "# Filter rows where the title is \"Inception\"\n",
    "inception_roles = df[df['title'] == 'Inception']\n",
    "\n",
    "# Filter the rows where the \"n\" value is not specified (NaN)\n",
    "inception_roles_not_ranked = inception_roles[pd.isnull(inception_roles['n'])]\n",
    "\n",
    "# Count the number of roles in \"Inception\" that are not ranked by an \"n\" value\n",
    "number_of_roles_not_ranked = len(inception_roles_not_ranked)\n",
    "\n",
    "print(f\"Number of roles in 'Inception' not ranked by 'n' value: {number_of_roles_not_ranked}\")\n"
   ]
  },
  {
   "cell_type": "markdown",
   "id": "5a0b60f0",
   "metadata": {},
   "source": [
    "# 13.how many roles in the movie \"inception\" did receive  an \"n\" value?"
   ]
  },
  {
   "cell_type": "code",
   "execution_count": 14,
   "id": "a6bb0024",
   "metadata": {},
   "outputs": [
    {
     "name": "stdout",
     "output_type": "stream",
     "text": [
      "Number of roles in 'Inception' with 'n' value: 51\n"
     ]
    }
   ],
   "source": [
    "import pandas as pd\n",
    "\n",
    "# Load the CSV file into a DataFrame\n",
    "df = pd.read_csv('cast.csv')\n",
    "\n",
    "# Filter rows where the title is \"Inception\"\n",
    "inception_roles = df[df['title'] == 'Inception']\n",
    "\n",
    "# Filter the rows where the \"n\" value is not NaN\n",
    "inception_roles_with_n_value = inception_roles[~pd.isnull(inception_roles['n'])]\n",
    "\n",
    "# Count the number of roles in \"Inception\" that received an \"n\" value\n",
    "number_of_roles_with_n_value = len(inception_roles_with_n_value)\n",
    "\n",
    "print(f\"Number of roles in 'Inception' with 'n' value: {number_of_roles_with_n_value}\")\n"
   ]
  },
  {
   "cell_type": "markdown",
   "id": "3d856117",
   "metadata": {},
   "source": [
    "# 14.Display the cast of \"North by Northwest in their correct \"n\"-value order, ignoring roles that did not eam a numeric \"n\" value."
   ]
  },
  {
   "cell_type": "code",
   "execution_count": 13,
   "id": "92f1c3b3",
   "metadata": {},
   "outputs": [
    {
     "name": "stdout",
     "output_type": "stream",
     "text": [
      "            n                  name\n",
      "871426    1.0            Cary Grant\n",
      "3518333   2.0       Eva Marie Saint\n",
      "1457165   3.0           James Mason\n",
      "3157232   4.0   Jessie Royce Landis\n",
      "356707    5.0        Leo G. Carroll\n",
      "3048272   6.0  Josephine Hutchinson\n",
      "1695173   7.0           Philip Ober\n",
      "1275337   8.0         Martin Landau\n",
      "2447081   9.0         Adam Williams\n",
      "1811387  10.0          Edward Platt\n",
      "665768   11.0     Robert Ellenstein\n",
      "2295714  12.0          Les Tremayne\n",
      "464736   13.0       Philip Coolidge\n",
      "1508344  14.0         Patrick McVey\n",
      "206471   15.0          Edward Binns\n",
      "1384780  16.0             Ken Lynch\n"
     ]
    }
   ],
   "source": [
    "import pandas as pd\n",
    "\n",
    "# Load the CSV file into a DataFrame\n",
    "df = pd.read_csv('cast.csv')\n",
    "\n",
    "# Filter rows where the title is \"North by Northwest\"\n",
    "north_by_northwest_cast = df[(df['title'] == 'North by Northwest') & (pd.to_numeric(df['n'], errors='coerce').notna())]\n",
    "\n",
    "# Sort the cast by the \"n\" values in ascending order\n",
    "north_by_northwest_cast = north_by_northwest_cast.sort_values(by='n')\n",
    "\n",
    "# Display the cast\n",
    "print(north_by_northwest_cast[['n', 'name']])\n"
   ]
  },
  {
   "cell_type": "markdown",
   "id": "d7f9a7ee",
   "metadata": {},
   "source": [
    "# 15.display the entire cast in \"n\"-order of the 1972 film \"sleuth\""
   ]
  },
  {
   "cell_type": "code",
   "execution_count": 12,
   "id": "fcd3a996",
   "metadata": {},
   "outputs": [
    {
     "name": "stdout",
     "output_type": "stream",
     "text": [
      "           n                name\n",
      "1705394  1.0    Laurence Olivier\n",
      "326773   2.0       Michael Caine\n",
      "373876   3.0      Alec Cawthorne\n",
      "1465483  4.0  John (II) Matthews\n",
      "2724553  5.0  Eve (III) Channing\n",
      "1448690  6.0        Teddy Martin\n"
     ]
    }
   ],
   "source": [
    "import pandas as pd\n",
    "\n",
    "# Load the CSV file into a DataFrame\n",
    "df = pd.read_csv('cast.csv')\n",
    "\n",
    "# Filter rows where the title is \"Sleuth\" and the year is 1972\n",
    "sleuth_1972_cast = df[(df['title'] == 'Sleuth') & (df['year'] == 1972)]\n",
    "\n",
    "# Sort the cast by the \"n\" values in ascending order\n",
    "sleuth_1972_cast = sleuth_1972_cast.sort_values(by='n')\n",
    "\n",
    "# Display the entire cast\n",
    "print(sleuth_1972_cast[['n', 'name']])\n"
   ]
  },
  {
   "cell_type": "markdown",
   "id": "b8f888c3",
   "metadata": {},
   "source": [
    "# 16.now display the entire cast in \"n\" -order of the 2007 version of \"sleuth\""
   ]
  },
  {
   "cell_type": "code",
   "execution_count": 17,
   "id": "5b16db0b",
   "metadata": {},
   "outputs": [
    {
     "name": "stdout",
     "output_type": "stream",
     "text": [
      "           n                 name\n",
      "326774   1.0        Michael Caine\n",
      "1293634  2.0             Jude Law\n",
      "1805907  3.0        Harold Pinter\n",
      "260242   NaN      Kenneth Branagh\n",
      "373877   NaN  Alec (II) Cawthorne\n",
      "2724552  NaN    Eve (II) Channing\n",
      "3370424  NaN    Carmel O'Sullivan\n"
     ]
    }
   ],
   "source": [
    "import pandas as pd\n",
    "\n",
    "# Load the CSV file into a DataFrame\n",
    "df = pd.read_csv('cast.csv')\n",
    "\n",
    "# Filter rows where the title is \"Sleuth\" and the year is 2007\n",
    "sleuth_2007_cast = df[(df['title'] == 'Sleuth') & (df['year'] == 2007)]\n",
    "\n",
    "# Sort the cast by the \"n\" values in ascending order\n",
    "sleuth_2007_cast = sleuth_2007_cast.sort_values(by='n')\n",
    "\n",
    "# Display the entire cast\n",
    "print(sleuth_2007_cast[['n', 'name']])\n"
   ]
  },
  {
   "cell_type": "markdown",
   "id": "199d924c",
   "metadata": {},
   "source": [
    "# 17.how many roles were credited in the silent 1921 version of hamlet?"
   ]
  },
  {
   "cell_type": "code",
   "execution_count": 18,
   "id": "7633c149",
   "metadata": {},
   "outputs": [
    {
     "name": "stdout",
     "output_type": "stream",
     "text": [
      "Number of credited roles in the silent 1921 version of 'Hamlet': 9\n"
     ]
    }
   ],
   "source": [
    "import pandas as pd\n",
    "\n",
    "# Load the CSV file into a DataFrame\n",
    "df = pd.read_csv('cast.csv')\n",
    "\n",
    "# Filter rows where the title is \"Hamlet\" and the year is 1921\n",
    "hamlet_1921_cast = df[(df['title'] == 'Hamlet') & (df['year'] == 1921)]\n",
    "\n",
    "# Count the number of credited roles in the silent 1921 version of \"Hamlet\"\n",
    "number_of_credited_roles = len(hamlet_1921_cast)\n",
    "\n",
    "print(f\"Number of credited roles in the silent 1921 version of 'Hamlet': {number_of_credited_roles}\")\n"
   ]
  },
  {
   "cell_type": "markdown",
   "id": "dfca2d10",
   "metadata": {},
   "source": [
    "# 18.How many roles were credited in Branagh's 1996 hamlet?"
   ]
  },
  {
   "cell_type": "code",
   "execution_count": 20,
   "id": "79067a97",
   "metadata": {},
   "outputs": [
    {
     "name": "stdout",
     "output_type": "stream",
     "text": [
      "Number of roles credited to Kenneth Branagh in the 1996 version of 'Hamlet': 1\n"
     ]
    }
   ],
   "source": [
    "import pandas as pd\n",
    "\n",
    "# Load the CSV file into a DataFrame\n",
    "df = pd.read_csv('cast.csv')\n",
    "\n",
    "# Filter rows where the title is \"Hamlet,\" the year is 1996, and the name is \"Kenneth Branagh\"\n",
    "hamlet_1996_branagh_cast = df[(df['title'] == 'Hamlet') & (df['year'] == 1996) & (df['name'] == 'Kenneth Branagh')]\n",
    "\n",
    "# Count the number of credited roles for Kenneth Branagh in the 1996 version of \"Hamlet\"\n",
    "number_of_credited_roles = len(hamlet_1996_branagh_cast)\n",
    "\n",
    "print(f\"Number of roles credited to Kenneth Branagh in the 1996 version of 'Hamlet': {number_of_credited_roles}\")\n"
   ]
  },
  {
   "cell_type": "markdown",
   "id": "1c21592f",
   "metadata": {},
   "source": [
    "# 19.How many \"Hamlet\" roles have been listed in all film credits through history?"
   ]
  },
  {
   "cell_type": "code",
   "execution_count": 21,
   "id": "a77a73f1",
   "metadata": {},
   "outputs": [
    {
     "name": "stdout",
     "output_type": "stream",
     "text": [
      "Number of 'Hamlet' roles listed in all film credits through history: 342\n"
     ]
    }
   ],
   "source": [
    "import pandas as pd\n",
    "\n",
    "# Load the CSV file into a DataFrame\n",
    "df = pd.read_csv('cast.csv')\n",
    "\n",
    "# Filter rows where the title is \"Hamlet\"\n",
    "hamlet_roles = df[df['title'] == 'Hamlet']\n",
    "\n",
    "# Count the number of \"Hamlet\" roles listed in all film credits through history\n",
    "number_of_hamlet_roles = len(hamlet_roles)\n",
    "\n",
    "print(f\"Number of 'Hamlet' roles listed in all film credits through history: {number_of_hamlet_roles}\")\n"
   ]
  },
  {
   "cell_type": "markdown",
   "id": "559675bb",
   "metadata": {},
   "source": [
    "# 20.How many people have played an \"Ophelia\"?"
   ]
  },
  {
   "cell_type": "code",
   "execution_count": 22,
   "id": "baf7b94d",
   "metadata": {},
   "outputs": [
    {
     "name": "stdout",
     "output_type": "stream",
     "text": [
      "Number of people who have played the role of 'Ophelia': 0\n"
     ]
    }
   ],
   "source": [
    "import pandas as pd\n",
    "\n",
    "# Load the CSV file into a DataFrame\n",
    "df = pd.read_csv('cast.csv')\n",
    "\n",
    "# Filter rows where the character name is \"Ophelia\"\n",
    "ophelia_roles = df[df['name'] == 'Ophelia']\n",
    "\n",
    "# Count the number of people who have played the role of \"Ophelia\"\n",
    "number_of_ophelia_actors = len(ophelia_roles)\n",
    "\n",
    "print(f\"Number of people who have played the role of 'Ophelia': {number_of_ophelia_actors}\")\n"
   ]
  },
  {
   "cell_type": "markdown",
   "id": "af950a48",
   "metadata": {},
   "source": [
    "# 21. How many people have played a role called \"The Dude\"."
   ]
  },
  {
   "cell_type": "code",
   "execution_count": 29,
   "id": "9e7cf99d",
   "metadata": {},
   "outputs": [
    {
     "name": "stdout",
     "output_type": "stream",
     "text": [
      "Number of people who played a role called 'The Dude': 19\n"
     ]
    }
   ],
   "source": [
    "import pandas as pd\n",
    "\n",
    "# Replace 'cast.csv' with the actual path to your CSV file\n",
    "file_path = 'cast.csv'\n",
    "\n",
    "# Read the CSV file into a DataFrame\n",
    "df = pd.read_csv(file_path)\n",
    "\n",
    "# Filter the DataFrame to include only rows where the 'character' column is \"The Dude\"\n",
    "the_dude_actors = df[df['character'] == 'The Dude']\n",
    "\n",
    "# Count the number of unique actors who played the role \"The Dude\"\n",
    "number_of_dude_actors = the_dude_actors['name'].nunique()\n",
    "\n",
    "print(\"Number of people who played a role called 'The Dude':\", number_of_dude_actors)"
   ]
  },
  {
   "cell_type": "markdown",
   "id": "639deded",
   "metadata": {},
   "source": [
    "# 22. How many people have played a role called \"The Stranger\"."
   ]
  },
  {
   "cell_type": "code",
   "execution_count": 30,
   "id": "dcb3f449",
   "metadata": {},
   "outputs": [
    {
     "name": "stdout",
     "output_type": "stream",
     "text": [
      "Number of people who played a role called 'The Stranger': 202\n"
     ]
    }
   ],
   "source": [
    "# Replace 'cast.csv' with the actual path to your CSV file\n",
    "file_path = 'cast.csv'\n",
    "\n",
    "# Read the CSV file into a DataFram\n",
    "df = pd.read_csv(file_path)\n",
    "\n",
    "# Filter the DataFrame to include only rows where the 'character' column is \"The Dude\"\n",
    "the_dude_actors = df[df['character'] == 'The Stranger']\n",
    "\n",
    "# Count the number of unique actors who played the role \"The Dude\"\n",
    "number_of_dude_actors = the_dude_actors['name'].nunique()\n",
    "\n",
    "print(\"Number of people who played a role called 'The Stranger':\", number_of_dude_actors)"
   ]
  },
  {
   "cell_type": "markdown",
   "id": "242d6905",
   "metadata": {},
   "source": [
    "# 23. How many roles has Sidney Poitier played throughout his career."
   ]
  },
  {
   "cell_type": "code",
   "execution_count": 31,
   "id": "afbf74e5",
   "metadata": {},
   "outputs": [
    {
     "name": "stdout",
     "output_type": "stream",
     "text": [
      "Number of roles played by Sidney Poitier throughout his career: 41\n"
     ]
    }
   ],
   "source": [
    "import pandas as pd\n",
    "\n",
    "# Replace 'cast.csv' with the actual path to your CSV file\n",
    "file_path = 'cast.csv'\n",
    "\n",
    "# Read the CSV file into a DataFrame\n",
    "df = pd.read_csv(file_path)\n",
    "\n",
    "# Filter the DataFrame to include only rows where the 'name' column is \"Sidney Poitier\"\n",
    "sidney_poitier_roles = df[df['name'] == 'Sidney Poitier']\n",
    "\n",
    "# Count the number of unique roles played by Sidney Poitier\n",
    "number_of_roles_played = sidney_poitier_roles['character'].nunique()\n",
    "\n",
    "print(\"Number of roles played by Sidney Poitier throughout his career:\", number_of_roles_played)"
   ]
  },
  {
   "cell_type": "markdown",
   "id": "43869a53",
   "metadata": {},
   "source": [
    "# 24. How many roles has Judi Dench played."
   ]
  },
  {
   "cell_type": "code",
   "execution_count": 32,
   "id": "c30d980b",
   "metadata": {},
   "outputs": [
    {
     "name": "stdout",
     "output_type": "stream",
     "text": [
      "Number of roles played by Judi Dench throughout her career: 46\n"
     ]
    }
   ],
   "source": [
    "import pandas as pd\n",
    "\n",
    "# Replace 'cast.csv' with the actual path to your CSV file\n",
    "file_path = 'cast.csv'\n",
    "\n",
    "# Read the CSV file into a DataFrame\n",
    "df = pd.read_csv(file_path)\n",
    "\n",
    "# Filter the DataFrame to include only rows where the 'name' column is \"Judi Dench\"\n",
    "judi_dench_roles = df[df['name'] == 'Judi Dench']\n",
    "\n",
    "# Count the number of unique roles played by Judi Dench\n",
    "number_of_roles_played = judi_dench_roles['character'].nunique()\n",
    "\n",
    "print(\"Number of roles played by Judi Dench throughout her career:\", number_of_roles_played)"
   ]
  },
  {
   "cell_type": "markdown",
   "id": "f1c122c9",
   "metadata": {},
   "source": [
    "# 25. List the supporting roles (having n=2) played by Cary Grant in the 1940s, in order by year."
   ]
  },
  {
   "cell_type": "code",
   "execution_count": 33,
   "id": "9b9bc783",
   "metadata": {},
   "outputs": [
    {
     "name": "stdout",
     "output_type": "stream",
     "text": [
      "Supporting roles played by Cary Grant in the 1940s:\n",
      "                   title  year        name   type    character    n\n",
      "871423  My Favorite Wife  1940  Cary Grant  actor   Nick Arden  2.0\n",
      "871433    Penny Serenade  1941  Cary Grant  actor  Roger Adams  2.0\n"
     ]
    }
   ],
   "source": [
    "import pandas as pd\n",
    "\n",
    "# Replace 'cast.csv' with the actual path to your CSV file\n",
    "file_path = 'cast.csv'\n",
    "\n",
    "# Read the CSV file into a DataFrame\n",
    "df = pd.read_csv(file_path)\n",
    "\n",
    "# Filter the DataFrame to include only rows where the 'name' column is \"Cary Grant\"\n",
    "# and 'n' column is 2 (supporting roles), and the 'year' column is in the 1940s\n",
    "cary_grant_supporting_roles_1940s = df[(df['name'] == 'Cary Grant') & (df['n'] == 2) & (df['year'] // 10 == 194)]\n",
    "\n",
    "# Sort the filtered DataFrame by 'year' in ascending order\n",
    "sorted_cary_grant_supporting_roles_1940s = cary_grant_supporting_roles_1940s.sort_values(by='year')\n",
    "\n",
    "# Print the list of supporting roles played by Cary Grant in the 1940s\n",
    "print(\"Supporting roles played by Cary Grant in the 1940s:\")\n",
    "print(sorted_cary_grant_supporting_roles_1940s)"
   ]
  },
  {
   "cell_type": "markdown",
   "id": "184cf8ee",
   "metadata": {},
   "source": [
    "# 26.list the leading roles that cary Grant played in the 1940s in order by year."
   ]
  },
  {
   "cell_type": "code",
   "execution_count": 23,
   "id": "51c599a0",
   "metadata": {},
   "outputs": [
    {
     "name": "stdout",
     "output_type": "stream",
     "text": [
      "        year                                 title\n",
      "871448  1940               The Howards of Virginia\n",
      "871407  1940                       His Girl Friday\n",
      "871450  1940                The Philadelphia Story\n",
      "871438  1941                             Suspicion\n",
      "871452  1942                  The Talk of the Town\n",
      "871429  1942                 Once Upon a Honeymoon\n",
      "871398  1943                     Destination Tokyo\n",
      "871422  1943                             Mr. Lucky\n",
      "871430  1944                      Once Upon a Time\n",
      "871390  1944                  Arsenic and Old Lace\n",
      "871425  1944             None But the Lonely Heart\n",
      "871424  1946                         Night and Day\n",
      "871427  1946                             Notorious\n",
      "871444  1947      The Bachelor and the Bobby-Soxer\n",
      "871445  1947                     The Bishop's Wife\n",
      "871421  1948  Mr. Blandings Builds His Dream House\n",
      "871402  1948          Every Girl Should Be Married\n",
      "871411  1949                I Was a Male War Bride\n"
     ]
    }
   ],
   "source": [
    "import pandas as pd\n",
    "\n",
    "# Load the CSV file into a DataFrame\n",
    "df = pd.read_csv('cast.csv')\n",
    "\n",
    "# Filter rows where the name is \"Cary Grant\" and the year is in the 1940s\n",
    "cary_grant_1940s_roles = df[(df['name'] == 'Cary Grant') & (df['year'] >= 1940) & (df['year'] <= 1949)]\n",
    "\n",
    "# Filter rows where the \"n\" value is 1, indicating a leading role\n",
    "leading_roles = cary_grant_1940s_roles[cary_grant_1940s_roles['n'] == 1]\n",
    "\n",
    "# Sort the leading roles by year\n",
    "leading_roles_sorted = leading_roles.sort_values(by='year')\n",
    "\n",
    "# Display the list of leading roles\n",
    "print(leading_roles_sorted[['year', 'title']])\n"
   ]
  },
  {
   "cell_type": "markdown",
   "id": "6107e644",
   "metadata": {},
   "source": [
    "# 27.how many roles were available for actors in the 1950s?"
   ]
  },
  {
   "cell_type": "code",
   "execution_count": 24,
   "id": "51c0c4ec",
   "metadata": {},
   "outputs": [
    {
     "name": "stdout",
     "output_type": "stream",
     "text": [
      "Number of roles available for actors in the 1950s: 215471\n"
     ]
    }
   ],
   "source": [
    "import pandas as pd\n",
    "\n",
    "# Load the CSV file into a DataFrame\n",
    "df = pd.read_csv('cast.csv')\n",
    "\n",
    "# Filter rows where the year is in the 1950s\n",
    "roles_in_1950s = df[(df['year'] >= 1950) & (df['year'] <= 1959)]\n",
    "\n",
    "# Count the number of roles available for actors in the 1950s\n",
    "number_of_roles_in_1950s = len(roles_in_1950s)\n",
    "\n",
    "print(f\"Number of roles available for actors in the 1950s: {number_of_roles_in_1950s}\")\n"
   ]
  },
  {
   "cell_type": "markdown",
   "id": "00003f00",
   "metadata": {},
   "source": [
    "# 28.how many roles were available for actorsses in the 1950s?"
   ]
  },
  {
   "cell_type": "code",
   "execution_count": 25,
   "id": "f5408f14",
   "metadata": {},
   "outputs": [
    {
     "name": "stdout",
     "output_type": "stream",
     "text": [
      "Number of roles available for actors in the 1950s: 215471\n"
     ]
    }
   ],
   "source": [
    "import pandas as pd\n",
    "\n",
    "# Load the CSV file into a DataFrame\n",
    "df = pd.read_csv('cast.csv')\n",
    "\n",
    "# Filter rows where the year is in the 1950s\n",
    "roles_in_1950s = df[(df['year'] >= 1950) & (df['year'] <= 1959)]\n",
    "\n",
    "# Count the number of roles available for actors in the 1950s\n",
    "number_of_roles_in_1950s = len(roles_in_1950s)\n",
    "\n",
    "print(f\"Number of roles available for actors in the 1950s: {number_of_roles_in_1950s}\")\n"
   ]
  },
  {
   "cell_type": "markdown",
   "id": "48482677",
   "metadata": {},
   "source": [
    "# 29.how many leading roles (n==1) were available from the beginning of film history through 1980?"
   ]
  },
  {
   "cell_type": "code",
   "execution_count": 26,
   "id": "0b56c894",
   "metadata": {},
   "outputs": [
    {
     "name": "stdout",
     "output_type": "stream",
     "text": [
      "Number of leading roles available from the beginning of film history through 1980: 65140\n"
     ]
    }
   ],
   "source": [
    "import pandas as pd\n",
    "\n",
    "# Load the CSV file into a DataFrame\n",
    "df = pd.read_csv('cast.csv')\n",
    "\n",
    "# Filter rows where the year is less than or equal to 1980 and n is 1 (indicating a leading role)\n",
    "leading_roles_through_1980 = df[(df['year'] <= 1980) & (df['n'] == 1)]\n",
    "\n",
    "# Count the number of leading roles available from the beginning of film history through 1980\n",
    "number_of_leading_roles_through_1980 = len(leading_roles_through_1980)\n",
    "\n",
    "print(f\"Number of leading roles available from the beginning of film history through 1980: {number_of_leading_roles_through_1980}\")\n"
   ]
  },
  {
   "cell_type": "markdown",
   "id": "a050f913",
   "metadata": {},
   "source": [
    "# 30. how many non -leading roles  were available through from the beginning of film history through 1980?"
   ]
  },
  {
   "cell_type": "code",
   "execution_count": 27,
   "id": "2cf868ef",
   "metadata": {},
   "outputs": [
    {
     "name": "stdout",
     "output_type": "stream",
     "text": [
      "Number of leading roles available from the beginning of film history through 1980: 65140\n"
     ]
    }
   ],
   "source": [
    "import pandas as pd\n",
    "\n",
    "# Load the CSV file into a DataFrame\n",
    "df = pd.read_csv('cast.csv')\n",
    "\n",
    "# Filter rows where the year is less than or equal to 1980 and n is 1 (indicating a leading role)\n",
    "leading_roles_through_1980 = df[(df['year'] <= 1980) & (df['n'] == 1)]\n",
    "\n",
    "# Count the number of leading roles available from the beginning of film history through 1980\n",
    "number_of_leading_roles_through_1980 = len(leading_roles_through_1980)\n",
    "\n",
    "print(f\"Number of leading roles available from the beginning of film history through 1980: {number_of_leading_roles_through_1980}\")\n"
   ]
  },
  {
   "cell_type": "markdown",
   "id": "9fab96d3",
   "metadata": {},
   "source": [
    "# 31.how many roles through 1980 were minor enough that they did not warrant a numeric \"n\" rank?"
   ]
  },
  {
   "cell_type": "code",
   "execution_count": 28,
   "id": "3716fa07",
   "metadata": {},
   "outputs": [
    {
     "name": "stdout",
     "output_type": "stream",
     "text": [
      "Number of roles through 1980 that did not warrant a numeric 'n' rank: 448347\n"
     ]
    }
   ],
   "source": [
    "import pandas as pd\n",
    "\n",
    "# Load the CSV file into a DataFrame\n",
    "df = pd.read_csv('cast.csv')\n",
    "\n",
    "# Filter rows where the year is less than or equal to 1980 and the \"n\" value is not a numeric rank (NaN)\n",
    "minor_roles_without_numeric_rank = df[(df['year'] <= 1980) & pd.to_numeric(df['n'], errors='coerce').isna()]\n",
    "\n",
    "# Count the number of minor roles without a numeric \"n\" rank through 1980\n",
    "number_of_minor_roles_without_numeric_rank = len(minor_roles_without_numeric_rank)\n",
    "\n",
    "print(f\"Number of roles through 1980 that did not warrant a numeric 'n' rank: {number_of_minor_roles_without_numeric_rank}\")\n"
   ]
  }
 ],
 "metadata": {
  "kernelspec": {
   "display_name": "Python 3 (ipykernel)",
   "language": "python",
   "name": "python3"
  },
  "language_info": {
   "codemirror_mode": {
    "name": "ipython",
    "version": 3
   },
   "file_extension": ".py",
   "mimetype": "text/x-python",
   "name": "python",
   "nbconvert_exporter": "python",
   "pygments_lexer": "ipython3",
   "version": "3.11.4"
  }
 },
 "nbformat": 4,
 "nbformat_minor": 5
}

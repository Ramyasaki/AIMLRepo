{
 "cells": [
  {
   "cell_type": "markdown",
   "id": "d895866e",
   "metadata": {},
   "source": [
    "# 1.Find the country index with maximum gold"
   ]
  },
  {
   "cell_type": "code",
   "execution_count": 1,
   "id": "b1774bd5",
   "metadata": {},
   "outputs": [
    {
     "name": "stdout",
     "output_type": "stream",
     "text": [
      "Index of the country with the most gold medals: 3\n"
     ]
    }
   ],
   "source": [
    "import numpy as np\n",
    "\n",
    "# Dataset\n",
    "np_olympic_country = np.array(['GBR', 'China', 'RUS', 'US', 'KOR', 'JPN', 'GER'])\n",
    "np_olympic_country_gold = np.array([29, 38, 24, 46, 13, 7, 11])\n",
    "np_olympic_country_silver = np.array([17, 28, 25, 28, 8, 14, 11])\n",
    "np_olympic_country_bronze = np.array([19, 22, 32, 29, 7, 17, 14])\n",
    "\n",
    "# Find the country index with the maximum gold medals\n",
    "max_gold_index = np.argmax(np_olympic_country_gold)\n",
    "\n",
    "print(\"Index of the country with the most gold medals:\", max_gold_index)"
   ]
  },
  {
   "cell_type": "markdown",
   "id": "bb19c8c9",
   "metadata": {},
   "source": [
    "# 2.Print country with maximum gold."
   ]
  },
  {
   "cell_type": "code",
   "execution_count": 3,
   "id": "1ea1bcbe",
   "metadata": {},
   "outputs": [
    {
     "name": "stdout",
     "output_type": "stream",
     "text": [
      "Country with the most gold medals: US\n"
     ]
    }
   ],
   "source": [
    "import numpy as np\n",
    "\n",
    "# Dataset\n",
    "np_olympic_country = np.array(['GBR', 'China', 'RUS', 'US', 'KOR', 'JPN', 'GER'])\n",
    "np_olympic_country_gold = np.array([29, 38, 24, 46, 13, 7, 11])\n",
    "np_olympic_country_silver = np.array([17, 28, 25, 28, 8, 14, 11])\n",
    "np_olympic_country_bronze = np.array([19, 22, 32, 29, 7, 17, 14])\n",
    "\n",
    "# Find the country index with the maximum gold medals\n",
    "max_gold_index = np.argmax(np_olympic_country_gold)\n",
    "country_with_max_gold = np_olympic_country[max_gold_index]\n",
    "\n",
    "print(\"Country with the most gold medals:\", country_with_max_gold)"
   ]
  },
  {
   "cell_type": "markdown",
   "id": "c4beaee5",
   "metadata": {},
   "source": [
    "# 3.Find countries with more than 20 gold medals."
   ]
  },
  {
   "cell_type": "code",
   "execution_count": 4,
   "id": "cce036db",
   "metadata": {},
   "outputs": [
    {
     "name": "stdout",
     "output_type": "stream",
     "text": [
      "Countries with more than 20 gold medals: ['GBR' 'China' 'RUS' 'US']\n"
     ]
    }
   ],
   "source": [
    "import numpy as np\n",
    "\n",
    "# Dataset\n",
    "np_olympic_country = np.array(['GBR', 'China', 'RUS', 'US', 'KOR', 'JPN', 'GER'])\n",
    "np_olympic_country_gold = np.array([29, 38, 24, 46, 13, 7, 11])\n",
    "\n",
    "# Find countries with more than 20 gold medals\n",
    "countries_with_more_than_20_gold = np_olympic_country[np_olympic_country_gold > 20]\n",
    "\n",
    "print(\"Countries with more than 20 gold medals:\", countries_with_more_than_20_gold)"
   ]
  },
  {
   "cell_type": "markdown",
   "id": "acade73a",
   "metadata": {},
   "source": [
    "# 4.Evaluate the dataset and print the medal\n",
    "i) Print each country name with number of gold medals\n",
    "ii) Print each country name with total number of medals"
   ]
  },
  {
   "cell_type": "code",
   "execution_count": 5,
   "id": "1cac1fbb",
   "metadata": {},
   "outputs": [
    {
     "name": "stdout",
     "output_type": "stream",
     "text": [
      "GBR: 29 gold medals\n",
      "China: 38 gold medals\n",
      "RUS: 24 gold medals\n",
      "US: 46 gold medals\n",
      "KOR: 13 gold medals\n",
      "JPN: 7 gold medals\n",
      "GER: 11 gold medals\n"
     ]
    }
   ],
   "source": [
    "import numpy as np\n",
    "\n",
    "# Dataset\n",
    "np_olympic_country = np.array(['GBR', 'China', 'RUS', 'US', 'KOR', 'JPN', 'GER'])\n",
    "np_olympic_country_gold = np.array([29, 38, 24, 46, 13, 7, 11])\n",
    "\n",
    "# Print each country name with the number of gold medals\n",
    "for i in range(len(np_olympic_country)):\n",
    "    country = np_olympic_country[i]\n",
    "    gold_medals = np_olympic_country_gold[i]\n",
    "    print(f\"{country}: {gold_medals} gold medals\")"
   ]
  },
  {
   "cell_type": "code",
   "execution_count": 6,
   "id": "c32daf9a",
   "metadata": {},
   "outputs": [
    {
     "name": "stdout",
     "output_type": "stream",
     "text": [
      "GBR: 65 total medals\n",
      "China: 88 total medals\n",
      "RUS: 81 total medals\n",
      "US: 103 total medals\n",
      "KOR: 28 total medals\n",
      "JPN: 38 total medals\n",
      "GER: 36 total medals\n"
     ]
    }
   ],
   "source": [
    "import numpy as np\n",
    "\n",
    "# Dataset\n",
    "np_olympic_country = np.array(['GBR', 'China', 'RUS', 'US', 'KOR', 'JPN', 'GER'])\n",
    "np_olympic_country_gold = np.array([29, 38, 24, 46, 13, 7, 11])\n",
    "np_olympic_country_silver = np.array([17, 28, 25, 28, 8, 14, 11])\n",
    "np_olympic_country_bronze = np.array([19, 22, 32, 29, 7, 17, 14])\n",
    "\n",
    "# Calculate total medals for each country and print\n",
    "for i in range(len(np_olympic_country)):\n",
    "    country = np_olympic_country[i]\n",
    "    total_medals = (\n",
    "        np_olympic_country_gold[i]\n",
    "        + np_olympic_country_silver[i]\n",
    "        + np_olympic_country_bronze[i]\n",
    "    )\n",
    "    print(f\"{country}: {total_medals} total medals\")"
   ]
  }
 ],
 "metadata": {
  "kernelspec": {
   "display_name": "Python 3 (ipykernel)",
   "language": "python",
   "name": "python3"
  },
  "language_info": {
   "codemirror_mode": {
    "name": "ipython",
    "version": 3
   },
   "file_extension": ".py",
   "mimetype": "text/x-python",
   "name": "python",
   "nbconvert_exporter": "python",
   "pygments_lexer": "ipython3",
   "version": "3.11.4"
  }
 },
 "nbformat": 4,
 "nbformat_minor": 5
}

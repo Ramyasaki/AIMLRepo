{
 "cells": [
  {
   "cell_type": "markdown",
   "id": "7baeddad",
   "metadata": {},
   "source": [
    "# 2.Create a Python function that checks if two given strings are anagrams of each other."
   ]
  },
  {
   "cell_type": "code",
   "execution_count": 1,
   "id": "4b578953",
   "metadata": {},
   "outputs": [
    {
     "name": "stdout",
     "output_type": "stream",
     "text": [
      "'listen' and 'silent' are anagrams.\n"
     ]
    }
   ],
   "source": [
    "def are_anagrams(str1, str2):\n",
    "    # Remove spaces and convert both strings to lowercase (case-insensitive check)\n",
    "    str1 = str1.replace(\" \", \"\").lower()\n",
    "    str2 = str2.replace(\" \", \"\").lower()\n",
    "\n",
    "    # Check if the sorted versions of the strings are equal\n",
    "    return sorted(str1) == sorted(str2)\n",
    "\n",
    "# Test cases\n",
    "string1 = \"listen\"\n",
    "string2 = \"silent\"\n",
    "result = are_anagrams(string1, string2)\n",
    "if result:\n",
    "    print(f\"'{string1}' and '{string2}' are anagrams.\")\n",
    "else:\n",
    "    print(f\"'{string1}' and '{string2}' are not anagrams.\")\n"
   ]
  },
  {
   "cell_type": "markdown",
   "id": "43a8481c",
   "metadata": {},
   "source": [
    "# 3.Create a Python function that checks if two given strings are anagrams of each other."
   ]
  },
  {
   "cell_type": "code",
   "execution_count": 2,
   "id": "5b574d9d",
   "metadata": {},
   "outputs": [
    {
     "name": "stdout",
     "output_type": "stream",
     "text": [
      "'Listen' and 'Silent' are anagrams.\n"
     ]
    }
   ],
   "source": [
    "def are_anagrams(str1, str2):\n",
    "    # Remove spaces and convert both strings to lowercase\n",
    "    str1 = str1.replace(\" \", \"\").lower()\n",
    "    str2 = str2.replace(\" \", \"\").lower()\n",
    "\n",
    "    # Check if the two strings have the same sorted characters\n",
    "    return sorted(str1) == sorted(str2)\n",
    "\n",
    "# Test cases\n",
    "string1 = \"Listen\"\n",
    "string2 = \"Silent\"\n",
    "result = are_anagrams(string1, string2)\n",
    "if result:\n",
    "    print(f\"'{string1}' and '{string2}' are anagrams.\")\n",
    "else:\n",
    "    print(f\"'{string1}' and '{string2}' are not anagrams.\")\n"
   ]
  },
  {
   "cell_type": "markdown",
   "id": "a1f38b1f",
   "metadata": {},
   "source": [
    "# 6.Read a text file containing a list of names or numbers, sort the data, and write the sorted data back to a new file."
   ]
  },
  {
   "cell_type": "code",
   "execution_count": 3,
   "id": "2dba31d4",
   "metadata": {},
   "outputs": [
    {
     "name": "stdout",
     "output_type": "stream",
     "text": [
      "Data sorted and written to 'sorted_data.txt' successfully.\n"
     ]
    }
   ],
   "source": [
    "def read_file_and_sort(input_file, output_file):\n",
    "    try:\n",
    "        # Read the data from the input file\n",
    "        with open(input_file, 'r') as file:\n",
    "            data = file.read().splitlines()\n",
    "\n",
    "        # Sort the data\n",
    "        data.sort()\n",
    "\n",
    "        # Write the sorted data to the output file\n",
    "        with open(output_file, 'w') as file:\n",
    "            file.write('\\n'.join(data))\n",
    "\n",
    "        print(f\"Data sorted and written to '{output_file}' successfully.\")\n",
    "\n",
    "    except FileNotFoundError:\n",
    "        print(f\"The file '{input_file}' was not found.\")\n",
    "    except Exception as e:\n",
    "        print(f\"An error occurred: {e}\")\n",
    "\n",
    "# Example usage:\n",
    "input_filename = 'unsorted_data.txt'\n",
    "output_filename = 'sorted_data.txt'\n",
    "read_file_and_sort(input_filename, output_filename)\n"
   ]
  },
  {
   "cell_type": "markdown",
   "id": "4d8053a8",
   "metadata": {},
   "source": [
    "# 7.Write a Python script that compares two text files and identifies the differences between them, including added, modified, and deleted lines."
   ]
  },
  {
   "cell_type": "code",
   "execution_count": 5,
   "id": "8c708fcf",
   "metadata": {},
   "outputs": [
    {
     "name": "stdout",
     "output_type": "stream",
     "text": [
      "Added lines:\n",
      "+ Python is commonly used for developing websites and software, task automation, data analysis, and data visualisation.\n",
      "+ Since it's relatively easy to learn, Python has been adopted by many non-programmers, such as accountants and scientists,for a variety of everyday tasks, like organising finances.\n",
      "\n",
      "Modified lines:\n",
      "\n",
      "Deleted lines:\n",
      "- Python is a widely used general-purpose, high level programming language.\n",
      "- It was created by Guido van Rossum in 1991 and further developed by the Python Software Foundation.\n",
      "- It was designed with an emphasis on code readability, and its syntax allows programmers\n",
      "- to express their concepts in fewer lines of code.\n"
     ]
    }
   ],
   "source": [
    "import difflib\n",
    "\n",
    "def compare_files(file1, file2):\n",
    "    try:\n",
    "        # Read the contents of the two files\n",
    "        with open(file1, 'r', encoding='utf-8') as f1:\n",
    "            file1_lines = f1.readlines()\n",
    "        with open(file2, 'r', encoding='utf-8') as f2:\n",
    "            file2_lines = f2.readlines()\n",
    "\n",
    "        # Compute the differences between the two files\n",
    "        differ = difflib.Differ()\n",
    "        diff = list(differ.compare(file1_lines, file2_lines))\n",
    "\n",
    "        # Prepare separate lists for added, modified, and deleted lines\n",
    "        added_lines = []\n",
    "        modified_lines = []\n",
    "        deleted_lines = []\n",
    "\n",
    "        for line in diff:\n",
    "            if line.startswith('+ '):\n",
    "                added_lines.append(line[2:])\n",
    "            elif line.startswith('- '):\n",
    "                deleted_lines.append(line[2:])\n",
    "            elif line.startswith('  '):\n",
    "                modified_lines.append(line[2:])\n",
    "\n",
    "        return added_lines, modified_lines, deleted_lines\n",
    "\n",
    "    except FileNotFoundError:\n",
    "        print(\"One or both of the files were not found.\")\n",
    "    except Exception as e:\n",
    "        print(f\"An error occurred: {e}\")\n",
    "\n",
    "# Example usage:\n",
    "file1_path = 'file1.txt'\n",
    "file2_path = 'file2.txt'\n",
    "\n",
    "added, modified, deleted = compare_files(file1_path, file2_path)\n",
    "\n",
    "print(\"Added lines:\")\n",
    "for line in added:\n",
    "    print(f\"+ {line.strip()}\")\n",
    "\n",
    "print(\"\\nModified lines:\")\n",
    "for line in modified:\n",
    "    print(f\"  {line.strip()}\")\n",
    "\n",
    "print(\"\\nDeleted lines:\")\n",
    "for line in deleted:\n",
    "    print(f\"- {line.strip()}\")\n"
   ]
  },
  {
   "cell_type": "markdown",
   "id": "2dcc3f38",
   "metadata": {},
   "source": [
    "# 8.Develop a Python program that compresses a large text file using a compression algorithm (eg, gzip) and then decompresses it back to its original form."
   ]
  },
  {
   "cell_type": "code",
   "execution_count": 6,
   "id": "c0c0cca8",
   "metadata": {},
   "outputs": [
    {
     "name": "stdout",
     "output_type": "stream",
     "text": [
      "Compression successful. Compressed file saved as 'compressed_file.gz'.\n",
      "Decompression successful. Decompressed file saved as 'decompressed_text_file.txt'.\n"
     ]
    }
   ],
   "source": [
    "import gzip\n",
    "\n",
    "def compress_file(input_file, output_file):\n",
    "    try:\n",
    "        with open(input_file, 'rb') as f_in, gzip.open(output_file, 'wb') as f_out:\n",
    "            f_out.writelines(f_in)\n",
    "\n",
    "        print(f\"Compression successful. Compressed file saved as '{output_file}'.\")\n",
    "\n",
    "    except FileNotFoundError:\n",
    "        print(f\"The file '{input_file}' was not found.\")\n",
    "    except Exception as e:\n",
    "        print(f\"An error occurred during compression: {e}\")\n",
    "\n",
    "def decompress_file(input_file, output_file):\n",
    "    try:\n",
    "        with gzip.open(input_file, 'rb') as f_in, open(output_file, 'wb') as f_out:\n",
    "            f_out.writelines(f_in)\n",
    "\n",
    "        print(f\"Decompression successful. Decompressed file saved as '{output_file}'.\")\n",
    "\n",
    "    except FileNotFoundError:\n",
    "        print(f\"The file '{input_file}' was not found.\")\n",
    "    except Exception as e:\n",
    "        print(f\"An error occurred during decompression: {e}\")\n",
    "\n",
    "# Example usage:\n",
    "input_filename = 'large_text_file.txt'\n",
    "compressed_filename = 'compressed_file.gz'\n",
    "decompressed_filename = 'decompressed_text_file.txt'\n",
    "\n",
    "# Compress the file\n",
    "compress_file(input_filename, compressed_filename)\n",
    "\n",
    "# Decompress the file\n",
    "decompress_file(compressed_filename, decompressed_filename)\n"
   ]
  },
  {
   "cell_type": "markdown",
   "id": "3b0982aa",
   "metadata": {},
   "source": [
    "# 9.Read a binary file (e.g., an image or audio file) in Python and perform an operation, such as resizing an image or modifying audio data."
   ]
  },
  {
   "cell_type": "code",
   "execution_count": 35,
   "id": "d67d978c",
   "metadata": {},
   "outputs": [
    {
     "name": "stdout",
     "output_type": "stream",
     "text": [
      "Resized image saved to output image.jpg\n"
     ]
    }
   ],
   "source": [
    "def resize_image(input_path, output_path, new_width, new_height):\n",
    "    try:\n",
    "        # Open the image file\n",
    "        with Image.open(\"C:/Users/RAMYA/OneDrive/Pictures/input_image.jpg\") as img:\n",
    "            # Resize the image to the specified dimensions\n",
    "            resized_img = img.resize((new_width, new_height))\n",
    "            \n",
    "            # Save the resized image to the output file\n",
    "            resized_img.save(output_path)\n",
    "            print(f\"Resized image saved to {output_path}\")\n",
    "    \n",
    "    except Exception as e:\n",
    "        print(f\"Error: {e}\")\n",
    "\n",
    "# Input and output file paths\n",
    "input_image_path = \"input_image.jpg\"\n",
    "output_image_path = \"output image.jpg\"\n",
    "\n",
    "# New width and height for resizing\n",
    "new_width = 300\n",
    "new_height = 200\n",
    "\n",
    "# Call the resize_image function\n",
    "resize_image(input_image_path, output_image_path, new_width, new_height)"
   ]
  },
  {
   "cell_type": "markdown",
   "id": "b3d3d228",
   "metadata": {},
   "source": [
    "# 10.Write a python program to Combine the contents of multiple text files into a single file using Python. Each file should be appended to the end of the resulting file."
   ]
  },
  {
   "cell_type": "code",
   "execution_count": 9,
   "id": "1315a344",
   "metadata": {},
   "outputs": [
    {
     "name": "stdout",
     "output_type": "stream",
     "text": [
      "Text files combined successfully. Result saved as 'combined_files.txt'.\n"
     ]
    }
   ],
   "source": [
    "def combine_text_files(input_files, output_file):\n",
    "    try:\n",
    "        with open(output_file, 'w') as combined_file:\n",
    "            for input_file in input_files:\n",
    "                with open(input_file, 'r') as current_file:\n",
    "                    combined_file.write(current_file.read())\n",
    "\n",
    "        print(f\"Text files combined successfully. Result saved as '{output_file}'.\")\n",
    "\n",
    "    except FileNotFoundError:\n",
    "        print(\"One or more input files were not found.\")\n",
    "    except Exception as e:\n",
    "        print(f\"An error occurred: {e}\")\n",
    "\n",
    "# Example usage:\n",
    "input_files = ['file1.txt', 'file.txt', 'file3.txt']\n",
    "output_file = 'combined_files.txt'\n",
    "\n",
    "combine_text_files(input_files, output_file)\n"
   ]
  },
  {
   "cell_type": "markdown",
   "id": "d6040c67",
   "metadata": {},
   "source": [
    "# 11.Create a Python script that accepts a text file as a command-line argument and counts the number of words, lines, and characters in the file."
   ]
  },
  {
   "cell_type": "code",
   "execution_count": null,
   "id": "51adf858",
   "metadata": {},
   "outputs": [],
   "source": [
    "import sys\n",
    "\n",
    "def count_file_stats(file_path):\n",
    "    try:\n",
    "        with open(file_path, 'r') as file:\n",
    "            text = file.read()\n",
    "            word_count = len(text.split())\n",
    "            line_count = text.count('\\n') + 1\n",
    "            char_count = len(text)\n",
    "\n",
    "            print(f\"Word count: {word_count}\")\n",
    "            print(f\"Line count: {line_count}\")\n",
    "            print(f\"Character count: {char_count}\")\n",
    "\n",
    "    except FileNotFoundError:\n",
    "        print(\"File not found.\")\n",
    "    except Exception as e:\n",
    "        print(f\"An error occurred: {e}\")\n",
    "\n",
    "if __name__ == \"__main__\":\n",
    "    if len(sys.argv) != 2:\n",
    "        print(\"Usage: python count_file_stats.py <file_path>\")\n",
    "    else:\n",
    "        file_path = sys.argv[1]\n",
    "        count_file_stats(file_path)\n"
   ]
  },
  {
   "cell_type": "markdown",
   "id": "2cd869d0",
   "metadata": {},
   "source": [
    "# 12.Build a command-line calculator that accepts a mathematical expression as a string argument and evaluates it, then prints the result."
   ]
  },
  {
   "cell_type": "code",
   "execution_count": null,
   "id": "a88d3ba6",
   "metadata": {},
   "outputs": [],
   "source": [
    "import sys\n",
    "\n",
    "def calculate(expression):\n",
    "    try:\n",
    "        result = eval(expression)\n",
    "        return result\n",
    "    except Exception as e:\n",
    "        return str(e)\n",
    "\n",
    "if len(sys.argv) != 2:\n",
    "    print(\"Usage: python calculator.py 'expression'\")\n",
    "else:\n",
    "    expression = sys.argv[1]\n",
    "    result = calculate(expression)\n",
    "    print(f\"Result: {result}\")\n"
   ]
  },
  {
   "cell_type": "markdown",
   "id": "54ee8ba5",
   "metadata": {},
   "source": [
    "# 13.Implement a Python script that takes a CSV file and two column names as command-line arguments. The script should calculate the average of values in one column and store the result in another column in the same file."
   ]
  },
  {
   "cell_type": "code",
   "execution_count": null,
   "id": "65216309",
   "metadata": {},
   "outputs": [],
   "source": [
    "import sys\n",
    "import csv\n",
    "\n",
    "def calculate_average(input_file, output_file, column_to_average, new_column_name):\n",
    "    try:\n",
    "        with open(input_file, 'r', newline='') as csv_file, open(output_file, 'w', newline='') as output_csv_file:\n",
    "            # Create a CSV reader and writer\n",
    "            reader = csv.DictReader(csv_file)\n",
    "            fieldnames = reader.fieldnames + [new_column_name]\n",
    "            writer = csv.DictWriter(output_csv_file, fieldnames=fieldnames)\n",
    "            writer.writeheader()\n",
    "\n",
    "            # Initialize variables for calculating the average\n",
    "            total = 0\n",
    "            count = 0\n",
    "\n",
    "            for row in reader:\n",
    "                try:\n",
    "                    value = float(row[column_to_average])\n",
    "                    total += value\n",
    "                    count += 1\n",
    "                except ValueError:\n",
    "                    pass  # Ignore rows with non-numeric values in the specified column\n",
    "                row[new_column_name] = ''\n",
    "\n",
    "            if count > 0:\n",
    "                average = total / count\n",
    "\n",
    "                csv_file.seek(0)\n",
    "                next(reader)  # Skip the header row\n",
    "\n",
    "                for row in reader:\n",
    "                    try:\n",
    "                        value = float(row[column_to_average])\n",
    "                        row[new_column_name] = average\n",
    "                    except ValueError:\n",
    "                        pass\n",
    "\n",
    "                writer.writerows(reader)\n",
    "\n",
    "        print(f\"Average calculated and saved to '{output_file}'.\")\n",
    "\n",
    "    except FileNotFoundError:\n",
    "        print(f\"One or both of the files were not found.\")\n",
    "    except Exception as e:\n",
    "        print(f\"An error occurred: {e}\")\n",
    "\n",
    "if __name__ == \"__main__\":\n",
    "    if len(sys.argv) != 5:\n",
    "        print(\"Usage: python calculate_average.py <input_file> <output_file> <column_to_average> <new_column_name>\")\n",
    "    else:\n",
    "        input_file = sys.argv[1]\n",
    "        output_file = sys.argv[2]\n",
    "        column_to_average = sys.argv[3]\n",
    "        new_column_name = sys.argv[4]\n",
    "\n",
    "        calculate_average(input_file, output_file, column_to_average, new_column_name)\n"
   ]
  },
  {
   "cell_type": "markdown",
   "id": "26053e2d",
   "metadata": {},
   "source": [
    "# 14.Write a Python script that takes two integer command-line arguments and prints their sum."
   ]
  },
  {
   "cell_type": "code",
   "execution_count": null,
   "id": "4d5a4722",
   "metadata": {},
   "outputs": [],
   "source": [
    "import sys\n",
    "\n",
    "if len(sys.argv) != 3:\n",
    "    print(\"Usage: python add.py <integer1> <integer2>\")\n",
    "else:\n",
    "    try:\n",
    "        num1 = int(sys.argv[1])\n",
    "        num2 = int(sys.argv[2])\n",
    "        result = num1 + num2\n",
    "        print(f\"Sum: {result}\")\n",
    "    except ValueError:\n",
    "        print(\"Both arguments should be integers.\")\n"
   ]
  },
  {
   "cell_type": "markdown",
   "id": "a046cd2b",
   "metadata": {},
   "source": [
    "# 15.Create a custom Python module that includes functions to calculate the factorial of a number and to check if a number is prime. Import and use this module in another Python script."
   ]
  },
  {
   "cell_type": "code",
   "execution_count": null,
   "id": "45854c40",
   "metadata": {},
   "outputs": [],
   "source": [
    "def factorial(n):\n",
    "    if n < 0:\n",
    "        return None  # Factorial is not defined for negative numbers\n",
    "    if n == 0:\n",
    "        return 1\n",
    "    result = 1\n",
    "    for i in range(1, n + 1):\n",
    "        result *= i\n",
    "    return result\n",
    "\n",
    "def is_prime(n):\n",
    "    if n <= 1:\n",
    "        return False\n",
    "    if n <= 3:\n",
    "        return True\n",
    "    if n % 2 == 0 or n % 3 == 0:\n",
    "        return False\n",
    "    i = 5\n",
    "    while i * i <= n:\n",
    "        if n % i == 0 or n % (i + 2) == 0:\n",
    "            return False\n",
    "        i += 6\n",
    "    return True"
   ]
  },
  {
   "cell_type": "code",
   "execution_count": null,
   "id": "bd9c83b6",
   "metadata": {},
   "outputs": [],
   "source": [
    "import math_functions\n",
    "\n",
    "# Test the functions from the math_functions module\n",
    "num = 5\n",
    "\n",
    "# Calculate factorial\n",
    "fact = math_functions.factorial(num)\n",
    "if fact is not None:\n",
    "    print(f\"Factorial of {num} is {fact}\")\n",
    "else:\n",
    "    print(\"Factorial is not defined for negative numbers.\")\n",
    "\n",
    "# Check if prime\n",
    "if math_functions.is_prime(num):\n",
    "    print(f\"{num} is prime.\")\n",
    "else:\n",
    "    print(f\"{num} is not prime.\")"
   ]
  },
  {
   "cell_type": "markdown",
   "id": "0089b5c6",
   "metadata": {},
   "source": [
    "# 16.Create a Python module named calculator.py that contains functions for each of the four operations (addition, subtraction, multiplication, and division). Each function should take two arguments, perform the respective operation, and return the result."
   ]
  },
  {
   "cell_type": "code",
   "execution_count": null,
   "id": "7863569a",
   "metadata": {},
   "outputs": [],
   "source": [
    "def add(x, y):\n",
    "    return x + y\n",
    "\n",
    "def subtract(x, y):\n",
    "    return x - y\n",
    "\n",
    "def multiply(x, y):\n",
    "    return x * y\n",
    "\n",
    "def divide(x, y):\n",
    "    if y == 0:\n",
    "        raise ValueError(\"Division by zero is not allowed.\")\n",
    "    return x / y\n"
   ]
  },
  {
   "cell_type": "code",
   "execution_count": null,
   "id": "5ff33d72",
   "metadata": {},
   "outputs": [],
   "source": [
    "import calculator1\n",
    "\n",
    "# Test the functions from the calculator module\n",
    "num1 = 10\n",
    "num2 = 5\n",
    "\n",
    "# Addition\n",
    "result_add = calculator1.add(num1, num2)\n",
    "print(f\"{num1} + {num2} = {result_add}\")\n",
    "\n",
    "# Subtraction\n",
    "result_subtract = calculator1.subtract(num1, num2)\n",
    "print(f\"{num1} - {num2} = {result_subtract}\")\n",
    "\n",
    "# Multiplication\n",
    "result_multiply = calculator1.multiply(num1, num2)\n",
    "print(f\"{num1} * {num2} = {result_multiply}\")\n",
    "\n",
    "# Division\n",
    "try:\n",
    "    result_divide = calculator1.divide(num1, num2)\n",
    "    print(f\"{num1} / {num2} = {result_divide}\")\n",
    "except ValueError as e:\n",
    "    print(f\"Error: {e}\")\n"
   ]
  },
  {
   "cell_type": "markdown",
   "id": "fba84a1f",
   "metadata": {},
   "source": [
    "# 1. Case Study: Online Shopping Cart Exception Handling\n",
    "\n",
    "You are working as a Python developer for an e-commerce company, and your team is responsible for building and maintaining the shopping cart module of the website. Customers can add items to their cart, view the cart contents, and proceed to checkout.\n",
    "\n",
    "Recently, there have been reports of unexpected crashes and errors when customers interact with their shopping carts Your task is to investigate these issues and improve the exception handling in the shopping cart code to make it more robust.\n",
    "\n",
    "Requirements and Scenarios:\n",
    "\n",
    "Scenario 1 Adding Items to Cart\n",
    "\n",
    "When a customer adds an item to their cart, they provide the product ID and quantity Handle\n",
    "\n",
    "exceptions that may occur during this process, such as\n",
    "\n",
    "i)Product ID not found in the product catalog\n",
    "\n",
    "ii)invalid quantity reg. neganve quantity or non integer input.\n",
    "\n",
    "Scenario 2-Viewing Cart Contents:\n",
    "\n",
    "When a customer views their cart, display the list of items and their quantities Handle exceptions that may occur during this process, such as\n",
    "\n",
    "Empty cart (no items added)\n",
    "\n",
    "Unexpected errors (eg, network issues when fetching cart data)\n",
    "\n",
    "Scenario 3 Proceeding to Checkout:\n",
    "\n",
    "When a customer proceeds to checkout, validate the cart and process the payment. Handle exceptions that may occur during this process, such as\n",
    "\n",
    "i)Insufficient stock for some items in the cart.\n",
    "\n",
    "ii)Payment gateway errors\n",
    "\n",
    "iii)Customer payment method declined\n",
    "\n",
    "Your Tasks\n",
    "\n",
    "1 Review the existing shopping cart code to identify potential areas where exceptions may occur.\n",
    "\n",
    "2.Enhance the exception handling in the code by adding appropriate try except, and finally blocks to handle exceptions gracefully. Provide helpful error messages to the user where applicable\n",
    "\n",
    "3 Ensure that the program continues to run smoothly even when exceptions and customers receive informative feedback\n",
    "\n",
    "4 Test the shopping cart thoroughly with different scenaries to ensure that it handles expection correctly"
   ]
  },
  {
   "cell_type": "code",
   "execution_count": 52,
   "id": "4c6fc7e7",
   "metadata": {},
   "outputs": [],
   "source": [
    "class ProductNotFoundException(Exception):\n",
    "    pass\n",
    "\n",
    "class InvalidQuantityException(Exception):\n",
    "    pass\n",
    "\n",
    "class EmptyCartException(Exception):\n",
    "    pass\n",
    "\n",
    "class NetworkErrorException(Exception):\n",
    "    pass\n",
    "\n",
    "class InsufficientStockException(Exception):\n",
    "    pass\n",
    "\n",
    "class PaymentGatewayError(Exception):\n",
    "    pass\n",
    "\n",
    "class PaymentDeclinedException(Exception):\n",
    "    pass\n"
   ]
  },
  {
   "cell_type": "code",
   "execution_count": 53,
   "id": "df9ab0b9",
   "metadata": {},
   "outputs": [
    {
     "name": "stdout",
     "output_type": "stream",
     "text": [
      "3 item(s) of Product 1 added to the cart.\n",
      "Cart Contents:\n",
      "p1: 3 item(s)\n",
      "Checkout successful!\n"
     ]
    }
   ],
   "source": [
    "class ShoppingCart:\n",
    "    def __init__(self):\n",
    "        self.cart = {}\n",
    "\n",
    "    def add_to_cart(self, product_catalog, product_id, quantity):\n",
    "        try:\n",
    "            if product_id not in product_catalog:\n",
    "                raise ProductNotFoundException(\"Product ID not found in the product catalog.\")\n",
    "\n",
    "            if not isinstance(quantity, int) or quantity <= 0:\n",
    "                raise InvalidQuantityException(\"Invalid quantity. Please provide a positive integer.\")\n",
    "\n",
    "            if product_id in self.cart:\n",
    "                self.cart[product_id] += quantity\n",
    "            else:\n",
    "                self.cart[product_id] = quantity\n",
    "\n",
    "            print(f\"{quantity} item(s) of {product_catalog[product_id]} added to the cart.\")\n",
    "\n",
    "        except (ProductNotFoundException, InvalidQuantityException) as e:\n",
    "            print(f\"Error: {e}\")\n",
    "\n",
    "    def view_cart(self):\n",
    "        try:\n",
    "            if not self.cart:\n",
    "                raise EmptyCartException(\"The cart is empty.\")\n",
    "\n",
    "            print(\"Cart Contents:\")\n",
    "            for product_id, quantity in self.cart.items():\n",
    "                print(f\"{product_id}: {quantity} item(s)\")\n",
    "\n",
    "        except EmptyCartException as e:\n",
    "            print(f\"Error: {e}\")\n",
    "\n",
    "    def checkout(self, product_stock, payment_gateway, customer_payment_method):\n",
    "        try:\n",
    "            for product_id, quantity in self.cart.items():\n",
    "                if product_id not in product_stock or quantity > product_stock[product_id]:\n",
    "                    raise InsufficientStockException(\"Insufficient stock for some items in the cart.\")\n",
    "\n",
    "            # Process payment\n",
    "            payment_result = payment_gateway.process_payment(customer_payment_method)\n",
    "            if payment_result != \"success\":\n",
    "                raise PaymentDeclinedException(f\"Payment failed. ({payment_result})\")\n",
    "\n",
    "            # Update inventory\n",
    "            for product_id, quantity in self.cart.items():\n",
    "                product_stock[product_id] -= quantity\n",
    "\n",
    "            print(\"Checkout successful!\")\n",
    "\n",
    "        except (InsufficientStockException, PaymentDeclinedException) as e:\n",
    "            print(f\"Error: {e}\")\n",
    "\n",
    "# Example usage:\n",
    "product_catalog = {'p1': 'Product 1', 'p2': 'Product 2'}\n",
    "product_stock = {'p1': 5, 'p2': 10}\n",
    "\n",
    "class PaymentGateway:\n",
    "    def process_payment(self, method):\n",
    "        if method == \"success\":\n",
    "            return \"success\"\n",
    "        elif method == \"declined\":\n",
    "            return \"payment declined\"\n",
    "        else:\n",
    "            return \"gateway error\"\n",
    "\n",
    "payment_gateway = PaymentGateway()\n",
    "cart = ShoppingCart()\n",
    "cart.add_to_cart(product_catalog, 'p1', 3)\n",
    "cart.view_cart()\n",
    "cart.checkout(product_stock, payment_gateway, \"success\")\n"
   ]
  },
  {
   "cell_type": "markdown",
   "id": "806a25f6",
   "metadata": {},
   "source": [
    "# 4. Case Study: Online Bookstore Database Connectivity\n",
    "\n",
    "You are a Python developer working on the backend of an online bookstore website. The website's database stores information about books, customers, orders, and inventory. Your task is to develop and maintain the database connectivity and interaction components\n",
    "\n",
    "Requirements and Scenarios:\n",
    "\n",
    "Scenario 1- Customer Registration:\n",
    "\n",
    "When a new customer registers on the website, their information (name, email, password) should be stored in the database\n",
    "\n",
    "Handle exceptions that may occur during the registration process, such as\n",
    "\n",
    "    1 Duplicate email addresses\n",
    "\n",
    "    2 Database connection errors\n",
    "\n",
    "Scenario 2 Book Inventory Management\n",
    "\n",
    "implement functionality to add new books to the inventory, update existing book details, and delete books.\n",
    "\n",
    "Handle exceptions that may occur during these operations, such as\n",
    "\n",
    "    1 invalid book data\n",
    "\n",
    "    2 Database errors when updating or deleting books\n",
    "\n",
    "Scenario 3-Customer Orders:\n",
    "\n",
    "Allow customers to place orders for books. Each order includes customer details and a list of ordered books\n",
    "\n",
    "Handle exceptions that may occur during order placement, such as\n",
    "\n",
    "    1 insufficient stock for some books\n",
    "\n",
    "    2.Database errors when recording orders\n",
    "\n",
    "Scenario 4-Order History:\n",
    "\n",
    "Customers should be able to view their order history, which includes details of past orders\n",
    "\n",
    "Handle exceptions that may occur when retrieving order history, such as\n",
    "\n",
    "    1 No orders found for the customer\n",
    "\n",
    "    2 Database connection issues.\n",
    "\n",
    "Your Tasks\n",
    "\n",
    "    1.Review the existing database interaction code to identify potential areas where exceptions may occur\n",
    "\n",
    "    2.Enhance the exception handling in the code by adding appropriate try, except, and finally blocks to handle exceptions gracefully Provide helpful error messages to the user where applicable\n",
    "\n",
    "    3.Ensure that the program continues to run smoothly even when exceptions occur, and customers receive informative feedback \n",
    "\n",
    "    4.Implement database queries and transactions following best practices to maintain data integrity \n",
    "\n",
    "    5.Test the website's database interactions thoroughly with different scenarios to ensure that it handles exceptions correctly."
   ]
  },
  {
   "cell_type": "code",
   "execution_count": 1,
   "id": "58c0791b",
   "metadata": {},
   "outputs": [
    {
     "name": "stdout",
     "output_type": "stream",
     "text": [
      "Database error: no such table: customers\n"
     ]
    }
   ],
   "source": [
    "#scenario 1\n",
    "import sqlite3\n",
    "\n",
    "def register_customer(name, email, password):\n",
    "    try:\n",
    "        conn = sqlite3.connect(\"bookstore.db\")\n",
    "        cursor = conn.cursor()\n",
    "\n",
    "        cursor.execute(\"SELECT COUNT(*) FROM customers WHERE email = ?\", (email,))\n",
    "        count = cursor.fetchone()[0]\n",
    "        if count > 0:\n",
    "            raise ValueError(\"Email address already exists.\")\n",
    "\n",
    "        cursor.execute(\"INSERT INTO customers (name, email, password) VALUES (?, ?, ?)\", (name, email, password))\n",
    "        conn.commit()\n",
    "\n",
    "        print(\"Registration successful!\")\n",
    "\n",
    "    except sqlite3.Error as e:\n",
    "        print(f\"Database error: {e}\")\n",
    "    except ValueError as e:\n",
    "        print(f\"Error: {e}\")\n",
    "    except Exception as e:\n",
    "        print(f\"An unexpected error occurred: {e}\")\n",
    "    finally:\n",
    "        conn.close()\n",
    "\n",
    "try:\n",
    "    register_customer(\"John Doe\", \"john@example.com\", \"password123\")\n",
    "except Exception as e:\n",
    "    print(f\"An error occurred: {e}\")"
   ]
  },
  {
   "cell_type": "code",
   "execution_count": 2,
   "id": "0c8dac56",
   "metadata": {},
   "outputs": [
    {
     "name": "stdout",
     "output_type": "stream",
     "text": [
      "Database error: no such table: inventory\n"
     ]
    }
   ],
   "source": [
    "#scenario 2\n",
    "import sqlite3\n",
    "\n",
    "def add_book(title, author, quantity):\n",
    "    try:\n",
    "        conn = sqlite3.connect(\"bookstore.db\")\n",
    "        cursor = conn.cursor()\n",
    "\n",
    "        if not title or not author or quantity <= 0:\n",
    "            raise ValueError(\"Invalid book data.\")\n",
    "\n",
    "        cursor.execute(\"INSERT INTO inventory (title, author, quantity) VALUES (?, ?, ?)\", (title, author, quantity))\n",
    "        conn.commit()\n",
    "\n",
    "        print(\"Book added to inventory!\")\n",
    "\n",
    "    except sqlite3.Error as e:\n",
    "        print(f\"Database error: {e}\")\n",
    "    except ValueError as e:\n",
    "        print(f\"Error: {e}\")\n",
    "    except Exception as e:\n",
    "        print(f\"An unexpected error occurred: {e}\")\n",
    "    finally:\n",
    "        conn.close()\n",
    "\n",
    "\n",
    "try:\n",
    "    add_book(\"Book Title\", \"Author Name\", 10)\n",
    "except Exception as e:\n",
    "    print(f\"An error occurred: {e}\")"
   ]
  },
  {
   "cell_type": "code",
   "execution_count": 3,
   "id": "76700e6c",
   "metadata": {},
   "outputs": [
    {
     "name": "stdout",
     "output_type": "stream",
     "text": [
      "Database error: no such table: inventory\n"
     ]
    }
   ],
   "source": [
    "#scenario 3\n",
    "import sqlite3\n",
    "\n",
    "def place_order(customer_id, books):\n",
    "    try:\n",
    "        conn = sqlite3.connect(\"bookstore.db\")\n",
    "        cursor = conn.cursor()\n",
    "\n",
    "        for book_id, quantity in books:\n",
    "            cursor.execute(\"SELECT quantity FROM inventory WHERE book_id = ?\", (book_id,))\n",
    "            available_quantity = cursor.fetchone()[0]\n",
    "            if quantity > available_quantity:\n",
    "                raise ValueError(f\"Insufficient stock for book ID {book_id}.\")\n",
    "\n",
    "        cursor.execute(\"INSERT INTO orders (customer_id) VALUES (?)\", (customer_id,))\n",
    "        order_id = cursor.lastrowid\n",
    "\n",
    "        for book_id, quantity in books:\n",
    "            cursor.execute(\"INSERT INTO order_details (order_id, book_id, quantity) VALUES (?, ?, ?)\", (order_id, book_id, quantity))\n",
    "            conn.commit()\n",
    "\n",
    "        print(\"Order placed successfully!\")\n",
    "\n",
    "    except sqlite3.Error as e:\n",
    "        print(f\"Database error: {e}\")\n",
    "    except ValueError as e:\n",
    "        print(f\"Error: {e}\")\n",
    "    except Exception as e:\n",
    "        print(f\"An unexpected error occurred: {e}\")\n",
    "    finally:\n",
    "        conn.close()\n",
    "\n",
    "try:\n",
    "    place_order(1, [(1, 2), (2, 3)])\n",
    "except Exception as e:\n",
    "    print(f\"An error occurred: {e}\")"
   ]
  },
  {
   "cell_type": "code",
   "execution_count": 4,
   "id": "493f8a1a",
   "metadata": {},
   "outputs": [
    {
     "name": "stdout",
     "output_type": "stream",
     "text": [
      "Database error: no such table: orders\n"
     ]
    }
   ],
   "source": [
    "#scenario 4\n",
    "import sqlite3\n",
    "\n",
    "def get_order_history(customer_id):\n",
    "    try:\n",
    "        conn = sqlite3.connect(\"bookstore.db\")\n",
    "        cursor = conn.cursor()\n",
    "\n",
    "        cursor.execute(\"SELECT * FROM orders WHERE customer_id = ?\", (customer_id,))\n",
    "        orders = cursor.fetchall()\n",
    "\n",
    "        if not orders:\n",
    "            raise ValueError(\"No orders found for the customer.\")\n",
    "\n",
    "        for order in orders:\n",
    "            cursor.execute(\"SELECT * FROM order_details WHERE order_id = ?\", (order[0],))\n",
    "            order_details = cursor.fetchall()\n",
    "\n",
    "        print(\"Order history retrieved successfully!\")\n",
    "\n",
    "    except sqlite3.Error as e:\n",
    "        print(f\"Database error: {e}\")\n",
    "    except ValueError as e:\n",
    "        print(f\"Error: {e}\")\n",
    "    except Exception as e:\n",
    "        print(f\"An unexpected error occurred: {e}\")\n",
    "    finally:\n",
    "        conn.close()\n",
    "\n",
    "try:\n",
    "    get_order_history(1)  # Customer ID\n",
    "except Exception as e:\n",
    "    print(f\"An error occurred: {e}\")"
   ]
  },
  {
   "cell_type": "code",
   "execution_count": 5,
   "id": "d8871a39",
   "metadata": {},
   "outputs": [
    {
     "name": "stdout",
     "output_type": "stream",
     "text": [
      "Database error: no such table: users\n"
     ]
    }
   ],
   "source": [
    "#Task 1\n",
    "import sqlite3\n",
    "\n",
    "try:\n",
    "    conn = sqlite3.connect(\"example.db\")\n",
    "\n",
    "    cursor = conn.cursor()\n",
    "\n",
    "    cursor.execute(\"INSERT INTO users (name, email) VALUES (?, ?)\", (\"John Doe\", \"john@example.com\"))\n",
    "\n",
    "    conn.commit()\n",
    "\n",
    "except sqlite3.Error as e:\n",
    "    print(f\"Database error: {e}\")\n",
    "\n",
    "except Exception as e:\n",
    "    print(f\"An unexpected error occurred: {e}\")\n",
    "\n",
    "finally:\n",
    "    conn.close()"
   ]
  },
  {
   "cell_type": "code",
   "execution_count": 6,
   "id": "d1ee9e86",
   "metadata": {},
   "outputs": [
    {
     "name": "stdout",
     "output_type": "stream",
     "text": [
      "Database error: no such table: users\n"
     ]
    }
   ],
   "source": [
    "#Task 2\n",
    "import sqlite3\n",
    "\n",
    "try:\n",
    "    conn = sqlite3.connect(\"example.db\")\n",
    "\n",
    "    cursor = conn.cursor()\n",
    "\n",
    "\n",
    "    cursor.execute(\"INSERT INTO users (name, email) VALUES (?, ?)\", (\"John Doe\", \"john@example.com\"))\n",
    "\n",
    "    conn.commit()\n",
    "\n",
    "    print(\"User 'John Doe' added successfully!\")\n",
    "\n",
    "except sqlite3.Error as e:\n",
    "    print(f\"Database error: {e}\")\n",
    "\n",
    "except ValueError as e:\n",
    "    print(f\"Value error: {e}\")\n",
    "\n",
    "except Exception as e:\n",
    "    print(f\"An unexpected error occurred: {e}\")\n",
    "\n",
    "finally:\n",
    "    try:\n",
    "        conn.close()\n",
    "    except Exception as e:\n",
    "        print(f\"Error while closing the database connection: {e}\")"
   ]
  },
  {
   "cell_type": "code",
   "execution_count": 7,
   "id": "a7f53b3b",
   "metadata": {},
   "outputs": [
    {
     "name": "stdout",
     "output_type": "stream",
     "text": [
      "Database error: no such table: users\n",
      "Please try again later or contact support.\n"
     ]
    }
   ],
   "source": [
    "#Task 3\n",
    "import sqlite3\n",
    "\n",
    "def add_user_to_database(name, email):\n",
    "    try:\n",
    "        conn = sqlite3.connect(\"example.db\")\n",
    "\n",
    "        cursor = conn.cursor()\n",
    "\n",
    "        cursor.execute(\"INSERT INTO users (name, email) VALUES (?, ?)\", (name, email))\n",
    "\n",
    "        conn.commit()\n",
    "\n",
    "        print(\"User added successfully!\")\n",
    "\n",
    "    except sqlite3.Error as e:\n",
    "        print(\"Database error:\", e)\n",
    "        print(\"Please try again later or contact support.\")\n",
    "\n",
    "    except Exception as e:\n",
    "        print(\"An unexpected error occurred:\", e)\n",
    "        print(\"Please try again later or contact support.\")\n",
    "\n",
    "    finally:\n",
    "        try:\n",
    "            conn.close()\n",
    "        except Exception as e:\n",
    "            print(\"Error while closing the database connection:\", e)\n",
    "\n",
    "try:\n",
    "    add_user_to_database(\"John Doe\", \"john@example.com\")\n",
    "except Exception as e:\n",
    "    print(\"An error occurred:\", e)"
   ]
  },
  {
   "cell_type": "code",
   "execution_count": 8,
   "id": "6c381c60",
   "metadata": {},
   "outputs": [
    {
     "name": "stdout",
     "output_type": "stream",
     "text": [
      "Database error: no such table: users\n",
      "Please try again later or contact support.\n"
     ]
    }
   ],
   "source": [
    "#Task 4\n",
    "import sqlite3\n",
    "\n",
    "def insert_user_to_database(name, email):\n",
    "    try:\n",
    "        conn = sqlite3.connect(\"example.db\")\n",
    "\n",
    "        cursor = conn.cursor()\n",
    "\n",
    "        conn.execute(\"BEGIN TRANSACTION\")\n",
    "\n",
    "        cursor.execute(\"INSERT INTO users (name, email) VALUES (?, ?)\", (name, email))\n",
    "\n",
    "        conn.commit()\n",
    "\n",
    "        print(\"User added successfully!\")\n",
    "\n",
    "    except sqlite3.Error as e:\n",
    "        conn.rollback()\n",
    "        print(\"Database error:\", e)\n",
    "        print(\"Please try again later or contact support.\")\n",
    "\n",
    "    except Exception as e:\n",
    "        conn.rollback()\n",
    "        print(\"An unexpected error occurred:\", e)\n",
    "        print(\"Please try again later or contact support.\")\n",
    "\n",
    "    finally:\n",
    "        try:\n",
    "            conn.close()\n",
    "        except Exception as e:\n",
    "            print(\"Error while closing the database connection:\", e)\n",
    "\n",
    "try:\n",
    "    insert_user_to_database(\"John Doe\", \"john@example.com\")\n",
    "except Exception as e:\n",
    "    print(\"An error occurred:\", e)"
   ]
  }
 ],
 "metadata": {
  "kernelspec": {
   "display_name": "Python 3 (ipykernel)",
   "language": "python",
   "name": "python3"
  },
  "language_info": {
   "codemirror_mode": {
    "name": "ipython",
    "version": 3
   },
   "file_extension": ".py",
   "mimetype": "text/x-python",
   "name": "python",
   "nbconvert_exporter": "python",
   "pygments_lexer": "ipython3",
   "version": "3.11.4"
  }
 },
 "nbformat": 4,
 "nbformat_minor": 5
}

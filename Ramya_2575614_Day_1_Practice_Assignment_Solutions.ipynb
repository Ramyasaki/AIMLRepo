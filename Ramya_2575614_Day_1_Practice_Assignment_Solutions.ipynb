{
 "cells": [
  {
   "cell_type": "markdown",
   "id": "cf5d40c2",
   "metadata": {},
   "source": [
    "# Manipulating Fundamentals\n",
    "1.To add new elements to  the end of the list 2.To reverse elemts in the list 3.To display the same list of elements multiple times. 4.To concatenate two list 5. To sort the elements in the list in ascending order."
   ]
  },
  {
   "cell_type": "code",
   "execution_count": 1,
   "id": "caeef414",
   "metadata": {},
   "outputs": [
    {
     "data": {
      "text/plain": [
       "[7, 18, 20, 28]"
      ]
     },
     "execution_count": 1,
     "metadata": {},
     "output_type": "execute_result"
    }
   ],
   "source": [
    "# 1.To add new elements to  the end of the list\n",
    "lst = [7,18,20]\n",
    "lst.append(28)\n",
    "lst"
   ]
  },
  {
   "cell_type": "code",
   "execution_count": 3,
   "id": "0521b330",
   "metadata": {},
   "outputs": [
    {
     "data": {
      "text/plain": [
       "[65, 99, 17]"
      ]
     },
     "execution_count": 3,
     "metadata": {},
     "output_type": "execute_result"
    }
   ],
   "source": [
    "#2.To reverse elemts in the list\n",
    "lst = [17,99,65]\n",
    "lst.reverse()\n",
    "lst"
   ]
  },
  {
   "cell_type": "code",
   "execution_count": 10,
   "id": "8cfce248",
   "metadata": {},
   "outputs": [
    {
     "data": {
      "text/plain": [
       "[[5], [5], [5], [5]]"
      ]
     },
     "execution_count": 10,
     "metadata": {},
     "output_type": "execute_result"
    }
   ],
   "source": [
    "#3.To display the same list of elements multiple times.\n",
    "x=[5]\n",
    "y=[x] * 4\n",
    "y"
   ]
  },
  {
   "cell_type": "code",
   "execution_count": 11,
   "id": "bb92909e",
   "metadata": {},
   "outputs": [
    {
     "name": "stdout",
     "output_type": "stream",
     "text": [
      "[1, 'a', 3, 4, 5]\n"
     ]
    }
   ],
   "source": [
    "#4.To concatenate two list\n",
    "list_1 = [1, 'a']\n",
    "list_2 = [3, 4, 5]\n",
    "\n",
    "list_joined = list_1 + list_2\n",
    "print(list_joined)"
   ]
  },
  {
   "cell_type": "code",
   "execution_count": 13,
   "id": "1dd43418",
   "metadata": {
    "scrolled": true
   },
   "outputs": [
    {
     "name": "stdout",
     "output_type": "stream",
     "text": [
      "[1, 2, 3, 4]\n"
     ]
    }
   ],
   "source": [
    "#5. To sort the elements in the list in ascending order.\n",
    "numbers = [1, 3, 4, 2]\n",
    "# Sorting list of Integers in ascending\n",
    "numbers.sort()\n",
    "print(numbers)"
   ]
  },
  {
   "cell_type": "markdown",
   "id": "07ee5cee",
   "metadata": {},
   "source": [
    "# write a python program to do in tuples\n",
    "1.Manipulating using tuples. 2.To add new elments to the end of the tuple. 3.To reverse elements in the list. \n",
    "4.To display the elements of the same tuple multiple times. 5.To concatenate two tuples\n",
    "6.To sort the elements in the list in ascending order."
   ]
  },
  {
   "cell_type": "code",
   "execution_count": 14,
   "id": "461049b2",
   "metadata": {},
   "outputs": [
    {
     "name": "stdout",
     "output_type": "stream",
     "text": [
      "('apple', 'banana', 'cherry')\n"
     ]
    }
   ],
   "source": [
    "#1.Manipulating using tuples\n",
    "thistuple = (\"apple\", \"banana\", \"cherry\")\n",
    "print(thistuple)"
   ]
  },
  {
   "cell_type": "code",
   "execution_count": 25,
   "id": "4ed3ad5e",
   "metadata": {},
   "outputs": [
    {
     "data": {
      "text/plain": [
       "(1, 2, 3, 4, 5, 6, 7)"
      ]
     },
     "execution_count": 25,
     "metadata": {},
     "output_type": "execute_result"
    }
   ],
   "source": [
    "# 2.To add new elments to the end of the tuple.\n",
    "t = (1,2,3,4,5)\n",
    "t= t + (6,7)\n",
    "t"
   ]
  },
  {
   "cell_type": "code",
   "execution_count": 27,
   "id": "47f9c983",
   "metadata": {},
   "outputs": [
    {
     "name": "stdout",
     "output_type": "stream",
     "text": [
      "(3, 2, 1)\n"
     ]
    }
   ],
   "source": [
    "#3.To reverse elements in the list. \n",
    "a = (1, 2, 3)\n",
    "reverse_tuple = tuple(reversed(a))\n",
    "print(reverse_tuple)"
   ]
  },
  {
   "cell_type": "code",
   "execution_count": 28,
   "id": "79d77e2f",
   "metadata": {},
   "outputs": [
    {
     "data": {
      "text/plain": [
       "[['n', 'y'], ['x', 'y'], ['x', 'y']]"
      ]
     },
     "execution_count": 28,
     "metadata": {},
     "output_type": "execute_result"
    }
   ],
   "source": [
    "#4.To display the elements of the same tuple multiple times.\n",
    "a = [['x', 'y'] for _ in range(3)]\n",
    "a[0][0] = 'n'\n",
    "a"
   ]
  },
  {
   "cell_type": "code",
   "execution_count": 30,
   "id": "77115d6f",
   "metadata": {},
   "outputs": [
    {
     "name": "stdout",
     "output_type": "stream",
     "text": [
      "('USA', 'United Kingdom', 'Brazil', 'Chicago', 'Los Angeles')\n"
     ]
    }
   ],
   "source": [
    "#5.To concatenate two tuples\n",
    "tuple1 = ('USA', 'United Kingdom', 'Brazil')\n",
    "tuple2 = ('Chicago', 'Los Angeles')\n",
    "tuple3 = tuple(tuple1 + tuple2)\n",
    "print(tuple3)"
   ]
  },
  {
   "cell_type": "code",
   "execution_count": 31,
   "id": "c23b6f3e",
   "metadata": {},
   "outputs": [
    {
     "name": "stdout",
     "output_type": "stream",
     "text": [
      "[(1, 2), (2, 3), (3, 5), (6, 3)]\n"
     ]
    }
   ],
   "source": [
    "#6.To sort the elements in the list in ascending order.\n",
    "myListofTuple = [(1,2), (3,5), (6,3), (2, 3)];\n",
    "myListofTuple.sort(key=lambda tup: tup[0])\n",
    "print(myListofTuple);"
   ]
  },
  {
   "cell_type": "markdown",
   "id": "b7f1bc9e",
   "metadata": {},
   "source": [
    "# Write a python to implement the following using list\n",
    "1.create a list with integers(minimum 10 numbers) \n",
    "2.How to display the last number in list \n",
    "3.Command for displaying the values from the list[0:4]\n",
    "4.Command for displaying the values from the list[2:]\n",
    "5.Command for displaying the values from the lisr[:6]"
   ]
  },
  {
   "cell_type": "code",
   "execution_count": 32,
   "id": "76f916b5",
   "metadata": {},
   "outputs": [
    {
     "data": {
      "text/plain": [
       "[0, 1, 2, 3, 4, 5, 6, 7, 8, 9]"
      ]
     },
     "execution_count": 32,
     "metadata": {},
     "output_type": "execute_result"
    }
   ],
   "source": [
    "#1.create a list with integers(minimum 10 numbers) \n",
    "l = [i for i in range(10)]\n",
    "l"
   ]
  },
  {
   "cell_type": "code",
   "execution_count": 33,
   "id": "90fa8bd1",
   "metadata": {},
   "outputs": [
    {
     "data": {
      "text/plain": [
       "9"
      ]
     },
     "execution_count": 33,
     "metadata": {},
     "output_type": "execute_result"
    }
   ],
   "source": [
    "#2.How to display the last number in list\n",
    "l = [i for i in range(10)]\n",
    "l.pop()"
   ]
  },
  {
   "cell_type": "code",
   "execution_count": 34,
   "id": "f13ae5a1",
   "metadata": {},
   "outputs": [
    {
     "data": {
      "text/plain": [
       "[0, 1, 2, 3]"
      ]
     },
     "execution_count": 34,
     "metadata": {},
     "output_type": "execute_result"
    }
   ],
   "source": [
    "#3.Command for displaying the values from the list[0:4]\n",
    "l = [i for i in range(10)]\n",
    "l[0:4]"
   ]
  },
  {
   "cell_type": "code",
   "execution_count": 35,
   "id": "992dba09",
   "metadata": {},
   "outputs": [
    {
     "data": {
      "text/plain": [
       "[2, 3, 4, 5, 6, 7, 8, 9]"
      ]
     },
     "execution_count": 35,
     "metadata": {},
     "output_type": "execute_result"
    }
   ],
   "source": [
    "#4.Command for displaying the values from the list[2:]\n",
    "l = [i for i in range(10)]\n",
    "l[2:]"
   ]
  },
  {
   "cell_type": "code",
   "execution_count": 36,
   "id": "62d14009",
   "metadata": {},
   "outputs": [
    {
     "data": {
      "text/plain": [
       "[0, 1, 2, 3, 4, 5]"
      ]
     },
     "execution_count": 36,
     "metadata": {},
     "output_type": "execute_result"
    }
   ],
   "source": [
    "#5.Command for displaying the values from the lisr[:6]\n",
    "l = [i for i in range(10)]\n",
    "l[:6]"
   ]
  },
  {
   "cell_type": "markdown",
   "id": "59087571",
   "metadata": {},
   "source": [
    "# Write a python program : tuple1 = (10,50,20,40,30)\n",
    "   1.TO display the elements 10 and 50 from tuple 1\n",
    "   2.To display the length of tuple1\n",
    "   3. To find minimum element from tuple 1\n",
    "   4. To add all elements in tuple1\n",
    "   5. To display the same tuple 1 multiple times"
   ]
  },
  {
   "cell_type": "code",
   "execution_count": 50,
   "id": "2399006d",
   "metadata": {},
   "outputs": [
    {
     "data": {
      "text/plain": [
       "(10, 50)"
      ]
     },
     "execution_count": 50,
     "metadata": {},
     "output_type": "execute_result"
    }
   ],
   "source": [
    "# 1.TO display the elements 10 and 50 from tuple 1\n",
    "tuple1 = (10,50,20,40,30)\n",
    "tuple1[:2]"
   ]
  },
  {
   "cell_type": "code",
   "execution_count": 38,
   "id": "eb6d592a",
   "metadata": {},
   "outputs": [
    {
     "name": "stdout",
     "output_type": "stream",
     "text": [
      "5\n"
     ]
    }
   ],
   "source": [
    "#2.To display the length of tuple1\n",
    "tuple1 = (10,50,20,40,30)\n",
    "print(len(tuple1))"
   ]
  },
  {
   "cell_type": "code",
   "execution_count": 39,
   "id": "ed1c3777",
   "metadata": {},
   "outputs": [
    {
     "name": "stdout",
     "output_type": "stream",
     "text": [
      "Smallest element is: 10\n"
     ]
    }
   ],
   "source": [
    "# 3. To find minimum element from tuple 1\n",
    "tuple1 = [10,50,20,40,30]  \n",
    "print(\"Smallest element is:\", min(tuple1))"
   ]
  },
  {
   "cell_type": "code",
   "execution_count": 41,
   "id": "02ec43c8",
   "metadata": {},
   "outputs": [
    {
     "name": "stdout",
     "output_type": "stream",
     "text": [
      "150\n"
     ]
    }
   ],
   "source": [
    "# 4. To add all elements in tuple1\n",
    "tuple1 = [10,50,20,40,30] \n",
    "Sum = sum(tuple1)  \n",
    "print(Sum)"
   ]
  },
  {
   "cell_type": "code",
   "execution_count": 46,
   "id": "296042bb",
   "metadata": {},
   "outputs": [
    {
     "data": {
      "text/plain": [
       "[[10, 50, 20, 40, 30],\n",
       " [10, 50, 20, 40, 30],\n",
       " [10, 50, 20, 40, 30],\n",
       " [10, 50, 20, 40, 30]]"
      ]
     },
     "execution_count": 46,
     "metadata": {},
     "output_type": "execute_result"
    }
   ],
   "source": [
    "#   5. To display the same tuple 1 multiple times\n",
    "tuple1 =[[10,50,20,40,30],]*4\n",
    "tuple1"
   ]
  },
  {
   "cell_type": "markdown",
   "id": "197f559f",
   "metadata": {},
   "source": [
    "# Write a python program :\n",
    "1.To calculate the length of a string\n",
    "2.To reverse words in a string\n",
    "3.To display the same string multiple times\n",
    "4.To concatenate two strings\n",
    "5.Str1=\"South India\",using string slicing to display \"India\""
   ]
  },
  {
   "cell_type": "code",
   "execution_count": 51,
   "id": "ed8eb2ca",
   "metadata": {},
   "outputs": [
    {
     "name": "stdout",
     "output_type": "stream",
     "text": [
      "5\n"
     ]
    }
   ],
   "source": [
    "#1.To calculate the length of a string\n",
    "str = \"ramya\"\n",
    "print(len(str))"
   ]
  },
  {
   "cell_type": "code",
   "execution_count": 59,
   "id": "1c4b4b09",
   "metadata": {},
   "outputs": [
    {
     "name": "stdout",
     "output_type": "stream",
     "text": [
      "dlroW olleH\n"
     ]
    }
   ],
   "source": [
    "#To reverse words in a string\n",
    "txt = \"Hello World\"[::-1]\n",
    "print(txt)"
   ]
  },
  {
   "cell_type": "code",
   "execution_count": 60,
   "id": "5eae418d",
   "metadata": {},
   "outputs": [
    {
     "name": "stdout",
     "output_type": "stream",
     "text": [
      "I never want to grow up!\n",
      "I never want to grow up!\n",
      "I never want to grow up!\n"
     ]
    }
   ],
   "source": [
    "#3.To display the same string multiple times\n",
    "for i in range(3):\n",
    "    print('I never want to grow up!')"
   ]
  },
  {
   "cell_type": "code",
   "execution_count": 65,
   "id": "5cf62a1a",
   "metadata": {},
   "outputs": [
    {
     "name": "stdout",
     "output_type": "stream",
     "text": [
      "ApplePieSauce\n"
     ]
    }
   ],
   "source": [
    "#4.To concatenate two string\n",
    "s1 = 'Apple'\n",
    "s2 = 'Pie'\n",
    "s3 = 'Sauce'\n",
    "\n",
    "s4 = s1 + s2 + s3\n",
    "\n",
    "print(s4)"
   ]
  },
  {
   "cell_type": "code",
   "execution_count": 74,
   "id": "8dc252a3",
   "metadata": {},
   "outputs": [
    {
     "name": "stdout",
     "output_type": "stream",
     "text": [
      " India\n"
     ]
    }
   ],
   "source": [
    "#5.Str1=\"South India\",using string slicing to display \"India\"\n",
    "str1 = \"South India\"\n",
    "print(str1[5:])"
   ]
  },
  {
   "cell_type": "markdown",
   "id": "b50e6a15",
   "metadata": {},
   "source": [
    "# Perform the following\n",
    "1.creating the dictionary\n",
    "2.Accessing values and keys in dictionary\n",
    "3.Updating the dictionary using a function\n",
    "4.Clear and delete the dictionary values"
   ]
  },
  {
   "cell_type": "code",
   "execution_count": 70,
   "id": "60af8048",
   "metadata": {},
   "outputs": [
    {
     "name": "stdout",
     "output_type": "stream",
     "text": [
      "{'name': 'Dionysia', 'age': 28, 'location': 'Athens'}\n"
     ]
    }
   ],
   "source": [
    "#1.creating the dictionary\n",
    "my_information = {'name': 'Dionysia', 'age': 28, 'location': 'Athens'}\n",
    "\n",
    "print(my_information)"
   ]
  },
  {
   "cell_type": "code",
   "execution_count": 76,
   "id": "778c6962",
   "metadata": {},
   "outputs": [
    {
     "name": "stdout",
     "output_type": "stream",
     "text": [
      "key by value: {'for'}\n"
     ]
    }
   ],
   "source": [
    "#2.Accessing values and keys in dictionary\n",
    "dic ={\"geeks\": \"A\",\"for\":\"B\",\"geeks\":\"C\"}\n",
    "\n",
    "value = {i for i in dic if dic[i]==\"B\"}\n",
    "print(\"key by value:\",value)\n",
    "\n"
   ]
  },
  {
   "cell_type": "code",
   "execution_count": null,
   "id": "acfa093d",
   "metadata": {},
   "outputs": [],
   "source": [
    "# 3.Updating the dictionary using a function\n",
    "Dictionary1 = {'A': 'Geeks', 'B': 'For', }\n",
    "Dictionary2 = {'B': 'Geeks'}\n",
    "print(\"Original Dictionary:\")\n",
    "print(Dictionary1)\n",
    "Dictionary1.update(Dictionary2)\n",
    "print(\"Dictionary after updation:\")\n",
    "print(Dictionary1)\n"
   ]
  },
  {
   "cell_type": "code",
   "execution_count": 78,
   "id": "d2175ec3",
   "metadata": {},
   "outputs": [
    {
     "name": "stdout",
     "output_type": "stream",
     "text": [
      "{}\n"
     ]
    }
   ],
   "source": [
    "#4.Clear and delete the dictionary values\n",
    "d = {'k1': 1, 'k2': 2, 'k3': 3}\n",
    "\n",
    "d.clear()\n",
    "print(d)"
   ]
  },
  {
   "cell_type": "markdown",
   "id": "cda6a47d",
   "metadata": {},
   "source": [
    "# Python program to insert a number to any position in a list\n"
   ]
  },
  {
   "cell_type": "code",
   "execution_count": 79,
   "id": "9ee42916",
   "metadata": {},
   "outputs": [
    {
     "data": {
      "text/plain": [
       "[12, 52, 5000, 65, 84, 216, 15, 5, 255, 6, 824, 51, 4, 5]"
      ]
     },
     "execution_count": 79,
     "metadata": {},
     "output_type": "execute_result"
    }
   ],
   "source": [
    "def NumToPositon(Num,Position):                     # defining a function\n",
    "    list=[12,52,85,65,84,216,15,5,255,6,824,51,4,5]\n",
    "    list[Position-1]=Num                            # indexing position and assigning given number\n",
    "    return list\n",
    "NumToPositon(5000,3)"
   ]
  },
  {
   "cell_type": "markdown",
   "id": "11f541ed",
   "metadata": {},
   "source": [
    "# Python program to delete an element from a list by index"
   ]
  },
  {
   "cell_type": "code",
   "execution_count": 82,
   "id": "8acb20b4",
   "metadata": {},
   "outputs": [
    {
     "data": {
      "text/plain": [
       "5"
      ]
     },
     "execution_count": 82,
     "metadata": {},
     "output_type": "execute_result"
    }
   ],
   "source": [
    "a=[1,2,3,4,5]\n",
    "a.pop(-1)\n"
   ]
  },
  {
   "cell_type": "markdown",
   "id": "a0f26d1b",
   "metadata": {},
   "source": [
    "# Write a program to display a number from 1 to 100"
   ]
  },
  {
   "cell_type": "code",
   "execution_count": 83,
   "id": "4d8eceab",
   "metadata": {},
   "outputs": [
    {
     "name": "stdout",
     "output_type": "stream",
     "text": [
      "1 2 3 4 5 6 7 8 9 10 11 12 13 14 15 16 17 18 19 20 21 22 23 24 25 26 27 28 29 30 31 32 33 34 35 36 37 38 39 40 41 42 43 44 45 46 47 48 49 50 51 52 53 54 55 56 57 58 59 60 61 62 63 64 65 66 67 68 69 70 71 72 73 74 75 76 77 78 79 80 81 82 83 84 85 86 87 88 89 90 91 92 93 94 95 96 97 98 99 100 "
     ]
    }
   ],
   "source": [
    "i = 1\n",
    "while i <= 100:\n",
    "    print(i, end=\" \")\n",
    "    i += 1"
   ]
  },
  {
   "cell_type": "markdown",
   "id": "c9a3656a",
   "metadata": {},
   "source": [
    "# Write a python program to find the sum of all items in a tuple"
   ]
  },
  {
   "cell_type": "code",
   "execution_count": 84,
   "id": "0ed9da1c",
   "metadata": {},
   "outputs": [
    {
     "name": "stdout",
     "output_type": "stream",
     "text": [
      "Tuple Items =  (20, 40, 65, 75, 80, 220)\n",
      "\n",
      "The Sum of numTuple Tuple Items =  500\n"
     ]
    }
   ],
   "source": [
    "numTuple = (20, 40, 65, 75, 80, 220)\n",
    "print(\"Tuple Items = \", numTuple)\n",
    "\n",
    "tupleSum = sum(numTuple)\n",
    "print(\"\\nThe Sum of numTuple Tuple Items = \", tupleSum)"
   ]
  },
  {
   "cell_type": "markdown",
   "id": "de1f094e",
   "metadata": {},
   "source": [
    "# Write a python program to find the first N prime numbers"
   ]
  },
  {
   "cell_type": "code",
   "execution_count": 86,
   "id": "9355571d",
   "metadata": {},
   "outputs": [
    {
     "name": "stdout",
     "output_type": "stream",
     "text": [
      " Please Enter any Number: 7\n",
      "Prime numbers between 1 and 7 are:\n",
      "2\n",
      "3\n",
      "5\n",
      "7\n"
     ]
    }
   ],
   "source": [
    "Number = int(input(\" Please Enter any Number: \"))\n",
    " \n",
    "print(\"Prime numbers between\", 1, \"and\", Number, \"are:\")\n",
    " \n",
    "for num in range(1, Number + 1):\n",
    "   # all prime numbers are greater than 1\n",
    "   if num > 1:\n",
    "       for i in range(2, num):\n",
    "           if (num % i) == 0:\n",
    "               break\n",
    "       else:\n",
    "           print(num)"
   ]
  },
  {
   "cell_type": "markdown",
   "id": "f499a3ee",
   "metadata": {},
   "source": [
    "# Write the python code that calculates the salary of an employee.Prompt the user to enter the basic salary,HRA,TA and DA.Add these components to calculate the gross salary.Also deduct 10% of salary from the gross salary to be paid as tax and display gross minus tax as net salary."
   ]
  },
  {
   "cell_type": "code",
   "execution_count": 90,
   "id": "7b591e5e",
   "metadata": {},
   "outputs": [
    {
     "name": "stdout",
     "output_type": "stream",
     "text": [
      "Enter the basic salary:15000\n",
      "Gross Salary =  24000.0\n"
     ]
    }
   ],
   "source": [
    "basic_salary=int(input(\"Enter the basic salary:\"))\n",
    "da=0.4*basic_salary;\n",
    "hra=0.2*basic_salary;\n",
    "gross_salary=basic_salary+da+hra;\n",
    "print(\"Gross Salary = \",gross_salary)"
   ]
  },
  {
   "cell_type": "markdown",
   "id": "a62d17c8",
   "metadata": {},
   "source": [
    "# Write a python program to search for a string in the given list."
   ]
  },
  {
   "cell_type": "code",
   "execution_count": 91,
   "id": "574f6dce",
   "metadata": {},
   "outputs": [
    {
     "name": "stdout",
     "output_type": "stream",
     "text": [
      "A is present in the list\n",
      "X is not present in the list\n"
     ]
    }
   ],
   "source": [
    "l1 = ['A', 'B', 'C', 'D', 'A', 'A', 'C']\n",
    "\n",
    "# string in the list\n",
    "if 'A' in l1:\n",
    "    print('A is present in the list')\n",
    "\n",
    "# string not in the list\n",
    "if 'X' not in l1:\n",
    "    print('X is not present in the list')"
   ]
  },
  {
   "cell_type": "markdown",
   "id": "73bf4213",
   "metadata": {},
   "source": [
    "# Write a python function that accepts a string and calculates the number of upper case letters and lower case letters"
   ]
  },
  {
   "cell_type": "code",
   "execution_count": 92,
   "id": "2ddb898a",
   "metadata": {},
   "outputs": [
    {
     "name": "stdout",
     "output_type": "stream",
     "text": [
      "Original String :   Brown Fox\n",
      "No. of Upper case characters :  2\n",
      "No. of Lower case Characters :  6\n"
     ]
    }
   ],
   "source": [
    "def string_test(s):\n",
    "    d={\"UPPER_CASE\":0, \"LOWER_CASE\":0}\n",
    "    for c in s:\n",
    "        if c.isupper():\n",
    "           d[\"UPPER_CASE\"]+=1\n",
    "        elif c.islower():\n",
    "           d[\"LOWER_CASE\"]+=1\n",
    "        else:\n",
    "           pass\n",
    "    print (\"Original String : \", s)\n",
    "    print (\"No. of Upper case characters : \", d[\"UPPER_CASE\"])\n",
    "    print (\"No. of Lower case Characters : \", d[\"LOWER_CASE\"])\n",
    "\n",
    "string_test(' Brown Fox')"
   ]
  },
  {
   "cell_type": "markdown",
   "id": "0f8a016b",
   "metadata": {},
   "source": [
    "# Write a program to display the sum of odd numbers and even numbers that fall between 12 and 37"
   ]
  },
  {
   "cell_type": "code",
   "execution_count": 94,
   "id": "bcca5b03",
   "metadata": {},
   "outputs": [
    {
     "name": "stdout",
     "output_type": "stream",
     "text": [
      "Sum of even numbers: 312\n",
      "Sum of odd numbers: 325\n"
     ]
    }
   ],
   "source": [
    "sum_odd = 0\n",
    "sum_even = 0\n",
    "\n",
    "# Loop through numbers from 12 to 37\n",
    "for num in range(12, 38):\n",
    "    # Check if the number is odd or even\n",
    "    if num % 2 == 0:\n",
    "        # If even, add it to the sum_even\n",
    "        sum_even += num\n",
    "    else:\n",
    "        # If odd, add it to the sum_odd\n",
    "        sum_odd += num\n",
    "\n",
    "# Display the sums\n",
    "print(\"Sum of even numbers:\", sum_even)\n",
    "print(\"Sum of odd numbers:\", sum_odd)"
   ]
  },
  {
   "cell_type": "markdown",
   "id": "ed63a2e4",
   "metadata": {},
   "source": [
    "# Write a python program to print the table of any number"
   ]
  },
  {
   "cell_type": "code",
   "execution_count": 95,
   "id": "55e13d9a",
   "metadata": {},
   "outputs": [
    {
     "name": "stdout",
     "output_type": "stream",
     "text": [
      "Enter the number of which the user wants to print the multiplication table: 10\n",
      "The Multiplication Table of:  10\n",
      "10 x 1 = 10\n",
      "10 x 2 = 20\n",
      "10 x 3 = 30\n",
      "10 x 4 = 40\n",
      "10 x 5 = 50\n",
      "10 x 6 = 60\n",
      "10 x 7 = 70\n",
      "10 x 8 = 80\n",
      "10 x 9 = 90\n",
      "10 x 10 = 100\n"
     ]
    }
   ],
   "source": [
    "number = int(input (\"Enter the number of which the user wants to print the multiplication table: \"))      \n",
    "# We are using \"for loop\" to iterate the multiplication 10 times       \n",
    "print (\"The Multiplication Table of: \", number)    \n",
    "for count in range(1, 11):      \n",
    "   print (number, 'x', count, '=', number * count)  "
   ]
  },
  {
   "cell_type": "markdown",
   "id": "c55a3de4",
   "metadata": {},
   "source": [
    "# Write a python program to sum the first 10 prime numbers"
   ]
  },
  {
   "cell_type": "code",
   "execution_count": 96,
   "id": "fc677bdf",
   "metadata": {},
   "outputs": [
    {
     "name": "stdout",
     "output_type": "stream",
     "text": [
      "The sum of the first 10 prime numbers is: 129\n"
     ]
    }
   ],
   "source": [
    "def is_prime(num):\n",
    "    if num < 2:\n",
    "        return False\n",
    "    for i in range(2, int(num**0.5) + 1):\n",
    "        if num % i == 0:\n",
    "            return False\n",
    "    return True\n",
    "\n",
    "count = 0\n",
    "sum_of_primes = 0\n",
    "number = 2\n",
    "\n",
    "while count < 10:\n",
    "    if is_prime(number):\n",
    "        sum_of_primes += number\n",
    "        count += 1\n",
    "    number += 1\n",
    "\n",
    "print(f\"The sum of the first 10 prime numbers is: {sum_of_primes}\")"
   ]
  },
  {
   "cell_type": "markdown",
   "id": "f1549c4f",
   "metadata": {},
   "source": [
    "# Write a python program to implement arithmetic operations using nested if statement"
   ]
  },
  {
   "cell_type": "code",
   "execution_count": 97,
   "id": "33ba8cb3",
   "metadata": {},
   "outputs": [
    {
     "name": "stdout",
     "output_type": "stream",
     "text": [
      "Enter the first number: 2\n",
      "Enter the second number: 5\n",
      "Enter an arithmetic operation (+, -, *, /): +\n",
      "Result: 7.0\n"
     ]
    }
   ],
   "source": [
    "# Get two numbers from the user\n",
    "num1 = float(input(\"Enter the first number: \"))\n",
    "num2 = float(input(\"Enter the second number: \"))\n",
    "\n",
    "# Get the desired operation from the user\n",
    "operation = input(\"Enter an arithmetic operation (+, -, *, /): \")\n",
    "\n",
    "# Perform the selected operation\n",
    "if operation == \"+\":\n",
    "    result = num1 + num2\n",
    "elif operation == \"-\":\n",
    "    result = num1 - num2\n",
    "elif operation == \"*\":\n",
    "    result = num1 * num2\n",
    "elif operation == \"/\":\n",
    "    if num2 != 0:\n",
    "        result = num1 / num2\n",
    "    else:\n",
    "        result = \"Division by zero is not allowed.\"\n",
    "else:\n",
    "    result = \"Invalid operation\"\n",
    "\n",
    "print(f\"Result: {result}\")"
   ]
  },
  {
   "cell_type": "markdown",
   "id": "79c4d1ab",
   "metadata": {},
   "source": [
    "# Write a python program to take the temperature in celsius and convert it to a fahrenheit"
   ]
  },
  {
   "cell_type": "code",
   "execution_count": 99,
   "id": "fc095414",
   "metadata": {},
   "outputs": [
    {
     "name": "stdout",
     "output_type": "stream",
     "text": [
      "Enter temperature in Celsius: 76\n",
      "76.0 degrees Celsius is equal to 168.8 degrees Fahrenheit\n"
     ]
    }
   ],
   "source": [
    "# Input temperature in Celsius\n",
    "celsius = float(input(\"Enter temperature in Celsius: \"))\n",
    "\n",
    "# Convert Celsius to Fahrenheit\n",
    "fahrenheit = (celsius * 9/5) + 32\n",
    "\n",
    "# Display the result\n",
    "print(f\"{celsius} degrees Celsius is equal to {fahrenheit} degrees Fahrenheit\")\n",
    "\n",
    "\n"
   ]
  },
  {
   "cell_type": "markdown",
   "id": "dbefaeeb",
   "metadata": {},
   "source": [
    "# Write a python program to find a maximum and minimum number in a list without using an inbuilt function."
   ]
  },
  {
   "cell_type": "code",
   "execution_count": 100,
   "id": "9612486e",
   "metadata": {},
   "outputs": [
    {
     "name": "stdout",
     "output_type": "stream",
     "text": [
      "(75, -5)\n"
     ]
    }
   ],
   "source": [
    "def max_min(data):\n",
    "  l = data[0]\n",
    "  s = data[0]\n",
    "  for num in data:\n",
    "    if num> l:\n",
    "      l = num\n",
    "    elif num< s:\n",
    "        s = num\n",
    "  return l, s\n",
    "\n",
    "print(max_min([0, 10, 15, 40, -5, 42, 17, 28, 75]))"
   ]
  },
  {
   "cell_type": "markdown",
   "id": "0b84dbe8",
   "metadata": {},
   "source": [
    "# Write a program in python to print out the number of seconds in 30 day month 30 days,24hours in a day,60 minutes per day,60 seconds in a minute"
   ]
  },
  {
   "cell_type": "code",
   "execution_count": 101,
   "id": "334729e5",
   "metadata": {},
   "outputs": [
    {
     "name": "stdout",
     "output_type": "stream",
     "text": [
      "The number of seconds in 30 days is: 2592000\n"
     ]
    }
   ],
   "source": [
    "# Define constants\n",
    "days_per_month = 30\n",
    "hours_per_day = 24\n",
    "minutes_per_hour = 60\n",
    "seconds_per_minute = 60\n",
    "\n",
    "# Calculate the number of seconds\n",
    "seconds_in_30_days = days_per_month * hours_per_day * minutes_per_hour * seconds_per_minute\n",
    "\n",
    "# Display the result\n",
    "print(f\"The number of seconds in 30 days is: {seconds_in_30_days}\")\n"
   ]
  },
  {
   "cell_type": "markdown",
   "id": "e64aa385",
   "metadata": {},
   "source": [
    "# Write a program in python to print out the number of seconds in a year"
   ]
  },
  {
   "cell_type": "code",
   "execution_count": 102,
   "id": "4e5c8833",
   "metadata": {},
   "outputs": [
    {
     "name": "stdout",
     "output_type": "stream",
     "text": [
      "The number of seconds in a year (assuming 365 days) is: 31536000 seconds\n"
     ]
    }
   ],
   "source": [
    "# Constants for the number of days, hours, minutes, and seconds\n",
    "days_per_year = 365\n",
    "hours_per_day = 24\n",
    "minutes_per_hour = 60\n",
    "seconds_per_minute = 60\n",
    "\n",
    "# Calculate the total number of seconds in a year\n",
    "total_seconds = days_per_year * hours_per_day * minutes_per_hour * seconds_per_minute\n",
    "\n",
    "# Display the result\n",
    "print(f\"The number of seconds in a year (assuming 365 days) is: {total_seconds} seconds\")\n"
   ]
  },
  {
   "cell_type": "markdown",
   "id": "4c0a8145",
   "metadata": {},
   "source": [
    "# A high speed train can travel at an average speed of 150mph, how long will it take a train travelling at this speed to travel from london to glasgow which is 414 miles away?"
   ]
  },
  {
   "cell_type": "code",
   "execution_count": 103,
   "id": "ec8e5505",
   "metadata": {},
   "outputs": [
    {
     "name": "stdout",
     "output_type": "stream",
     "text": [
      "It will take approximately 2 hours and 45.60 minutes to travel from London to Glasgow.\n"
     ]
    }
   ],
   "source": [
    "# Define the distance in miles and the average speed in mph\n",
    "distance = 414\n",
    "speed = 150\n",
    "\n",
    "# Calculate the time in hours\n",
    "time_hours = distance / speed\n",
    "\n",
    "# Convert hours to hours and minutes\n",
    "hours = int(time_hours)\n",
    "minutes = (time_hours - hours) * 60\n",
    "\n",
    "# Print the result\n",
    "print(f\"It will take approximately {hours} hours and {minutes:.2f} minutes to travel from London to Glasgow.\")"
   ]
  },
  {
   "cell_type": "markdown",
   "id": "9f74d3ac",
   "metadata": {},
   "source": [
    "# Write a python program that defines a variables called days_in_each_school_year and assign 192 to the variable.The program should then print out the total hours that you spend in school from year 7 to year 11 if each day you spend 6 hours in school days_in_each_school_year = 192"
   ]
  },
  {
   "cell_type": "code",
   "execution_count": 104,
   "id": "fcd0f6fd",
   "metadata": {},
   "outputs": [
    {
     "name": "stdout",
     "output_type": "stream",
     "text": [
      "Total hours spent in school from year 7 to year 11: 51840 hours\n"
     ]
    }
   ],
   "source": [
    "# Define the variable days_in_each_school_year\n",
    "days_in_each_school_year = 192\n",
    "\n",
    "# Years 7 to 11\n",
    "years = range(7, 12)\n",
    "\n",
    "# Calculate the total hours spent in school\n",
    "total_hours = sum(year * days_in_each_school_year * 6 for year in years)\n",
    "\n",
    "# Display the result\n",
    "print(f\"Total hours spent in school from year 7 to year 11: {total_hours} hours\")\n"
   ]
  },
  {
   "cell_type": "markdown",
   "id": "add2e4db",
   "metadata": {},
   "source": [
    "# If the age of Ram,sam and khan are input through the keyboard,write a python program to determine the eldest and youngest of the three"
   ]
  },
  {
   "cell_type": "code",
   "execution_count": 105,
   "id": "df368642",
   "metadata": {},
   "outputs": [
    {
     "name": "stdout",
     "output_type": "stream",
     "text": [
      "Enter Ram's age: 47\n",
      "Enter Sam's age: 18\n",
      "Enter Khan's age: 28\n",
      "The eldest among Ram, Sam, and Khan is: Ram\n",
      "The youngest among Ram, Sam, and Khan is: Sam\n"
     ]
    }
   ],
   "source": [
    "# Input ages of Ram, Sam, and Khan\n",
    "ram_age = int(input(\"Enter Ram's age: \"))\n",
    "sam_age = int(input(\"Enter Sam's age: \"))\n",
    "khan_age = int(input(\"Enter Khan's age: \"))\n",
    "\n",
    "# Determine the eldest and youngest\n",
    "if ram_age >= sam_age and ram_age >= khan_age:\n",
    "    eldest = \"Ram\"\n",
    "    if sam_age <= khan_age:\n",
    "        youngest = \"Sam\"\n",
    "    else:\n",
    "        youngest = \"Khan\"\n",
    "elif sam_age >= ram_age and sam_age >= khan_age:\n",
    "    eldest = \"Sam\"\n",
    "    if ram_age <= khan_age:\n",
    "        youngest = \"Ram\"\n",
    "    else:\n",
    "        youngest = \"Khan\"\n",
    "else:\n",
    "    eldest = \"Khan\"\n",
    "    if ram_age <= sam_age:\n",
    "        youngest = \"Ram\"\n",
    "    else:\n",
    "        youngest = \"Sam\"\n",
    "\n",
    "# Print the results\n",
    "print(f\"The eldest among Ram, Sam, and Khan is: {eldest}\")\n",
    "print(f\"The youngest among Ram, Sam, and Khan is: {youngest}\")"
   ]
  },
  {
   "cell_type": "markdown",
   "id": "c7e8ec59",
   "metadata": {},
   "source": [
    "# Write a python program to rotate a list by right n times with and without slicing technique"
   ]
  },
  {
   "cell_type": "code",
   "execution_count": 106,
   "id": "e611a173",
   "metadata": {},
   "outputs": [
    {
     "name": "stdout",
     "output_type": "stream",
     "text": [
      "Enter the number of times to rotate to the right: 5\n",
      "Rotated list using slicing technique: [1, 2, 3, 4, 5]\n"
     ]
    }
   ],
   "source": [
    "#with slicing \n",
    "def rotate_list_using_slicing(input_list, n):\n",
    "    if len(input_list) == 0:\n",
    "        return input_list\n",
    "    \n",
    "    n %= len(input_list)  # Ensure n is within the length of the list\n",
    "    rotated_list = input_list[-n:] + input_list[:-n]\n",
    "    return rotated_list\n",
    "\n",
    "# Input list\n",
    "my_list = [1, 2, 3, 4, 5]\n",
    "n = int(input(\"Enter the number of times to rotate to the right: \"))\n",
    "\n",
    "rotated_list = rotate_list_using_slicing(my_list, n)\n",
    "print(\"Rotated list using slicing technique:\", rotated_list)\n"
   ]
  },
  {
   "cell_type": "code",
   "execution_count": 107,
   "id": "add4683d",
   "metadata": {},
   "outputs": [
    {
     "name": "stdout",
     "output_type": "stream",
     "text": [
      "Enter the number of times to rotate to the right: 7\n",
      "Rotated list without slicing technique: [4, 5, 1, 2, 3]\n"
     ]
    }
   ],
   "source": [
    "#without slicing\n",
    "def rotate_list_without_slicing(input_list, n):\n",
    "    if len(input_list) == 0:\n",
    "        return input_list\n",
    "    \n",
    "    n %= len(input_list)  # Ensure n is within the length of the list\n",
    "    for _ in range(n):\n",
    "        temp = input_list.pop()\n",
    "        input_list.insert(0, temp)\n",
    "    return input_list\n",
    "\n",
    "# Input list\n",
    "my_list = [1, 2, 3, 4, 5]\n",
    "n = int(input(\"Enter the number of times to rotate to the right: \"))\n",
    "\n",
    "rotated_list = rotate_list_without_slicing(my_list, n)\n",
    "print(\"Rotated list without slicing technique:\", rotated_list)\n"
   ]
  },
  {
   "cell_type": "markdown",
   "id": "6cebdc0b",
   "metadata": {},
   "source": [
    "# Python program to print the pattern given below\n",
    "1\n",
    "1 1\n",
    "1 2 1\n",
    "1 3 3 1\n",
    "1 4 6 4 1\n",
    "1 5 10 10 5 1\n",
    "1 6 15 20 15 6 1"
   ]
  },
  {
   "cell_type": "code",
   "execution_count": 109,
   "id": "1ae60b64",
   "metadata": {},
   "outputs": [
    {
     "name": "stdout",
     "output_type": "stream",
     "text": [
      "Enter the number of rows: 7\n",
      "1 \n",
      "1 1 \n",
      "1 2 1 \n",
      "1 3 3 1 \n",
      "1 4 6 4 1 \n",
      "1 5 10 10 5 1 \n",
      "1 6 15 20 15 6 1 \n"
     ]
    }
   ],
   "source": [
    "# Input the number of rows for the pattern\n",
    "n = int(input(\"Enter the number of rows: \"))\n",
    "\n",
    "# Function to calculate binomial coefficients\n",
    "def binomial_coefficient(n, k):\n",
    "    if k == 0 or k == n:\n",
    "        return 1\n",
    "    return binomial_coefficient(n - 1, k - 1) + binomial_coefficient(n - 1, k)\n",
    "\n",
    "# Loop to print the pattern\n",
    "for i in range(n):\n",
    "    for j in range(i + 1):\n",
    "        print(binomial_coefficient(i, j), end=\" \")\n",
    "    print()\n"
   ]
  },
  {
   "cell_type": "markdown",
   "id": "13cfa194",
   "metadata": {},
   "source": [
    "#2.\n",
    "*\n",
    "* *\n",
    "* * *\n",
    "* * * *\n",
    "* * * * *"
   ]
  },
  {
   "cell_type": "code",
   "execution_count": 110,
   "id": "60bfa875",
   "metadata": {
    "scrolled": true
   },
   "outputs": [
    {
     "name": "stdout",
     "output_type": "stream",
     "text": [
      "* \n",
      "* * \n",
      "* * * \n",
      "* * * * \n",
      "* * * * * \n"
     ]
    }
   ],
   "source": [
    "n = 5  # Number of rows\n",
    "\n",
    "# Outer loop for rows\n",
    "for i in range(n):\n",
    "    # Inner loop for columns\n",
    "    for j in range(i + 1):\n",
    "        print(\"*\", end=\" \")\n",
    "    print()  # Move to the next line after each row"
   ]
  },
  {
   "cell_type": "markdown",
   "id": "1867ce96",
   "metadata": {},
   "source": [
    "# 3. \n",
    "         *\n",
    "        * *\n",
    "        * * *\n",
    "        * * * *\n",
    "        * * * * *\n",
    "        * * * * * *\n",
    "        * * * * * * *"
   ]
  },
  {
   "cell_type": "code",
   "execution_count": 111,
   "id": "5c7ba829",
   "metadata": {},
   "outputs": [
    {
     "name": "stdout",
     "output_type": "stream",
     "text": [
      "Enter the number of rows: 7\n",
      "      * \n",
      "     * * \n",
      "    * * * \n",
      "   * * * * \n",
      "  * * * * * \n",
      " * * * * * * \n",
      "* * * * * * * \n"
     ]
    }
   ],
   "source": [
    "# Input the number of rows for the pattern\n",
    "n = int(input(\"Enter the number of rows: \"))\n",
    "\n",
    "# Loop to print the pattern\n",
    "for i in range(1, n + 1):\n",
    "    print(\" \" * (n - i), end=\"\")  # Print spaces before asterisks\n",
    "    print(\"* \" * i)  # Print asterisks with a space in between\n"
   ]
  },
  {
   "cell_type": "markdown",
   "id": "76188756",
   "metadata": {},
   "source": [
    "# 4.\n",
    "    P\n",
    "    Py\n",
    "    Pyt\n",
    "    Pyth\n",
    "    Pytho\n",
    "    Python"
   ]
  },
  {
   "cell_type": "code",
   "execution_count": 113,
   "id": "207df528",
   "metadata": {},
   "outputs": [
    {
     "name": "stdout",
     "output_type": "stream",
     "text": [
      "Enter a string: Python\n",
      "P\n",
      "Py\n",
      "Pyt\n",
      "Pyth\n",
      "Pytho\n",
      "Python\n"
     ]
    }
   ],
   "source": [
    "# Input the string\n",
    "input_string = input(\"Enter a string: \")\n",
    "\n",
    "# Loop to print the pattern\n",
    "for i in range(1, len(input_string) + 1):\n",
    "    print(input_string[:i])\n"
   ]
  },
  {
   "cell_type": "markdown",
   "id": "a4bb3641",
   "metadata": {},
   "source": [
    "# Create a directory containing three lambda functions square,cube and square root.\n",
    "1. E.g.dict={'square':function for squaring,'cube':function for cube,'squareroot':function for square root}\n",
    "2.Pass the values(input from the user) to the functions in the directory respectively.\n",
    "3.Then add the outputsof each function and print it."
   ]
  },
  {
   "cell_type": "code",
   "execution_count": 114,
   "id": "028524a0",
   "metadata": {},
   "outputs": [
    {
     "name": "stdout",
     "output_type": "stream",
     "text": [
      "Enter a number: 5\n",
      "Sum of outputs: 152.2360679774998\n"
     ]
    }
   ],
   "source": [
    "# Define the dictionary with lambda functions\n",
    "func_dict = {\n",
    "    'Square': lambda x: x**2,\n",
    "    'Cube': lambda x: x**3,\n",
    "    'Squareroot': lambda x: x**0.5\n",
    "}\n",
    "\n",
    "# Get user input for a number\n",
    "num = float(input(\"Enter a number: \"))\n",
    "\n",
    "# Initialize a variable to store the sum of outputs\n",
    "result = 0\n",
    "\n",
    "# Iterate through the functions in the dictionary, apply them, and add to the result\n",
    "for func_name, func in func_dict.items():\n",
    "    output = func(num)\n",
    "    result += output\n",
    "\n",
    "# Print the sum of outputs\n",
    "print(\"Sum of outputs:\", result)"
   ]
  },
  {
   "cell_type": "markdown",
   "id": "d35a7377",
   "metadata": {},
   "source": [
    "# A list of words is given. Find the words from the list that have their second character in uppercase. ['hello', 'Dear', 'how', 'ARe', 'You']"
   ]
  },
  {
   "cell_type": "code",
   "execution_count": 115,
   "id": "e303ccf9",
   "metadata": {},
   "outputs": [
    {
     "name": "stdout",
     "output_type": "stream",
     "text": [
      "['ARe']\n"
     ]
    }
   ],
   "source": [
    "word_list = ['hello', 'Dear', 'how', 'ARe', 'You']\n",
    "result = []\n",
    "\n",
    "for word in word_list:\n",
    "    if len(word) > 1 and word[1].isupper():\n",
    "        result.append(word)\n",
    "\n",
    "print(result)"
   ]
  },
  {
   "cell_type": "markdown",
   "id": "fa97e245",
   "metadata": {},
   "source": [
    "# A dictionary of names and their weights on earth is given. Find how much they will weigh on the moon. (Use map and lambda functions) Formula: wMoon = (wEarth GMoon) / GEarth  #Weight of people in kg WeightOnEarth = ('John':45, 'Shelly':65, 'Marry':35)\n",
    "\n",
    "# Gravitational force on the Moon: 1.622 m/s2 GMoon 1.622\n",
    "\n",
    "# Gravitational force on the Earth: 9.81 m/s2 GEarth = 9.81"
   ]
  },
  {
   "cell_type": "code",
   "execution_count": 118,
   "id": "fcd378f9",
   "metadata": {},
   "outputs": [
    {
     "name": "stdout",
     "output_type": "stream",
     "text": [
      "Weight on the Moon:\n",
      "John: 7.440366972477065 kg\n",
      "Shelly: 10.747196738022426 kg\n",
      "Marry: 5.786952089704383 kg\n"
     ]
    }
   ],
   "source": [
    "# Given data\n",
    "WeightOnEarth = {'John': 45, 'Shelly': 65, 'Marry': 35}\n",
    "GMoon = 1.622\n",
    "GEarth = 9.81\n",
    "\n",
    "# Calculate weight on the Moon using map and lambda\n",
    "WeightOnMoon = map(lambda weight: (weight * GMoon) / GEarth, WeightOnEarth.values())\n",
    "\n",
    "# Create a dictionary with names and their weights on the Moon\n",
    "WeightOnMoonDict = dict(zip(WeightOnEarth.keys(), WeightOnMoon))\n",
    "\n",
    "# Display the results\n",
    "print(\"Weight on the Moon:\")\n",
    "for name, weight in WeightOnMoonDict.items():\n",
    "    print(f\"{name}: {weight} kg\")\n"
   ]
  },
  {
   "cell_type": "code",
   "execution_count": null,
   "id": "7337d6bb",
   "metadata": {},
   "outputs": [],
   "source": []
  }
 ],
 "metadata": {
  "kernelspec": {
   "display_name": "Python 3 (ipykernel)",
   "language": "python",
   "name": "python3"
  },
  "language_info": {
   "codemirror_mode": {
    "name": "ipython",
    "version": 3
   },
   "file_extension": ".py",
   "mimetype": "text/x-python",
   "name": "python",
   "nbconvert_exporter": "python",
   "pygments_lexer": "ipython3",
   "version": "3.11.4"
  }
 },
 "nbformat": 4,
 "nbformat_minor": 5
}

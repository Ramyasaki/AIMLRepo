{
 "cells": [
  {
   "cell_type": "markdown",
   "id": "4936d024",
   "metadata": {},
   "source": [
    "# 1. Write a python function to list even and odd numbers in a list"
   ]
  },
  {
   "cell_type": "code",
   "execution_count": 22,
   "id": "253b9fb2",
   "metadata": {},
   "outputs": [
    {
     "name": "stdout",
     "output_type": "stream",
     "text": [
      "Even List:  [20, 12, 2]\n",
      "Odd List:  [43, 53, 53, 5, 3]\n"
     ]
    }
   ],
   "source": [
    "nums = [43, 20, 53, 12, 53, 5, 3, 2]\n",
    "even = []\n",
    "odd = []\n",
    "for i in nums:\n",
    "    if(i % 2 == 0):\n",
    "        even.append(i)\n",
    "    else:\n",
    "        odd.append(i)       \n",
    "print(\"Even List: \",even)\n",
    "print(\"Odd List: \",odd)"
   ]
  },
  {
   "cell_type": "markdown",
   "id": "6a8e3992",
   "metadata": {},
   "source": [
    "# 2.Write and run a Python program that asks the user to enter 8 integers (one at a time), and then prints out how many of those integers were even numbers. For example, if the user entered 19, 6, 9, 20, 13, 7, 6, and 1,then your program should print out 3 since 3 of those numbers were even."
   ]
  },
  {
   "cell_type": "code",
   "execution_count": 2,
   "id": "2ff630c2",
   "metadata": {},
   "outputs": [
    {
     "name": "stdout",
     "output_type": "stream",
     "text": [
      "Enter an integer: 7\n",
      "Enter an integer: 9\n",
      "Enter an integer: 3\n",
      "Enter an integer: 2\n",
      "Enter an integer: 5\n",
      "Enter an integer: 10\n",
      "Enter an integer: 14\n",
      "Enter an integer: 18\n",
      "The number of even integers entered: 4\n"
     ]
    }
   ],
   "source": [
    "# Initialize a variable to count even numbers\n",
    "even_count = 0\n",
    "\n",
    "# Ask the user to enter 8 integers one at a time\n",
    "for i in range(8):\n",
    "    num = int(input(\"Enter an integer: \"))\n",
    "    \n",
    "    # Check if the entered number is even\n",
    "    if num % 2 == 0:\n",
    "        even_count += 1\n",
    "\n",
    "# Print the count of even numbers\n",
    "print(\"The number of even integers entered:\", even_count)"
   ]
  },
  {
   "cell_type": "markdown",
   "id": "24f14472",
   "metadata": {},
   "source": [
    "# 3.Write a python programn where you take any positive integer n, if n is even divide it by 2 to get n/2. if n is odd multiply it by 3 and add 1 to obtain 3n+1.Repeat the process untill you reach 1."
   ]
  },
  {
   "cell_type": "code",
   "execution_count": 3,
   "id": "738cf14a",
   "metadata": {
    "scrolled": true
   },
   "outputs": [
    {
     "name": "stdout",
     "output_type": "stream",
     "text": [
      "Enter a positive integer: 7\n",
      "7 22 11 34 17 52 26 13 40 20 10 5 16 8 4 2 1\n"
     ]
    }
   ],
   "source": [
    "def collatz_sequence(n):\n",
    "    while n != 1:\n",
    "        print(n, end=' ')\n",
    "        if n % 2 == 0:\n",
    "            n = n // 2\n",
    "        else:\n",
    "            n = 3 * n + 1\n",
    "    print(1)  # Print the final 1\n",
    "\n",
    "try:\n",
    "    n = int(input(\"Enter a positive integer: \"))\n",
    "    if n <= 0:\n",
    "        print(\"Please enter a positive integer.\")\n",
    "    else:\n",
    "        collatz_sequence(n)\n",
    "except ValueError:\n",
    "    print(\"Invalid input. Please enter a positive integer.\")\n"
   ]
  },
  {
   "cell_type": "markdown",
   "id": "ebdc6e76",
   "metadata": {},
   "source": [
    "# 4.Write a Python program to compute the sum of all the multiples of 3 Or 5 below 500."
   ]
  },
  {
   "cell_type": "code",
   "execution_count": 4,
   "id": "135327d9",
   "metadata": {},
   "outputs": [
    {
     "name": "stdout",
     "output_type": "stream",
     "text": [
      "The sum of multiples of 3 or 5 below 500 is: 57918\n"
     ]
    }
   ],
   "source": [
    "total_sum = 0\n",
    "for number in range(1, 500):\n",
    "    if number % 3 == 0 or number % 5 == 0:\n",
    "        total_sum += number\n",
    "print(\"The sum of multiples of 3 or 5 below 500 is:\", total_sum)"
   ]
  },
  {
   "cell_type": "markdown",
   "id": "22d97db0",
   "metadata": {},
   "source": [
    "# 5.To write a python program to find 'n' prime numbers from a list of given numbers."
   ]
  },
  {
   "cell_type": "code",
   "execution_count": 5,
   "id": "fcc0c6c3",
   "metadata": {},
   "outputs": [
    {
     "name": "stdout",
     "output_type": "stream",
     "text": [
      "[2, 3, 5, 7, 11, 13, 17, 19, 23, 29, 31, 37, 41, 43, 47]\n"
     ]
    }
   ],
   "source": [
    "def prime_numbers(n):\n",
    "    primes = []\n",
    "    for i in range(2, n + 1):\n",
    "        for j in range(2, int(i ** 0.5) + 1):\n",
    "            if i%j == 0:\n",
    "                break\n",
    "        else:\n",
    "            primes.append(i)\n",
    "    return primes\n",
    "\n",
    "prime_list = prime_numbers(50)\n",
    "print(prime_list)"
   ]
  },
  {
   "cell_type": "markdown",
   "id": "56f2b11f",
   "metadata": {},
   "source": [
    "# 6.To write a python program to compute matrix multiplication."
   ]
  },
  {
   "cell_type": "code",
   "execution_count": 21,
   "id": "3ea7a75b",
   "metadata": {},
   "outputs": [
    {
     "name": "stdout",
     "output_type": "stream",
     "text": [
      "Matrix A:\n",
      "[1, 2, 3]\n",
      "[4, 5, 6]\n",
      "\n",
      "Matrix B:\n",
      "[7, 8]\n",
      "[9, 10]\n",
      "[11, 12]\n",
      "\n",
      "Matrix A * Matrix B:\n",
      "[58, 64]\n",
      "[139, 154]\n"
     ]
    }
   ],
   "source": [
    "def matrix_multiply(matrix1, matrix2):\n",
    "    # Get the dimensions of the input matrices.\n",
    "    rows1, cols1 = len(matrix1), len(matrix1[0])\n",
    "    rows2, cols2 = len(matrix2), len(matrix2[0])\n",
    "    \n",
    "    # Check if matrix multiplication is possible.\n",
    "    if cols1 != rows2:\n",
    "        return \"Matrix multiplication is not possible. Number of columns in matrix1 must be equal to the number of rows in matrix2.\"\n",
    "\n",
    "    # Initialize the result matrix with zeros.\n",
    "    result = [[0 for _ in range(cols2)] for _ in range(rows1)]\n",
    "\n",
    "    # Perform matrix multiplication.\n",
    "    for i in range(rows1):\n",
    "        for j in range(cols2):\n",
    "            for k in range(cols1):\n",
    "                result[i][j] += matrix1[i][k] * matrix2[k][j]\n",
    "\n",
    "    return result\n",
    "\n",
    "matrix_A = [[1, 2, 3], [4, 5, 6]]\n",
    "matrix_B = [[7, 8], [9, 10], [11, 12]]\n",
    "\n",
    "result = matrix_multiply(matrix_A, matrix_B)\n",
    "\n",
    "if isinstance(result, str):\n",
    "    print(result)\n",
    "else:\n",
    "    print(\"Matrix A:\")\n",
    "    for row in matrix_A:\n",
    "        print(row)\n",
    "    \n",
    "    print(\"\\nMatrix B:\")\n",
    "    for row in matrix_B:\n",
    "        print(row)\n",
    "\n",
    "    print(\"\\nMatrix A * Matrix B:\")\n",
    "    for row in result:\n",
    "        print(row)"
   ]
  },
  {
   "cell_type": "markdown",
   "id": "dc933d1d",
   "metadata": {},
   "source": [
    "# 7.Write a python function to count the number of vowels in a string."
   ]
  },
  {
   "cell_type": "code",
   "execution_count": 9,
   "id": "21a7a50c",
   "metadata": {},
   "outputs": [
    {
     "name": "stdout",
     "output_type": "stream",
     "text": [
      "Please Enter Your Own String : Ramyasaki\n",
      "Total Number of Vowels in this String =  4\n"
     ]
    }
   ],
   "source": [
    "str1 = input(\"Please Enter Your Own String : \")\n",
    "\n",
    "vowels = 0\n",
    "str1.lower()\n",
    "\n",
    "for i in str1:\n",
    "    if(i == 'a' or i == 'e' or i == 'i' or i == 'o' or i == 'u'):\n",
    "        vowels = vowels + 1\n",
    " \n",
    "print(\"Total Number of Vowels in this String = \", vowels)"
   ]
  },
  {
   "cell_type": "markdown",
   "id": "670d3ced",
   "metadata": {},
   "source": [
    "# 8.Write python function for finding factorial for the given number using recursion function."
   ]
  },
  {
   "cell_type": "code",
   "execution_count": 11,
   "id": "b3053afb",
   "metadata": {},
   "outputs": [
    {
     "name": "stdout",
     "output_type": "stream",
     "text": [
      "Factorial of 7 is 5040\n"
     ]
    }
   ],
   "source": [
    "def factorial(n):\n",
    "    if n == 0:\n",
    "        return 1\n",
    "    return n * factorial(n - 1)\n",
    "num = 7\n",
    "print(\"Factorial of\", num, \"is\", factorial(num))"
   ]
  },
  {
   "cell_type": "markdown",
   "id": "5d086277",
   "metadata": {},
   "source": [
    "# 9.Write python program for generating the fibonacci series using the function."
   ]
  },
  {
   "cell_type": "code",
   "execution_count": 13,
   "id": "aa118c0d",
   "metadata": {},
   "outputs": [
    {
     "name": "stdout",
     "output_type": "stream",
     "text": [
      "0\n",
      "1\n",
      "1\n",
      "2\n",
      "3\n",
      "5\n",
      "8\n"
     ]
    }
   ],
   "source": [
    "def fib(n):\n",
    "    a = 0\n",
    "    b = 1\n",
    "    if n == 1:\n",
    "        print(a)\n",
    "    else:\n",
    "        print(a)\n",
    "        print(b)\n",
    "        for i in range(2,n):\n",
    "            c = a + b\n",
    "            a = b\n",
    "            b = c\n",
    "            print(c)\n",
    "fib(7)"
   ]
  },
  {
   "cell_type": "markdown",
   "id": "b2643904",
   "metadata": {},
   "source": [
    "# 10.Python program to display the given integer in reverse order using the function without an in-built function."
   ]
  },
  {
   "cell_type": "code",
   "execution_count": 15,
   "id": "7bb14d8a",
   "metadata": {},
   "outputs": [
    {
     "name": "stdout",
     "output_type": "stream",
     "text": [
      "Reversed Number: 7081\n"
     ]
    }
   ],
   "source": [
    "num = 1807\n",
    "reversed_num = 0\n",
    "\n",
    "while num != 0:\n",
    "    digit = num % 10\n",
    "    reversed_num = reversed_num * 10 + digit\n",
    "    num //= 10\n",
    "\n",
    "print(\"Reversed Number: \" + str(reversed_num))"
   ]
  },
  {
   "cell_type": "markdown",
   "id": "19360309",
   "metadata": {},
   "source": [
    "# 11.Write a python program to display all integers within the range 200-300 whose sum of digits is an even number."
   ]
  },
  {
   "cell_type": "code",
   "execution_count": 16,
   "id": "deb67f0e",
   "metadata": {},
   "outputs": [
    {
     "name": "stdout",
     "output_type": "stream",
     "text": [
      "Numbers in the range 200-300 with even digit sums: [200, 202, 204, 206, 208, 211, 213, 215, 217, 219, 220, 222, 224, 226, 228, 231, 233, 235, 237, 239, 240, 242, 244, 246, 248, 251, 253, 255, 257, 259, 260, 262, 264, 266, 268, 271, 273, 275, 277, 279, 280, 282, 284, 286, 288, 291, 293, 295, 297, 299]\n"
     ]
    }
   ],
   "source": [
    "def sum_of_digits(n):\n",
    "    # Calculate the sum of the digits of a number.\n",
    "    digit_sum = 0\n",
    "    while n > 0:\n",
    "        digit_sum += n % 10\n",
    "        n //= 10\n",
    "    return digit_sum\n",
    "\n",
    "def find_numbers_with_even_digit_sum(start, end):\n",
    "    # Iterate through the range and find numbers with even digit sums.\n",
    "    numbers_with_even_sum = []\n",
    "    for num in range(start, end + 1):\n",
    "        if sum_of_digits(num) % 2 == 0:\n",
    "            numbers_with_even_sum.append(num)\n",
    "    return numbers_with_even_sum\n",
    "\n",
    "# Example usage:\n",
    "start_range = 200\n",
    "end_range = 300\n",
    "\n",
    "even_sum_numbers = find_numbers_with_even_digit_sum(start_range, end_range)\n",
    "\n",
    "print(\"Numbers in the range 200-300 with even digit sums:\", even_sum_numbers)\n"
   ]
  },
  {
   "cell_type": "markdown",
   "id": "9886f0c9",
   "metadata": {},
   "source": [
    "# 12.Write a python function to find the number of digits and sum of digits for a given integer."
   ]
  },
  {
   "cell_type": "code",
   "execution_count": 17,
   "id": "4d4fff6f",
   "metadata": {},
   "outputs": [
    {
     "name": "stdout",
     "output_type": "stream",
     "text": [
      "Enter an integer: 7\n",
      "Number of digits: 1\n",
      "Sum of digits: 7\n"
     ]
    }
   ],
   "source": [
    "def count_digits_and_sum(n):\n",
    "    # Initialize variables to store the count of digits and the sum of digits.\n",
    "    digit_count = 0\n",
    "    digit_sum = 0\n",
    "    # Ensure n is non-negative.\n",
    "    n = abs(n)\n",
    "    # Calculate the count and sum of digits.\n",
    "    while n > 0:\n",
    "        digit = n % 10\n",
    "        digit_sum += digit\n",
    "        digit_count += 1\n",
    "        n //= 10 \n",
    "    return digit_count, digit_sum\n",
    "num = int(input(\"Enter an integer: \"))\n",
    "count, total_sum = count_digits_and_sum(num)\n",
    "print(f\"Number of digits: {count}\")\n",
    "print(f\"Sum of digits: {total_sum}\")\n"
   ]
  },
  {
   "cell_type": "markdown",
   "id": "5de46b3b",
   "metadata": {},
   "source": [
    "# 13.Write functions called is_sorted that takes a list as a parameter and returns True if the list is sorted in ascending orderand False otherwise and has_duplicates that takes a list and returns Trueif there is any element that appears more than once.It should not modify the original list."
   ]
  },
  {
   "cell_type": "code",
   "execution_count": 18,
   "id": "6607547b",
   "metadata": {},
   "outputs": [
    {
     "name": "stdout",
     "output_type": "stream",
     "text": [
      "is_sorted(my_list): True\n",
      "has_duplicates(my_list_with_duplicates): True\n"
     ]
    }
   ],
   "source": [
    "def is_sorted(arr):\n",
    "    # Check if the list is sorted in ascending order.\n",
    "    return all(arr[i] <= arr[i + 1] for i in range(len(arr) - 1))\n",
    "def has_duplicates(arr):\n",
    "    # Create a set to store unique elements.\n",
    "    seen = set()\n",
    "    \n",
    "    for element in arr:\n",
    "        if element in seen:\n",
    "            return True\n",
    "        seen.add(element) \n",
    "    return False\n",
    "my_list = [1, 2, 3, 4, 5]\n",
    "print(\"is_sorted(my_list):\", is_sorted(my_list))  # True\n",
    "my_list_with_duplicates = [1, 2, 2, 3, 4]\n",
    "print(\"has_duplicates(my_list_with_duplicates):\", has_duplicates(my_list_with_duplicates))  # True"
   ]
  },
  {
   "cell_type": "markdown",
   "id": "c3165312",
   "metadata": {},
   "source": [
    "# 14.Write functions called nested_sum that takes a list of integers and adds up the elements from all the nested lists and cumsum that takes a list of numbers and returns the cummulative sum;that is a new list where the ith element is the sum of the first i + 1 elements from the original list."
   ]
  },
  {
   "cell_type": "code",
   "execution_count": 19,
   "id": "29459471",
   "metadata": {
    "scrolled": true
   },
   "outputs": [
    {
     "name": "stdout",
     "output_type": "stream",
     "text": [
      "nested_sum(nested_list): 36\n",
      "cumsum(numbers): [1, 3, 6, 10, 15]\n"
     ]
    }
   ],
   "source": [
    "def nested_sum(nested_list):\n",
    "    # Initialize a variable to store the sum.\n",
    "    total = 0\n",
    "    # Iterate through the nested lists.\n",
    "    for sublist in nested_list:\n",
    "        # Iterate through the elements in each sublist.\n",
    "        for element in sublist:\n",
    "            if isinstance(element, int):\n",
    "                total += element  # Add the integer elements to the total \n",
    "    return total\n",
    "def cumsum(numbers):\n",
    "    # Initialize a variable to store the cumulative sum.\n",
    "    cumulative_sum = 0\n",
    "    cumsum_list = []\n",
    "\n",
    "    # Iterate through the numbers and calculate the cumulative sum.\n",
    "    for num in numbers:\n",
    "        cumulative_sum += num\n",
    "        cumsum_list.append(cumulative_sum)   \n",
    "    return cumsum_list\n",
    "nested_list = [[1, 2, 3], [4, 5], [6, 7, 8]]\n",
    "print(\"nested_sum(nested_list):\", nested_sum(nested_list))  # 36\n",
    "numbers = [1, 2, 3, 4, 5]\n",
    "print(\"cumsum(numbers):\", cumsum(numbers))  # [1, 3, 6, 10, 15]"
   ]
  },
  {
   "cell_type": "code",
   "execution_count": null,
   "id": "1bcabff5",
   "metadata": {},
   "outputs": [],
   "source": []
  },
  {
   "cell_type": "code",
   "execution_count": null,
   "id": "6fdc89b6",
   "metadata": {},
   "outputs": [],
   "source": []
  }
 ],
 "metadata": {
  "kernelspec": {
   "display_name": "Python 3 (ipykernel)",
   "language": "python",
   "name": "python3"
  },
  "language_info": {
   "codemirror_mode": {
    "name": "ipython",
    "version": 3
   },
   "file_extension": ".py",
   "mimetype": "text/x-python",
   "name": "python",
   "nbconvert_exporter": "python",
   "pygments_lexer": "ipython3",
   "version": "3.11.4"
  }
 },
 "nbformat": 4,
 "nbformat_minor": 5
}

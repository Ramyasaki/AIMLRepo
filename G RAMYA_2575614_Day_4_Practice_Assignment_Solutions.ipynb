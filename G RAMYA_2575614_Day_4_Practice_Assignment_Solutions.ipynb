{
 "cells": [
  {
   "cell_type": "markdown",
   "id": "bb0be4b6",
   "metadata": {},
   "source": [
    "# Medical Diagnosis with Naive Bayes\n",
    "\n",
    "You work for a medical research institute, and your task is to develop a diagnostic system using the Naive Bayes algorithm. You have a dataset with various medical test results, patient information, and corresponding diagnoses (e.g., presence or absence of a medical condition). Your goal is to create a classification model to aid in the medical diagnosis process. Answer the following questions based on this case study.\n",
    "\n",
    "1. Data Exploration:\n",
    "\n",
    "a. Load and explore the medical dataset using Python libraries like pandas. Describe the features, label, and the distribution of diagnoses.\n",
    "\n",
    "2. Data Preprocessing:\n",
    "\n",
    "a. Explain the necessary data preprocessing steps for preparing the medical data. This may include handling missing values, normalizing or scaling features, and encoding categorical variables.\n",
    "\n",
    "b. Calculate the prior probabilities P(Condition) and P(No Condition) based on the class distribution.\n",
    "\n",
    "3. Feature Engineering:\n",
    "\n",
    "a. Describe how to convert the medical test results and patient information into suitable features for the Naive Bayes model.\n",
    "\n",
    "b. Discuss the importance of feature selection or dimensionality reduction in medical diagnosis\n",
    "\n",
    "4. Implementing Naive Bayes:\n",
    "\n",
    "a. Choose the appropriate Naive Bayes variant (e.g., Gaussian, Multinomial, or Bernoulli Naive Bayes) for the medical diagnosis task and implement the classifier using Python libraries like scikit-learn.\n",
    "\n",
    "b. Split the dataset into training and testing sets.\n",
    "\n",
    "5. Model Training:\n",
    "\n",
    "a. Train the Naive Bayes model using the feature-engineered dataset. Explain the probability estimation process in Naive Bayes for medical diagnosis..\n",
    "6. Model Evaluation:\n",
    "\n",
    "a. Assess the performance of the medical diagnosis model using relevant evaluation metrics, such as accuracy, precision, recall, and F1-score..\n",
    "\n",
    "b. Interpret the results and discuss the model's ability to accurately classify medical conditions.\n",
    "\n",
    "7. Laplace Smoothing:\n",
    "\n",
    "a. Explain the concept of Laplace (add-one) smoothing and discuss its potential application in the context of medical diagnosis.\n",
    "\n",
    "b. Discuss the impact of Laplace smoothing on model performance.\n",
    "\n",
    "8. Real-World Application:\n",
    "\n",
    "I\n",
    "\n",
    "a. Describe the importance of accurate medical diagnosis in healthcare and research.\n",
    "\n",
    "b. Discuss the practical implications of implementing a diagnostic system based on Naive Bayes.\n",
    "\n",
    "9. Model Limitations:\n",
    "\n",
    "a. Identify potential limitations of the Naive Bayes approach to medical diagnosis and discuss scenarios in which it may not perform well.\n",
    "\n",
    "10. Presentation and Recommendations:\n",
    "\n",
    "a. Prepare a presentation or report summarizing your analysis, results, and recommendations for the medical research institute. Highlight the significance of accurate medical diagnosis and the role of Naive Bayes in healthcare.\n",
    "\n",
    "In this case study, you can demonstrate your ability to apply the Naive Bayes algorithm to non-text data, understand the nuances of feature engineering for different types of data, and assess the model's performance in a critical domain such as medical diagnosis."
   ]
  },
  {
   "cell_type": "markdown",
   "id": "4e258e14",
   "metadata": {},
   "source": [
    "# Q1"
   ]
  },
  {
   "cell_type": "code",
   "execution_count": 112,
   "id": "b8f2c4cd",
   "metadata": {},
   "outputs": [
    {
     "name": "stdout",
     "output_type": "stream",
     "text": [
      "Features:\n",
      "   age     sex     bmi  children smoker     region\n",
      "0   19  female  27.900         0    yes  southwest\n",
      "1   18    male  33.770         1     no  southeast\n",
      "2   28    male  33.000         3     no  southeast\n",
      "3   33    male  22.705         0     no  northwest\n",
      "4   32    male  28.880         0     no  northwest\n",
      "\n",
      "Label (Charges) Distribution:\n",
      "count     1338.000000\n",
      "mean     13270.422265\n",
      "std      12110.011237\n",
      "min       1121.873900\n",
      "25%       4740.287150\n",
      "50%       9382.033000\n",
      "75%      16639.912515\n",
      "max      63770.428010\n",
      "Name: charges, dtype: float64\n"
     ]
    }
   ],
   "source": [
    "import pandas as pd\n",
    "\n",
    "# 1. Load the dataset\n",
    "data = pd.read_csv(\"C://Users//TmC//Downloads//archive//insurance.csv\")\n",
    "\n",
    "# 2. Explore the features and label\n",
    "# Assuming \"charges\" is the label and the rest are features\n",
    "features = data.drop(columns=[\"charges\"])\n",
    "label = data[\"charges\"]\n",
    "\n",
    "# 3. Describe the features\n",
    "print(\"Features:\")\n",
    "print(features.head())  # Display the first few rows of the features\n",
    "\n",
    "# 4. Describe the distribution of the label (charges)\n",
    "print(\"\\nLabel (Charges) Distribution:\")\n",
    "label_distribution = label.describe()\n",
    "print(label_distribution)"
   ]
  },
  {
   "cell_type": "markdown",
   "id": "ec5a79aa",
   "metadata": {},
   "source": [
    "# Q2"
   ]
  },
  {
   "cell_type": "code",
   "execution_count": 123,
   "id": "34ce5b79",
   "metadata": {},
   "outputs": [
    {
     "name": "stdout",
     "output_type": "stream",
     "text": [
      "Prior Probability of Condition (P(Condition)):  0.016442451420029897\n",
      "Prior Probability of No Condition (P(No Condition)):  0.0515695067264574\n"
     ]
    }
   ],
   "source": [
    "import pandas as pd\n",
    "\n",
    "# Load the medical dataset (replace 'medical_data.csv' with the actual path)\n",
    "data = pd.read_csv(\"C://Users//TmC//Downloads//archive//insurance.csv\")\n",
    "\n",
    "# 1. Handle Missing Values\n",
    "data.fillna(0, inplace=True)  # Replace missing values with 0; you can choose a different strategy\n",
    "\n",
    "# 2. Feature Scaling/Normalization (example: Min-Max scaling)\n",
    "from sklearn.preprocessing import MinMaxScaler\n",
    "scaler = MinMaxScaler()\n",
    "data[['age', 'bmi', 'children', 'charges']] = scaler.fit_transform(data[['age', 'bmi', 'children', 'charges']])\n",
    "\n",
    "# 3. Encoding Categorical Variables (example: One-Hot Encoding)\n",
    "data = pd.get_dummies(data, columns=['sex', 'smoker', 'region'], drop_first=True)\n",
    "\n",
    "# 4. Calculate Prior Probabilities\n",
    "target_distribution = data['age'].value_counts()\n",
    "p_condition = target_distribution[1] / len(data)\n",
    "p_no_condition = target_distribution[0] / len(data)\n",
    "\n",
    "# Print the calculated prior probabilities\n",
    "print(\"Prior Probability of Condition (P(Condition)): \", p_condition)\n",
    "print(\"Prior Probability of No Condition (P(No Condition)): \", p_no_condition)\n"
   ]
  },
  {
   "cell_type": "markdown",
   "id": "6aa71a29",
   "metadata": {},
   "source": [
    "# Q3"
   ]
  },
  {
   "cell_type": "code",
   "execution_count": 115,
   "id": "16c53f28",
   "metadata": {},
   "outputs": [
    {
     "name": "stdout",
     "output_type": "stream",
     "text": [
      "Feature Importance:\n",
      "charges: 0.558180392103415\n",
      "smoker_yes: 0.21479547075518265\n",
      "smoker_no: 0.15230860784974576\n",
      "age: 0.05357449604149019\n",
      "bmi: 0.010864631891485375\n",
      "children: 0.004593779972207545\n",
      "region_southwest: 0.0013809312781030896\n",
      "sex_male: 0.0010559106957885186\n",
      "region_southeast: 0.000946024435809833\n",
      "region_northwest: 0.0008958380290931385\n",
      "region_northeast: 0.0007557382413344459\n",
      "sex_female: 0.0006481787063445967\n"
     ]
    }
   ],
   "source": [
    "import pandas as pd\n",
    "from sklearn.ensemble import RandomForestClassifier\n",
    "\n",
    "# Load the insurance dataset from 'insurance.csv'\n",
    "data = pd.read_csv(\"C://Users//TmC//Downloads//archive//insurance.csv\")\n",
    "\n",
    "# Define a binary target variable based on a condition\n",
    "data['target'] = (data['charges'] > data['charges'].mean()).astype(int)\n",
    "\n",
    "# Encode categorical features using one-hot encoding\n",
    "data = pd.get_dummies(data, columns=['sex', 'smoker', 'region'])\n",
    "\n",
    "# Features\n",
    "X = data.drop(columns=['target'])  # Features\n",
    "y = data['target']  # Target variable\n",
    "\n",
    "# Train a Random Forest classifier to estimate feature importance\n",
    "clf = RandomForestClassifier(n_estimators=100, random_state=42)\n",
    "clf.fit(X, y)\n",
    "\n",
    "# Get feature importances\n",
    "feature_importances = clf.feature_importances_\n",
    "\n",
    "# List feature names and their importance scores\n",
    "features = X.columns\n",
    "feature_importance_dict = dict(zip(features, feature_importances))\n",
    "sorted_feature_importance = sorted(feature_importance_dict.items(), key=lambda x: x[1], reverse=True)\n",
    "\n",
    "# Display the feature importance\n",
    "print(\"Feature Importance:\")\n",
    "for feature, importance in sorted_feature_importance:\n",
    "    print(f\"{feature}: {importance}\")"
   ]
  },
  {
   "cell_type": "markdown",
   "id": "60b50fe1",
   "metadata": {},
   "source": [
    "# Q4"
   ]
  },
  {
   "cell_type": "code",
   "execution_count": 116,
   "id": "60aa51ae",
   "metadata": {},
   "outputs": [
    {
     "name": "stdout",
     "output_type": "stream",
     "text": [
      "Accuracy: 0.9067164179104478\n",
      "Classification Report:\n",
      "               precision    recall  f1-score   support\n",
      "\n",
      "           0       0.88      1.00      0.94       189\n",
      "           1       1.00      0.68      0.81        79\n",
      "\n",
      "    accuracy                           0.91       268\n",
      "   macro avg       0.94      0.84      0.87       268\n",
      "weighted avg       0.92      0.91      0.90       268\n",
      "\n"
     ]
    }
   ],
   "source": [
    "import pandas as pd\n",
    "from sklearn.model_selection import train_test_split\n",
    "from sklearn.naive_bayes import BernoulliNB\n",
    "from sklearn.metrics import accuracy_score, classification_report\n",
    "\n",
    "# Load the insurance dataset from 'insurance.csv'\n",
    "data = pd.read_csv(\"C://Users//TmC//Downloads//archive//insurance.csv\")\n",
    "\n",
    "# Define a binary target variable based on a condition\n",
    "data['target'] = (data['charges'] > data['charges'].mean()).astype(int)\n",
    "\n",
    "# Encode categorical features using one-hot encoding\n",
    "data = pd.get_dummies(data, columns=['sex', 'smoker', 'region'])\n",
    "\n",
    "# Features and target variable\n",
    "X = data.drop(columns=['target'])  # Features\n",
    "y = data['target']  # Target variable\n",
    "\n",
    "# Split the dataset into training and testing sets\n",
    "X_train, X_test, y_train, y_test = train_test_split(X, y, test_size=0.2, random_state=42)\n",
    "\n",
    "# Initialize and train the Bernoulli Naive Bayes classifier\n",
    "clf = BernoulliNB()\n",
    "clf.fit(X_train, y_train)\n",
    "\n",
    "# Predict on the test set\n",
    "y_pred = clf.predict(X_test)\n",
    "\n",
    "# Evaluate the classifier\n",
    "accuracy = accuracy_score(y_test, y_pred)\n",
    "report = classification_report(y_test, y_pred)\n",
    "\n",
    "# Print the accuracy and classification report\n",
    "print(\"Accuracy:\", accuracy)\n",
    "print(\"Classification Report:\\n\", report)"
   ]
  },
  {
   "cell_type": "markdown",
   "id": "c33d8baf",
   "metadata": {},
   "source": [
    "# Q5"
   ]
  },
  {
   "cell_type": "code",
   "execution_count": 117,
   "id": "df38df3f",
   "metadata": {},
   "outputs": [
    {
     "name": "stdout",
     "output_type": "stream",
     "text": [
      "Probability of the first data point being in the 'high premium' class: 0.06059509807749055\n"
     ]
    }
   ],
   "source": [
    "import pandas as pd\n",
    "from sklearn.model_selection import train_test_split\n",
    "from sklearn.naive_bayes import BernoulliNB\n",
    "\n",
    "# Load the insurance dataset from 'insurance.csv'\n",
    "data = pd.read_csv(\"C://Users//TmC//Downloads//archive//insurance.csv\")\n",
    "\n",
    "# Define a binary target variable based on a condition\n",
    "data['target'] = (data['charges'] > data['charges'].mean()).astype(int)\n",
    "\n",
    "# Encode categorical features using one-hot encoding\n",
    "data = pd.get_dummies(data, columns=['sex', 'smoker', 'region'])\n",
    "\n",
    "# Features and target variable\n",
    "X = data.drop(columns=['target'])  # Features\n",
    "y = data['target']  # Target variable\n",
    "\n",
    "# Split the dataset into training and testing sets\n",
    "X_train, X_test, y_train, y_test = train_test_split(X, y, test_size=0.2, random_state=42)\n",
    "\n",
    "# Initialize and train the Bernoulli Naive Bayes classifier\n",
    "clf = BernoulliNB()\n",
    "clf.fit(X_train, y_train)\n",
    "\n",
    "# Probability Estimation for Test Data\n",
    "# Probabilities for each class (0: low premium, 1: high premium)\n",
    "# For binary classification, you can use predict_proba to get probabilities\n",
    "probabilities = clf.predict_proba(X_test)\n",
    "\n",
    "# Example: Get the probability of the first data point being in the \"high premium\" class\n",
    "first_data_point_probability = probabilities[0][1]\n",
    "print(\"Probability of the first data point being in the 'high premium' class:\", first_data_point_probability)"
   ]
  },
  {
   "cell_type": "markdown",
   "id": "2fe575a6",
   "metadata": {},
   "source": [
    "# Q6"
   ]
  },
  {
   "cell_type": "code",
   "execution_count": 118,
   "id": "da4615ab",
   "metadata": {},
   "outputs": [
    {
     "name": "stdout",
     "output_type": "stream",
     "text": [
      "Accuracy: 0.9067164179104478\n",
      "Precision: 1.0\n",
      "Recall: 0.6835443037974683\n",
      "F1 Score: 0.8120300751879699\n",
      "Classification Report:\n",
      "               precision    recall  f1-score   support\n",
      "\n",
      "           0       0.88      1.00      0.94       189\n",
      "           1       1.00      0.68      0.81        79\n",
      "\n",
      "    accuracy                           0.91       268\n",
      "   macro avg       0.94      0.84      0.87       268\n",
      "weighted avg       0.92      0.91      0.90       268\n",
      "\n"
     ]
    }
   ],
   "source": [
    "import pandas as pd\n",
    "from sklearn.model_selection import train_test_split\n",
    "from sklearn.naive_bayes import BernoulliNB\n",
    "from sklearn.metrics import accuracy_score, precision_score, recall_score, f1_score, classification_report\n",
    "\n",
    "# Load the insurance dataset from 'insurance.csv'\n",
    "data = pd.read_csv(\"C://Users//TmC//Downloads//archive//insurance.csv\")\n",
    "\n",
    "# Define a binary target variable based on a condition\n",
    "data['target'] = (data['charges'] > data['charges'].mean()).astype(int)\n",
    "\n",
    "# Encode categorical features using one-hot encoding\n",
    "data = pd.get_dummies(data, columns=['sex', 'smoker', 'region'])\n",
    "\n",
    "# Features and target variable\n",
    "X = data.drop(columns=['target'])  # Features\n",
    "y = data['target']  # Target variable\n",
    "\n",
    "# Split the dataset into training and testing sets\n",
    "X_train, X_test, y_train, y_test = train_test_split(X, y, test_size=0.2, random_state=42)\n",
    "\n",
    "# Initialize and train the Bernoulli Naive Bayes classifier\n",
    "clf = BernoulliNB()\n",
    "clf.fit(X_train, y_train)\n",
    "\n",
    "# Predict on the test set\n",
    "y_pred = clf.predict(X_test)\n",
    "\n",
    "# Evaluate the classifier\n",
    "accuracy = accuracy_score(y_test, y_pred)\n",
    "precision = precision_score(y_test, y_pred)\n",
    "recall = recall_score(y_test, y_pred)\n",
    "f1 = f1_score(y_test, y_pred)\n",
    "report = classification_report(y_test, y_pred)\n",
    "\n",
    "# Print the evaluation metrics\n",
    "print(\"Accuracy:\", accuracy)\n",
    "print(\"Precision:\", precision)\n",
    "print(\"Recall:\", recall)\n",
    "print(\"F1 Score:\", f1)\n",
    "print(\"Classification Report:\\n\", report)"
   ]
  },
  {
   "cell_type": "markdown",
   "id": "da5614be",
   "metadata": {},
   "source": [
    "# Q9"
   ]
  },
  {
   "cell_type": "code",
   "execution_count": 119,
   "id": "551a9c13",
   "metadata": {},
   "outputs": [
    {
     "name": "stdout",
     "output_type": "stream",
     "text": [
      "Accuracy: 0.9067164179104478\n",
      "Precision: 1.0\n",
      "Recall: 0.6835443037974683\n",
      "F1 Score: 0.8120300751879699\n"
     ]
    }
   ],
   "source": [
    "import pandas as pd\n",
    "from sklearn.model_selection import train_test_split\n",
    "from sklearn.naive_bayes import BernoulliNB\n",
    "from sklearn.metrics import accuracy_score, precision_score, recall_score, f1_score\n",
    "\n",
    "# Load the insurance dataset from 'insurance.csv'\n",
    "data = pd.read_csv(\"C://Users//TmC//Downloads//archive//insurance.csv\")\n",
    "\n",
    "# Define a binary target variable based on a condition\n",
    "data['target'] = (data['charges'] > data['charges'].mean()).astype(int)\n",
    "\n",
    "# Encode categorical features using one-hot encoding\n",
    "data = pd.get_dummies(data, columns=['sex', 'smoker', 'region'])\n",
    "\n",
    "# Features and target variable\n",
    "X = data.drop(columns=['target'])  # Features\n",
    "y = data['target']  # Target variable\n",
    "\n",
    "# Split the dataset into training and testing sets\n",
    "X_train, X_test, y_train, y_test = train_test_split(X, y, test_size=0.2, random_state=42)\n",
    "\n",
    "# Initialize and train the Bernoulli Naive Bayes classifier\n",
    "clf = BernoulliNB()\n",
    "clf.fit(X_train, y_train)\n",
    "\n",
    "# Predict on the test set\n",
    "y_pred = clf.predict(X_test)\n",
    "\n",
    "# Evaluate the classifier\n",
    "accuracy = accuracy_score(y_test, y_pred)\n",
    "precision = precision_score(y_test, y_pred)\n",
    "recall = recall_score(y_test, y_pred)\n",
    "f1 = f1_score(y_test, y_pred)\n",
    "\n",
    "print(\"Accuracy:\", accuracy)\n",
    "print(\"Precision:\", precision)\n",
    "print(\"Recall:\", recall)\n",
    "print(\"F1 Score:\", f1)"
   ]
  },
  {
   "cell_type": "markdown",
   "id": "db16756b",
   "metadata": {},
   "source": [
    "# Customer Segmentation with K-Nearest Neighbors (KNN)\n",
    "\n",
    "You work for a retail company, and your task is to segment customers based on their purchase behavior using the K-Nearest Neighbors (KNN) algorithm. The dataset contains information about customers, such as purchase history, age, and income. Your goal is to create customer segments for targeted marketing Answer the following questions based on this case study:\n",
    "\n",
    "1. Data Exploration:\n",
    "\n",
    "a. Load the customer dataset using Python libraries like pandas and explore its structure. Describe the features, target variable, and data distribution.\n",
    "\n",
    "b. Explain the importance of customer segmentation in the retail industry.\n",
    "\n",
    "2. Data Preprocessing:\n",
    "\n",
    "a. Prepare the customer data for analysis. Discuss the steps involved in data preprocessing, such as scaling handling missing values, and encoding categorical variables.\n",
    "\n",
    "3. implementing KNN:\n",
    "\n",
    "a. Implement the K-Nearest Neighbors algorithm using Python libraries like scikit-learn to segment customers based on their features.\n",
    "\n",
    "b. Choose an appropriate number of neighbors (K) for the algorithm and explain your choice.\n",
    "\n",
    "4. Model Training:\n",
    "\n",
    "a. Train the KNN model using the preprocessed customer dataset.\n",
    "\n",
    "b. Discuss the distance metric used for finding the nearest neighbors and its significance in customer segmentation.\n",
    "\n",
    "5. Customer Segmentation:\n",
    "\n",
    "a. Segment the customers based on their purchase behavior, age, and income.\n",
    "b. Visualize the customer segments to gain insights into the distribution and characteristics of each segment.\n",
    "\n",
    "6. Hyperparameter Tuning:\n",
    "\n",
    "a. Explain the role of the hyperparameter (K) in the KNN algorithm and suggest strategies for selecting the optimal value of K.\n",
    "\n",
    "b. Conduct hyperparameter tuning for the KNN model and discuss the impact of different values of K on segmentation results.\n",
    "\n",
    "7. Model Evaluation:\n",
    "\n",
    "a. Evaluate the KNN model's performance in customer segmentation. Discuss the criteria and metrics used for evaluating unsupervised learning models.\n",
    "\n",
    "b. Interpret the results and provide insights on how the customer segments can be leveraged for marketing strategies.\n",
    "\n",
    "8. Real-World Application:\n",
    "\n",
    "a. Describe the practical applications of customer segmentation in the retail industry.\n",
    "\n",
    "b. Discuss how customer segmentation can lead to improved customer engagement and increased sales.\n",
    "\n",
    "9. Model Limitations:\n",
    "\n",
    "a. Identify potential limitations of the KNN algorithm in customer segmentation and discuss scenarios in which it may not perform well.\n",
    "\n",
    "10. Presentation and Recommendations:\n",
    "\n",
    "a. Prepare a presentation or report summarizing your analysis, results, and recommendations for the retail company. Highlight the significance of customer segmentation and the role of KNN in data-driven marketing. \n",
    "In this case study, you are required to demonstrate your ability to use the KNN algorithm for customer segmentation, understand the importance of hyperparameter tuning, and communicate the practical applications of customer segmentation in the retail sector."
   ]
  },
  {
   "cell_type": "markdown",
   "id": "fd7f1681",
   "metadata": {},
   "source": [
    "# Q1"
   ]
  },
  {
   "cell_type": "code",
   "execution_count": 32,
   "id": "27e73928",
   "metadata": {
    "scrolled": true
   },
   "outputs": [
    {
     "name": "stdout",
     "output_type": "stream",
     "text": [
      "First few rows of the dataset:\n",
      "   Customer ID  Age Gender Item Purchased  Category  Purchase Amount (USD)  \\\n",
      "0            1   55   Male         Blouse  Clothing                     53   \n",
      "1            2   19   Male        Sweater  Clothing                     64   \n",
      "2            3   50   Male          Jeans  Clothing                     73   \n",
      "3            4   21   Male        Sandals  Footwear                     90   \n",
      "4            5   45   Male         Blouse  Clothing                     49   \n",
      "\n",
      "        Location Size      Color  Season  Review Rating Subscription Status  \\\n",
      "0       Kentucky    L       Gray  Winter            3.1                 Yes   \n",
      "1          Maine    L     Maroon  Winter            3.1                 Yes   \n",
      "2  Massachusetts    S     Maroon  Spring            3.1                 Yes   \n",
      "3   Rhode Island    M     Maroon  Spring            3.5                 Yes   \n",
      "4         Oregon    M  Turquoise  Spring            2.7                 Yes   \n",
      "\n",
      "   Shipping Type Discount Applied Promo Code Used  Previous Purchases  \\\n",
      "0        Express              Yes             Yes                  14   \n",
      "1        Express              Yes             Yes                   2   \n",
      "2  Free Shipping              Yes             Yes                  23   \n",
      "3   Next Day Air              Yes             Yes                  49   \n",
      "4  Free Shipping              Yes             Yes                  31   \n",
      "\n",
      "  Payment Method Frequency of Purchases  \n",
      "0          Venmo            Fortnightly  \n",
      "1           Cash            Fortnightly  \n",
      "2    Credit Card                 Weekly  \n",
      "3         PayPal                 Weekly  \n",
      "4         PayPal               Annually  \n",
      "Summary statistics of the features:\n",
      "               Age  Purchase Amount (USD)  Review Rating  Previous Purchases\n",
      "count  3900.000000            3900.000000    3900.000000         3900.000000\n",
      "mean     44.068462              59.764359       3.749949           25.351538\n",
      "std      15.207589              23.685392       0.716223           14.447125\n",
      "min      18.000000              20.000000       2.500000            1.000000\n",
      "25%      31.000000              39.000000       3.100000           13.000000\n",
      "50%      44.000000              60.000000       3.700000           25.000000\n",
      "75%      57.000000              81.000000       4.400000           38.000000\n",
      "max      70.000000             100.000000       5.000000           50.000000\n",
      "Data types of features:\n",
      "Age                         int64\n",
      "Gender                     object\n",
      "Item Purchased             object\n",
      "Category                   object\n",
      "Purchase Amount (USD)       int64\n",
      "Location                   object\n",
      "Size                       object\n",
      "Color                      object\n",
      "Season                     object\n",
      "Review Rating             float64\n",
      "Subscription Status        object\n",
      "Shipping Type              object\n",
      "Discount Applied           object\n",
      "Promo Code Used            object\n",
      "Previous Purchases          int64\n",
      "Payment Method             object\n",
      "Frequency of Purchases     object\n",
      "dtype: object\n",
      "Target variable distribution:\n",
      "1       1\n",
      "2621    1\n",
      "2593    1\n",
      "2594    1\n",
      "2595    1\n",
      "       ..\n",
      "1305    1\n",
      "1306    1\n",
      "1307    1\n",
      "1308    1\n",
      "3900    1\n",
      "Name: Customer ID, Length: 3900, dtype: int64\n"
     ]
    }
   ],
   "source": [
    "import pandas as pd\n",
    "\n",
    "# Load the customer dataset (replace 'customer_data.csv' with the actual file path or URL)\n",
    "data = pd.read_csv(\"C://Users//TmC//Downloads//archive (1)//shopping_trends_updated.csv\")\n",
    "\n",
    "# Display the first few rows of the dataset to understand its structure\n",
    "print(\"First few rows of the dataset:\")\n",
    "print(data.head())\n",
    "\n",
    "# Describe the features, target variable, and data distribution\n",
    "features = data.drop('Customer ID', axis=1)  # Features are all columns except 'Target_Variable'\n",
    "target_variable = data['Customer ID']  # 'Target_Variable' is the variable you want to predict\n",
    "\n",
    "# Display basic statistics of the features (numerical columns)\n",
    "print(\"Summary statistics of the features:\")\n",
    "print(features.describe())\n",
    "\n",
    "# Display the data types of each feature\n",
    "print(\"Data types of features:\")\n",
    "print(features.dtypes)\n",
    "\n",
    "# Distribution of the target variable\n",
    "target_variable_distribution = target_variable.value_counts()\n",
    "print(\"Target variable distribution:\")\n",
    "print(target_variable_distribution)\n"
   ]
  },
  {
   "cell_type": "markdown",
   "id": "18a760f8",
   "metadata": {},
   "source": [
    "# Q2"
   ]
  },
  {
   "cell_type": "code",
   "execution_count": 72,
   "id": "94da4e41",
   "metadata": {},
   "outputs": [
    {
     "name": "stderr",
     "output_type": "stream",
     "text": [
      "C:\\Users\\TmC\\anaconda3\\Lib\\site-packages\\sklearn\\preprocessing\\_encoders.py:975: FutureWarning: `sparse` was renamed to `sparse_output` in version 1.2 and will be removed in 1.4. `sparse_output` is ignored unless you leave `sparse` to its default value.\n",
      "  warnings.warn(\n"
     ]
    }
   ],
   "source": [
    "import pandas as pd\n",
    "from sklearn.preprocessing import StandardScaler\n",
    "from sklearn.impute import SimpleImputer\n",
    "from sklearn.preprocessing import OneHotEncoder\n",
    "\n",
    "# Load the customer dataset (replace 'customer_data.csv' with your actual file path or URL)\n",
    "data = pd.read_csv(\"C://Users//TmC//Downloads//archive (1)//shopping_trends_updated.csv\")\n",
    "\n",
    "# Define your numerical and categorical features\n",
    "numerical_features = ['Previous Purchases']  # Replace with your actual numerical feature column names\n",
    "categorical_features = ['Review Rating', 'Item Purchased', 'Shipping Type']  # Replace with your actual categorical feature column names\n",
    "\n",
    "# Check if the specified categorical features exist in the dataset\n",
    "for col in categorical_features:\n",
    "    if col not in data.columns:\n",
    "        raise ValueError(f\"Column '{col}' specified in categorical_features does not exist in the dataset.\")\n",
    "\n",
    "# Step 1: Handle Missing Values\n",
    "# For numerical features, fill missing values with the mean\n",
    "imputer_numeric = SimpleImputer(strategy='mean')\n",
    "data[numerical_features] = imputer_numeric.fit_transform(data[numerical_features])\n",
    "\n",
    "# For categorical features, fill missing values with the most frequent category\n",
    "imputer_categorical = SimpleImputer(strategy='most_frequent')\n",
    "data[categorical_features] = imputer_categorical.fit_transform(data[categorical_features])\n",
    "\n",
    "# Step 2: Encode Categorical Variables\n",
    "# We'll use one-hot encoding for categorical features to create binary columns for each category.\n",
    "encoder = OneHotEncoder(sparse=False, drop='first')  # Set 'drop' to 'first' to avoid multicollinearity\n",
    "encoded_features = encoder.fit_transform(data[categorical_features])\n",
    "encoded_feature_names = encoder.get_feature_names_out(input_features=categorical_features)\n",
    "encoded_data = pd.DataFrame(encoded_features, columns=encoded_feature_names)\n",
    "\n",
    "# Step 3: Combine Encoded Categorical Features with Numerical Features\n",
    "X = pd.concat([data[numerical_features], encoded_data], axis=1)\n",
    "\n",
    "# Step 4: Scale Numerical Features\n",
    "# It's important to scale numerical features when using K-Nearest Neighbors (KNN) as it's distance-based.\n",
    "scaler = StandardScaler()\n",
    "X[numerical_features] = scaler.fit_transform(X[numerical_features])\n",
    "\n",
    "# Now, your data is preprocessed and ready for analysis.\n"
   ]
  },
  {
   "cell_type": "markdown",
   "id": "0354c9cf",
   "metadata": {},
   "source": [
    "# Q3"
   ]
  },
  {
   "cell_type": "code",
   "execution_count": 97,
   "id": "77907b6d",
   "metadata": {},
   "outputs": [
    {
     "name": "stdout",
     "output_type": "stream",
     "text": [
      "K = 1, Average Accuracy: 0.6087179487179487\n",
      "K = 2, Average Accuracy: 0.6928205128205128\n",
      "K = 3, Average Accuracy: 0.6535897435897435\n",
      "K = 4, Average Accuracy: 0.7058974358974359\n",
      "K = 5, Average Accuracy: 0.6738461538461539\n",
      "K = 6, Average Accuracy: 0.7074358974358974\n",
      "K = 7, Average Accuracy: 0.6892307692307693\n",
      "K = 8, Average Accuracy: 0.7143589743589744\n",
      "K = 9, Average Accuracy: 0.6976923076923077\n",
      "K = 10, Average Accuracy: 0.7176923076923077\n"
     ]
    }
   ],
   "source": [
    "from sklearn.model_selection import cross_val_score\n",
    "from sklearn.preprocessing import StandardScaler\n",
    "from sklearn.neighbors import KNeighborsClassifier\n",
    "\n",
    "# Assuming 'segments' is the target variable\n",
    "X = customer_data[['Purchase Amount (USD)', 'Age', 'Previous Purchases']]\n",
    "y = customer_data['Subscription Status']\n",
    "\n",
    "# Standardize the features\n",
    "scaler = StandardScaler()\n",
    "X_scaled = scaler.fit_transform(X)\n",
    "\n",
    "# Define a range of K values to test\n",
    "k_values = list(range(1, 11))\n",
    "\n",
    "# Evaluate each K value using cross-validation\n",
    "for k in k_values:\n",
    "    knn_model = KNeighborsClassifier(n_neighbors=k)\n",
    "    scores = cross_val_score(knn_model, X_scaled, y, cv=5)  # 5-fold cross-validation\n",
    "    average_accuracy = scores.mean()\n",
    "    print(f'K = {k}, Average Accuracy: {average_accuracy}')\n"
   ]
  },
  {
   "cell_type": "code",
   "execution_count": 103,
   "id": "fcb3c7b5",
   "metadata": {},
   "outputs": [
    {
     "name": "stdout",
     "output_type": "stream",
     "text": [
      "K = 1, Average Accuracy: 0.3271794871794872\n",
      "K = 2, Average Accuracy: 0.35948717948717945\n",
      "K = 3, Average Accuracy: 0.35\n",
      "K = 4, Average Accuracy: 0.35\n",
      "K = 5, Average Accuracy: 0.35743589743589743\n",
      "K = 6, Average Accuracy: 0.36282051282051286\n",
      "K = 7, Average Accuracy: 0.36743589743589744\n",
      "K = 8, Average Accuracy: 0.37025641025641026\n",
      "K = 9, Average Accuracy: 0.37025641025641026\n",
      "K = 10, Average Accuracy: 0.36589743589743595\n"
     ]
    }
   ],
   "source": [
    "from sklearn.model_selection import cross_val_score\n",
    "\n",
    "# Define a range of K values to test\n",
    "k_values = list(range(1, 11))\n",
    "\n",
    "# Evaluate each K value using cross-validation\n",
    "for k in k_values:\n",
    "    knn_model = KNeighborsClassifier(n_neighbors=k)\n",
    "    scores = cross_val_score(knn_model, X_scaled, y, cv=5)  # 5-fold cross-validation\n",
    "    average_accuracy = scores.mean()\n",
    "    print(f'K = {k}, Average Accuracy: {average_accuracy}')"
   ]
  },
  {
   "cell_type": "markdown",
   "id": "f72dbc03",
   "metadata": {},
   "source": [
    "# Q4"
   ]
  },
  {
   "cell_type": "code",
   "execution_count": 102,
   "id": "0b68ffa1",
   "metadata": {},
   "outputs": [
    {
     "name": "stdout",
     "output_type": "stream",
     "text": [
      "Accuracy: 0.3346153846153846\n"
     ]
    }
   ],
   "source": [
    "from sklearn.neighbors import KNeighborsClassifier\n",
    "from sklearn.model_selection import train_test_split\n",
    "from sklearn.metrics import accuracy_score\n",
    "\n",
    "# Assuming X_scaled is the preprocessed feature matrix, and y is the target variable\n",
    "X_train, X_test, y_train, y_test = train_test_split(X_scaled, y, test_size=0.2, random_state=42)\n",
    "\n",
    "# Assuming k_value is the chosen number of neighbors\n",
    "k_value = 5\n",
    "knn_model = KNeighborsClassifier(n_neighbors=k_value)\n",
    "\n",
    "# Train the KNN model\n",
    "knn_model.fit(X_train, y_train)\n",
    "\n",
    "# Predict on the test set\n",
    "y_pred = knn_model.predict(X_test)\n",
    "\n",
    "# Evaluate the model\n",
    "accuracy = accuracy_score(y_test, y_pred)\n",
    "print(f'Accuracy: {accuracy}')"
   ]
  },
  {
   "cell_type": "markdown",
   "id": "97033e1c",
   "metadata": {},
   "source": [
    "# Q5"
   ]
  },
  {
   "cell_type": "code",
   "execution_count": 88,
   "id": "ed5863b8",
   "metadata": {},
   "outputs": [
    {
     "name": "stderr",
     "output_type": "stream",
     "text": [
      "C:\\Users\\TmC\\anaconda3\\Lib\\site-packages\\sklearn\\preprocessing\\_encoders.py:975: FutureWarning: `sparse` was renamed to `sparse_output` in version 1.2 and will be removed in 1.4. `sparse_output` is ignored unless you leave `sparse` to its default value.\n",
      "  warnings.warn(\n"
     ]
    },
    {
     "data": {
      "image/png": "[encoded data removed]",
      "text/plain": [
       "<Figure size 800x600 with 1 Axes>"
      ]
     },
     "metadata": {},
     "output_type": "display_data"
    },
    {
     "data": {
      "image/png": "[encoded data removed]",
      "text/plain": [
       "<Figure size 1000x800 with 1 Axes>"
      ]
     },
     "metadata": {},
     "output_type": "display_data"
    }
   ],
   "source": [
    "import pandas as pd\n",
    "import matplotlib.pyplot as plt\n",
    "from sklearn.cluster import KMeans\n",
    "from sklearn.preprocessing import StandardScaler, OneHotEncoder\n",
    "from sklearn.compose import ColumnTransformer\n",
    "from sklearn.pipeline import Pipeline\n",
    "\n",
    "# Load your data (replace 'your_data.csv' with your actual data)\n",
    "data = pd.read_csv(\"C://Users//TmC//Downloads//archive (1)//shopping_trends_updated.csv\")\n",
    "\n",
    "# Select the features for segmentation (e.g., 'Review Rating', 'Age', 'Payment Method')\n",
    "selected_features = data[['Review Rating', 'Age', 'Payment Method']]\n",
    "\n",
    "# Define which columns are categorical and which are numerical\n",
    "categorical_features = [\"Payment Method\"]\n",
    "numerical_features = [\"Review Rating\", \"Age\"]\n",
    "\n",
    "# Create transformers for preprocessing\n",
    "categorical_transformer = Pipeline(steps=[\n",
    "    ('onehot', OneHotEncoder(sparse=False))\n",
    "])\n",
    "\n",
    "numerical_transformer = Pipeline(steps=[\n",
    "    ('scaler', StandardScaler())\n",
    "])\n",
    "\n",
    "# Combine the transformers using a ColumnTransformer\n",
    "preprocessor = ColumnTransformer(\n",
    "    transformers=[\n",
    "        ('num', numerical_transformer, numerical_features),\n",
    "        ('cat', categorical_transformer, categorical_features)\n",
    "    ])\n",
    "\n",
    "# Apply the preprocessing\n",
    "preprocessed_features = preprocessor.fit_transform(selected_features)\n",
    "\n",
    "# Determine the optimal number of clusters (K) using the Elbow Method\n",
    "wcss = []  # Within-Cluster Sum of Squares\n",
    "for i in range(1, 11):\n",
    "    kmeans = KMeans(n_clusters=i, init='k-means++', max_iter=300, n_init=10, random_state=0)\n",
    "    kmeans.fit(preprocessed_features)\n",
    "    wcss.append(kmeans.inertia_)\n",
    "\n",
    "# Plot the Elbow Method graph\n",
    "plt.figure(figsize=(8, 6))\n",
    "plt.plot(range(1, 11), wcss, marker='o', linestyle='--')\n",
    "plt.title('Elbow Method')\n",
    "plt.xlabel('Number of clusters (K)')\n",
    "plt.ylabel('WCSS')\n",
    "plt.show()\n",
    "\n",
    "# Based on the Elbow Method, choose an appropriate K (number of clusters)\n",
    "k = 3  # Adjust this value based on the Elbow Method plot\n",
    "\n",
    "# Apply K-Means clustering with the chosen K\n",
    "kmeans = KMeans(n_clusters=k, init='k-means++', max_iter=300, n_init=10, random_state=0)\n",
    "data['Cluster'] = kmeans.fit_predict(preprocessed_features)\n",
    "\n",
    "# Visualize the customer segments\n",
    "plt.figure(figsize=(10, 8))\n",
    "for cluster in range(k):\n",
    "    plt.scatter(data[data['Cluster'] == cluster]['Age'], data[data['Cluster'] == cluster]['Review Rating'], label=f'Cluster {cluster}')\n",
    "\n",
    "plt.scatter(kmeans.cluster_centers_[:, 1], kmeans.cluster_centers_[:, 0], s=300, c='red', label='Centroids')\n",
    "plt.title('Customer Segmentation')\n",
    "plt.xlabel('Age')\n",
    "plt.ylabel('Review Rating')\n",
    "plt.legend()\n",
    "plt.show()\n"
   ]
  },
  {
   "cell_type": "markdown",
   "id": "c087a487",
   "metadata": {},
   "source": [
    "# Q7"
   ]
  },
  {
   "cell_type": "code",
   "execution_count": 101,
   "id": "a54e4f76",
   "metadata": {},
   "outputs": [
    {
     "name": "stderr",
     "output_type": "stream",
     "text": [
      "C:\\Users\\TmC\\anaconda3\\Lib\\site-packages\\sklearn\\cluster\\_kmeans.py:1416: FutureWarning: The default value of `n_init` will change from 10 to 'auto' in 1.4. Set the value of `n_init` explicitly to suppress the warning\n",
      "  super()._check_params_vs_input(X, default_n_init=10)\n"
     ]
    },
    {
     "name": "stdout",
     "output_type": "stream",
     "text": [
      "Silhouette Score: 0.55\n",
      "   Review Rating  Previous Purchases  Cluster\n",
      "0       3.743494           33.901524        0\n",
      "1       3.788277            4.798023        1\n",
      "2       3.767769           45.007084        2\n",
      "3       3.751375           23.467500        3\n",
      "4       3.695231           13.960983        4\n"
     ]
    }
   ],
   "source": [
    "import pandas as pd\n",
    "from sklearn.cluster import KMeans\n",
    "from sklearn.metrics import silhouette_score\n",
    "\n",
    "# Load your preprocessed data\n",
    "data = pd.read_csv(\"C://Users//TmC//Downloads//archive (1)//shopping_trends_updated.csv\")\n",
    "\n",
    "# Define your features for clustering (e.g., using numerical columns)\n",
    "X = data[['Review Rating', 'Previous Purchases']]\n",
    "\n",
    "# Choose the number of clusters (you can experiment with different values)\n",
    "n_clusters = 5\n",
    "\n",
    "# Fit K-Means clustering model\n",
    "kmeans = KMeans(n_clusters=n_clusters, random_state=42)\n",
    "data['Cluster'] = kmeans.fit_predict(X)\n",
    "\n",
    "# Calculate silhouette score to evaluate the model\n",
    "silhouette_avg = silhouette_score(X, data['Cluster'])\n",
    "print(f'Silhouette Score: {silhouette_avg:.2f}')\n",
    "\n",
    "# Analyze the clusters\n",
    "cluster_centers = pd.DataFrame(kmeans.cluster_centers_, columns=['Review Rating', 'Previous Purchases'])\n",
    "cluster_centers['Cluster'] = range(n_clusters)\n",
    "print(cluster_centers)\n",
    "\n",
    "# Interpretation and marketing insights can be provided here.\n"
   ]
  },
  {
   "cell_type": "markdown",
   "id": "fd2440d7",
   "metadata": {},
   "source": [
    "# Q6"
   ]
  },
  {
   "cell_type": "code",
   "execution_count": null,
   "id": "e02fd0ed",
   "metadata": {},
   "outputs": [],
   "source": [
    "# from sklearn.model_selection import GridSearchCV\n",
    "\n",
    "# Define a range of K values to test\n",
    "param_grid = {'n_neighbors': list(range(1, 21))}\n",
    "\n",
    "# Create KNN model\n",
    "knn_model = KNeighborsClassifier()\n",
    "\n",
    "# Use GridSearchCV for hyperparameter tuning\n",
    "grid_search = GridSearchCV(knn_model, param_grid, cv=5, scoring='accuracy')\n",
    "grid_search.fit(X_scaled, y)\n",
    "\n",
    "# Get the best hyperparameter values\n",
    "best_k = grid_search.best_params_['n_neighbors']\n",
    "best_accuracy = grid_search.best_score_\n",
    "\n",
    "print(f'Best K: {best_k}, Best Accuracy: {best_accuracy}')"
   ]
  },
  {
   "cell_type": "markdown",
   "id": "80dd715a",
   "metadata": {},
   "source": [
    "# Q8"
   ]
  },
  {
   "cell_type": "code",
   "execution_count": 111,
   "id": "a934768a",
   "metadata": {},
   "outputs": [
    {
     "name": "stderr",
     "output_type": "stream",
     "text": [
      "C:\\Users\\TmC\\anaconda3\\Lib\\site-packages\\sklearn\\cluster\\_kmeans.py:1416: FutureWarning: The default value of `n_init` will change from 10 to 'auto' in 1.4. Set the value of `n_init` explicitly to suppress the warning\n",
      "  super()._check_params_vs_input(X, default_n_init=10)\n"
     ]
    },
    {
     "name": "stdout",
     "output_type": "stream",
     "text": [
      "Product Recommendations for Segment 0:\n",
      "   product_id product_name\n",
      "4           5    Product_5\n",
      "9          10   Product_10\n",
      "3           4    Product_4\n"
     ]
    }
   ],
   "source": [
    "from sklearn.cluster import KMeans\n",
    "import pandas as pd\n",
    "\n",
    "# Assuming customer_data is the preprocessed DataFrame with features\n",
    "X = customer_data[['Purchase Amount (USD)', 'Age', 'Previous Purchases']]\n",
    "\n",
    "# Choose the number of clusters (segments)\n",
    "num_clusters = 3\n",
    "kmeans = KMeans(n_clusters=num_clusters, random_state=42)\n",
    "customer_data['Subscription Status'] = kmeans.fit_predict(X)\n",
    "\n",
    "# Assume you have a product catalog DataFrame\n",
    "product_catalog = pd.DataFrame({\n",
    "    'product_id': range(1, 11),\n",
    "    'product_name': [f'Product_{i}' for i in range(1, 11)]\n",
    "})\n",
    "\n",
    "# Define a function to recommend products for a given customer segment\n",
    "def recommend_products(segment):\n",
    "    segment_products = product_catalog.sample(3)  # Recommend 3 random products\n",
    "    return segment_products\n",
    "\n",
    "# Example: Recommend products for customers in segment 0\n",
    "segment_0_recommendations = recommend_products(0)\n",
    "print(\"Product Recommendations for Segment 0:\")\n",
    "print(segment_0_recommendations)"
   ]
  },
  {
   "cell_type": "markdown",
   "id": "9bffc441",
   "metadata": {},
   "source": [
    "# Q9"
   ]
  },
  {
   "cell_type": "code",
   "execution_count": 108,
   "id": "f57c2156",
   "metadata": {},
   "outputs": [
    {
     "data": {
      "image/png": "[encoded data removed]",
      "text/plain": [
       "<Figure size 640x480 with 1 Axes>"
      ]
     },
     "metadata": {},
     "output_type": "display_data"
    }
   ],
   "source": [
    "import numpy as np\n",
    "import matplotlib.pyplot as plt\n",
    "from sklearn.datasets import make_classification\n",
    "from sklearn.neighbors import KNeighborsClassifier\n",
    "\n",
    "# Create a synthetic dataset with outliers\n",
    "X, y = make_classification(n_samples=100, n_features=2, n_informative=2, n_redundant=0, random_state=42)\n",
    "X[-1] = [4, 2]  # Adding an outlier\n",
    "\n",
    "# Train KNN model\n",
    "knn_model = KNeighborsClassifier(n_neighbors=3)\n",
    "knn_model.fit(X, y)\n",
    "\n",
    "# Plot decision boundary\n",
    "h = 0.02\n",
    "x_min, x_max = X[:, 0].min() - 1, X[:, 0].max() + 1\n",
    "y_min, y_max = X[:, 1].min() - 1, X[:, 1].max() + 1\n",
    "xx, yy = np.meshgrid(np.arange(x_min, x_max, h), np.arange(y_min, y_max, h))\n",
    "Z = knn_model.predict(np.c_[xx.ravel(), yy.ravel()])\n",
    "Z = Z.reshape(xx.shape)\n",
    "\n",
    "# Plot the dataset and decision boundary\n",
    "plt.contourf(xx, yy, Z, cmap=plt.cm.Paired, alpha=0.8)\n",
    "plt.scatter(X[:, 0], X[:, 1], c=y, edgecolors='k', marker='o', s=100)\n",
    "plt.title(\"KNN Decision Boundary with Outlier\")\n",
    "plt.show()"
   ]
  }
 ],
 "metadata": {
  "kernelspec": {
   "display_name": "Python 3 (ipykernel)",
   "language": "python",
   "name": "python3"
  },
  "language_info": {
   "codemirror_mode": {
    "name": "ipython",
    "version": 3
   },
   "file_extension": ".py",
   "mimetype": "text/x-python",
   "name": "python",
   "nbconvert_exporter": "python",
   "pygments_lexer": "ipython3",
   "version": "3.11.4"
  }
 },
 "nbformat": 4,
 "nbformat_minor": 5
}
